{
 "cells": [
  {
   "cell_type": "markdown",
   "metadata": {},
   "source": [
    "# Correlations of crime and land use in Chicago\n",
    "\n",
    "# Capstone project IBM Data Science\n",
    "\n",
    "I would explore the correlations between the amount and types of crimes committed in a community area and the venues located there.  \n",
    "\n",
    "The relations between crime and socioeconomic conditions are unclear. Often there are contradictory reports on whether difficult economic conditions create more crime or whether a booming economy that increases the availability of money and goods promotes crime. Nevertheless, it is important to do not dismiss possible connections between the economy and crime. In this project, I will try to find if the crimes committed in community areas with similar socioeconomic have a relation with the land use. For example, let's suppose that  A and B are community areas with similar economic conditions, but area A is much safer than area B. I want to see if the types of venues in area A are similar to those in area B. If they are not similar, then study what types of venues are present in the safer environment.  The venues could be parks, liquor shops, restaurants among others. \n",
    "\n",
    "Also, venues that reduce crime in one type of area do not necessarily affect crime in other types of areas.  One hypothesis here is that parks can be that kind of venue. In areas with a high rate of crime, social interactions can induce people to become criminals. Parks promote social interaction.  Therefore parks there contribute to crime. On the other hand, parks will not affect crime in areas with low rate crime. \n",
    "\n",
    "This project could help policymakers to design safer neighborhoods by building or closing venues to reduce crime. "
   ]
  },
  {
   "cell_type": "markdown",
   "metadata": {},
   "source": [
    "# Data\n",
    "\n",
    "To reduce the effects of variables not considered in this project I will only compare neighborhoods in the same city.  Due to the availability of the data, I choose Chicago. The datasets of the crime and economic status of the neighborhoods in Chicago were already given in previous courses of this certification.   "
   ]
  },
  {
   "cell_type": "code",
   "execution_count": 1,
   "metadata": {},
   "outputs": [],
   "source": [
    "import csv\n",
    "import pandas as pd\n",
    "\n",
    "import json # library to handle JSON files\n",
    "\n",
    "from geopy.geocoders import Nominatim # convert an address into latitude and longitude values\n",
    "\n",
    "import requests # library to handle requests\n",
    "from pandas.io.json import json_normalize # tranform JSON file into a pandas dataframe\n",
    "\n",
    "# Matplotlib and associated plotting modules\n",
    "import matplotlib.cm as cm\n",
    "import matplotlib.colors as colors\n",
    "\n",
    "# import k-means from clustering stage\n",
    "from sklearn.cluster import KMeans\n",
    "\n",
    "\n",
    "import folium # map rendering library\n",
    "import numpy as np\n",
    "import matplotlib.pyplot as plt"
   ]
  },
  {
   "cell_type": "code",
   "execution_count": 2,
   "metadata": {},
   "outputs": [
    {
     "data": {
      "text/html": [
       "<div>\n",
       "<style scoped>\n",
       "    .dataframe tbody tr th:only-of-type {\n",
       "        vertical-align: middle;\n",
       "    }\n",
       "\n",
       "    .dataframe tbody tr th {\n",
       "        vertical-align: top;\n",
       "    }\n",
       "\n",
       "    .dataframe thead th {\n",
       "        text-align: right;\n",
       "    }\n",
       "</style>\n",
       "<table border=\"1\" class=\"dataframe\">\n",
       "  <thead>\n",
       "    <tr style=\"text-align: right;\">\n",
       "      <th></th>\n",
       "      <th>COMMUNITY_AREA_NUMBER</th>\n",
       "      <th>COMMUNITY_AREA_NAME</th>\n",
       "      <th>PERCENT OF HOUSING CROWDED</th>\n",
       "      <th>PERCENT HOUSEHOLDS BELOW POVERTY</th>\n",
       "      <th>PERCENT AGED 16+ UNEMPLOYED</th>\n",
       "      <th>PERCENT AGED 25+ WITHOUT HIGH SCHOOL DIPLOMA</th>\n",
       "      <th>PERCENT AGED UNDER 18 OR OVER 64</th>\n",
       "      <th>PER_CAPITA_INCOME</th>\n",
       "      <th>HARDSHIP_INDEX</th>\n",
       "    </tr>\n",
       "  </thead>\n",
       "  <tbody>\n",
       "    <tr>\n",
       "      <th>0</th>\n",
       "      <td>1.0</td>\n",
       "      <td>Rogers Park</td>\n",
       "      <td>7.7</td>\n",
       "      <td>23.6</td>\n",
       "      <td>8.7</td>\n",
       "      <td>18.2</td>\n",
       "      <td>27.5</td>\n",
       "      <td>23939</td>\n",
       "      <td>39.0</td>\n",
       "    </tr>\n",
       "    <tr>\n",
       "      <th>1</th>\n",
       "      <td>2.0</td>\n",
       "      <td>West Ridge</td>\n",
       "      <td>7.8</td>\n",
       "      <td>17.2</td>\n",
       "      <td>8.8</td>\n",
       "      <td>20.8</td>\n",
       "      <td>38.5</td>\n",
       "      <td>23040</td>\n",
       "      <td>46.0</td>\n",
       "    </tr>\n",
       "  </tbody>\n",
       "</table>\n",
       "</div>"
      ],
      "text/plain": [
       "   COMMUNITY_AREA_NUMBER COMMUNITY_AREA_NAME  PERCENT OF HOUSING CROWDED  \\\n",
       "0                    1.0         Rogers Park                         7.7   \n",
       "1                    2.0          West Ridge                         7.8   \n",
       "\n",
       "   PERCENT HOUSEHOLDS BELOW POVERTY  PERCENT AGED 16+ UNEMPLOYED  \\\n",
       "0                              23.6                          8.7   \n",
       "1                              17.2                          8.8   \n",
       "\n",
       "   PERCENT AGED 25+ WITHOUT HIGH SCHOOL DIPLOMA  \\\n",
       "0                                          18.2   \n",
       "1                                          20.8   \n",
       "\n",
       "   PERCENT AGED UNDER 18 OR OVER 64  PER_CAPITA_INCOME   HARDSHIP_INDEX  \n",
       "0                              27.5               23939            39.0  \n",
       "1                              38.5               23040            46.0  "
      ]
     },
     "execution_count": 2,
     "metadata": {},
     "output_type": "execute_result"
    }
   ],
   "source": [
    "economic_data = pd.read_csv(\"Census_Data_Selected_socioeconomic_indicators_in_Chicago__2008___2012.csv\")\n",
    "economic_data.head(2)"
   ]
  },
  {
   "cell_type": "markdown",
   "metadata": {},
   "source": [
    "This dataset contain 9 parameters. I will only describe the ones that are not clear. \n",
    "\n",
    "**Percent of housing crowded**: Percentage of houses with more people than rooms.\n",
    "\n",
    "**Percent households below poverty**: Percentage of houses with an income less than the federal poverty level. In 2012 it was an income of 23 050 for a family of 4.\n",
    "\n",
    "**Hardship index**: It is an score that combines the 6 socioeconomic indicators in this dataset.\n",
    "\n",
    "I plan to cluster the data set, to obtain similar socieconomic community areas."
   ]
  },
  {
   "cell_type": "code",
   "execution_count": 3,
   "metadata": {},
   "outputs": [
    {
     "data": {
      "text/html": [
       "<div>\n",
       "<style scoped>\n",
       "    .dataframe tbody tr th:only-of-type {\n",
       "        vertical-align: middle;\n",
       "    }\n",
       "\n",
       "    .dataframe tbody tr th {\n",
       "        vertical-align: top;\n",
       "    }\n",
       "\n",
       "    .dataframe thead th {\n",
       "        text-align: right;\n",
       "    }\n",
       "</style>\n",
       "<table border=\"1\" class=\"dataframe\">\n",
       "  <thead>\n",
       "    <tr style=\"text-align: right;\">\n",
       "      <th></th>\n",
       "      <th>ID</th>\n",
       "      <th>PRIMARY_TYPE</th>\n",
       "      <th>DESCRIPTION</th>\n",
       "      <th>LOCATION_DESCRIPTION</th>\n",
       "      <th>ARREST</th>\n",
       "      <th>DOMESTIC</th>\n",
       "      <th>COMMUNITY_AREA_NUMBER</th>\n",
       "      <th>FBICODE</th>\n",
       "      <th>LATITUDE</th>\n",
       "      <th>LONGITUDE</th>\n",
       "    </tr>\n",
       "  </thead>\n",
       "  <tbody>\n",
       "    <tr>\n",
       "      <th>0</th>\n",
       "      <td>3512276</td>\n",
       "      <td>THEFT</td>\n",
       "      <td>FROM BUILDING</td>\n",
       "      <td>SMALL RETAIL STORE</td>\n",
       "      <td>False</td>\n",
       "      <td>False</td>\n",
       "      <td>58.0</td>\n",
       "      <td>6</td>\n",
       "      <td>41.807441</td>\n",
       "      <td>-87.703956</td>\n",
       "    </tr>\n",
       "    <tr>\n",
       "      <th>1</th>\n",
       "      <td>3406613</td>\n",
       "      <td>THEFT</td>\n",
       "      <td>$500 AND UNDER</td>\n",
       "      <td>OTHER</td>\n",
       "      <td>False</td>\n",
       "      <td>False</td>\n",
       "      <td>23.0</td>\n",
       "      <td>6</td>\n",
       "      <td>41.898280</td>\n",
       "      <td>-87.716406</td>\n",
       "    </tr>\n",
       "  </tbody>\n",
       "</table>\n",
       "</div>"
      ],
      "text/plain": [
       "        ID PRIMARY_TYPE     DESCRIPTION LOCATION_DESCRIPTION  ARREST  \\\n",
       "0  3512276        THEFT   FROM BUILDING   SMALL RETAIL STORE   False   \n",
       "1  3406613        THEFT  $500 AND UNDER                OTHER   False   \n",
       "\n",
       "   DOMESTIC  COMMUNITY_AREA_NUMBER FBICODE   LATITUDE  LONGITUDE  \n",
       "0     False                   58.0       6  41.807441 -87.703956  \n",
       "1     False                   23.0       6  41.898280 -87.716406  "
      ]
     },
     "execution_count": 3,
     "metadata": {},
     "output_type": "execute_result"
    }
   ],
   "source": [
    "crime_data=pd.read_csv(\"Chicago_Crime_Data.csv\")\n",
    "crime_data=crime_data.drop([\"CASE_NUMBER\",\"DATE\",\"BLOCK\",\"IUCR\",\"BEAT\",\"DISTRICT\",\"WARD\",\"X_COORDINATE\",\"Y_COORDINATE\",\"YEAR\",\"UPDATEDON\",\"LOCATION\"], axis=1)\n",
    "crime_data.head(2)"
   ]
  },
  {
   "cell_type": "markdown",
   "metadata": {},
   "source": [
    "I only left the relevent information to project. That is the crimes, the types of crimes and their location. The **FBICODE** is a classification of crimes."
   ]
  },
  {
   "cell_type": "markdown",
   "metadata": {},
   "source": [
    "## Venues in a community area\n",
    "\n",
    "To obtain the venues in an area, I need the location of the area. I will take the locaction of an area as the average location of the crimes within that area. "
   ]
  },
  {
   "cell_type": "code",
   "execution_count": 4,
   "metadata": {},
   "outputs": [
    {
     "data": {
      "text/html": [
       "<div>\n",
       "<style scoped>\n",
       "    .dataframe tbody tr th:only-of-type {\n",
       "        vertical-align: middle;\n",
       "    }\n",
       "\n",
       "    .dataframe tbody tr th {\n",
       "        vertical-align: top;\n",
       "    }\n",
       "\n",
       "    .dataframe thead th {\n",
       "        text-align: right;\n",
       "    }\n",
       "</style>\n",
       "<table border=\"1\" class=\"dataframe\">\n",
       "  <thead>\n",
       "    <tr style=\"text-align: right;\">\n",
       "      <th></th>\n",
       "      <th>LATITUDE</th>\n",
       "      <th>LONGITUDE</th>\n",
       "    </tr>\n",
       "    <tr>\n",
       "      <th>COMMUNITY_AREA_NUMBER</th>\n",
       "      <th></th>\n",
       "      <th></th>\n",
       "    </tr>\n",
       "  </thead>\n",
       "  <tbody>\n",
       "    <tr>\n",
       "      <th>1.0</th>\n",
       "      <td>42.013645</td>\n",
       "      <td>-87.673434</td>\n",
       "    </tr>\n",
       "    <tr>\n",
       "      <th>2.0</th>\n",
       "      <td>41.995488</td>\n",
       "      <td>-87.699195</td>\n",
       "    </tr>\n",
       "  </tbody>\n",
       "</table>\n",
       "</div>"
      ],
      "text/plain": [
       "                        LATITUDE  LONGITUDE\n",
       "COMMUNITY_AREA_NUMBER                      \n",
       "1.0                    42.013645 -87.673434\n",
       "2.0                    41.995488 -87.699195"
      ]
     },
     "execution_count": 4,
     "metadata": {},
     "output_type": "execute_result"
    }
   ],
   "source": [
    "location=crime_data.groupby([\"COMMUNITY_AREA_NUMBER\"]).mean()\n",
    "location=location.drop([\"ID\",\"ARREST\",\"DOMESTIC\"], axis=1)\n",
    "location.head(2)"
   ]
  },
  {
   "cell_type": "markdown",
   "metadata": {},
   "source": [
    "I create a dataframe with community areas names, community area number, latitude and longitude."
   ]
  },
  {
   "cell_type": "code",
   "execution_count": 5,
   "metadata": {},
   "outputs": [],
   "source": [
    "location_name=pd.merge(economic_data,location, on=\"COMMUNITY_AREA_NUMBER\")"
   ]
  },
  {
   "cell_type": "code",
   "execution_count": 6,
   "metadata": {},
   "outputs": [
    {
     "data": {
      "text/html": [
       "<div>\n",
       "<style scoped>\n",
       "    .dataframe tbody tr th:only-of-type {\n",
       "        vertical-align: middle;\n",
       "    }\n",
       "\n",
       "    .dataframe tbody tr th {\n",
       "        vertical-align: top;\n",
       "    }\n",
       "\n",
       "    .dataframe thead th {\n",
       "        text-align: right;\n",
       "    }\n",
       "</style>\n",
       "<table border=\"1\" class=\"dataframe\">\n",
       "  <thead>\n",
       "    <tr style=\"text-align: right;\">\n",
       "      <th></th>\n",
       "      <th>COMMUNITY_AREA_NUMBER</th>\n",
       "      <th>COMMUNITY_AREA_NAME</th>\n",
       "      <th>PERCENT OF HOUSING CROWDED</th>\n",
       "      <th>PERCENT HOUSEHOLDS BELOW POVERTY</th>\n",
       "      <th>PERCENT AGED 16+ UNEMPLOYED</th>\n",
       "      <th>PERCENT AGED 25+ WITHOUT HIGH SCHOOL DIPLOMA</th>\n",
       "      <th>PERCENT AGED UNDER 18 OR OVER 64</th>\n",
       "      <th>PER_CAPITA_INCOME</th>\n",
       "      <th>HARDSHIP_INDEX</th>\n",
       "      <th>LATITUDE</th>\n",
       "      <th>LONGITUDE</th>\n",
       "    </tr>\n",
       "  </thead>\n",
       "  <tbody>\n",
       "    <tr>\n",
       "      <th>0</th>\n",
       "      <td>1.0</td>\n",
       "      <td>Rogers Park</td>\n",
       "      <td>7.7</td>\n",
       "      <td>23.6</td>\n",
       "      <td>8.7</td>\n",
       "      <td>18.2</td>\n",
       "      <td>27.5</td>\n",
       "      <td>23939</td>\n",
       "      <td>39.0</td>\n",
       "      <td>42.013645</td>\n",
       "      <td>-87.673434</td>\n",
       "    </tr>\n",
       "    <tr>\n",
       "      <th>1</th>\n",
       "      <td>2.0</td>\n",
       "      <td>West Ridge</td>\n",
       "      <td>7.8</td>\n",
       "      <td>17.2</td>\n",
       "      <td>8.8</td>\n",
       "      <td>20.8</td>\n",
       "      <td>38.5</td>\n",
       "      <td>23040</td>\n",
       "      <td>46.0</td>\n",
       "      <td>41.995488</td>\n",
       "      <td>-87.699195</td>\n",
       "    </tr>\n",
       "    <tr>\n",
       "      <th>2</th>\n",
       "      <td>3.0</td>\n",
       "      <td>Uptown</td>\n",
       "      <td>3.8</td>\n",
       "      <td>24.0</td>\n",
       "      <td>8.9</td>\n",
       "      <td>11.8</td>\n",
       "      <td>22.2</td>\n",
       "      <td>35787</td>\n",
       "      <td>20.0</td>\n",
       "      <td>41.965424</td>\n",
       "      <td>-87.653356</td>\n",
       "    </tr>\n",
       "    <tr>\n",
       "      <th>3</th>\n",
       "      <td>4.0</td>\n",
       "      <td>Lincoln Square</td>\n",
       "      <td>3.4</td>\n",
       "      <td>10.9</td>\n",
       "      <td>8.2</td>\n",
       "      <td>13.4</td>\n",
       "      <td>25.5</td>\n",
       "      <td>37524</td>\n",
       "      <td>17.0</td>\n",
       "      <td>41.971693</td>\n",
       "      <td>-87.688144</td>\n",
       "    </tr>\n",
       "    <tr>\n",
       "      <th>4</th>\n",
       "      <td>5.0</td>\n",
       "      <td>North Center</td>\n",
       "      <td>0.3</td>\n",
       "      <td>7.5</td>\n",
       "      <td>5.2</td>\n",
       "      <td>4.5</td>\n",
       "      <td>26.2</td>\n",
       "      <td>57123</td>\n",
       "      <td>6.0</td>\n",
       "      <td>41.945273</td>\n",
       "      <td>-87.682741</td>\n",
       "    </tr>\n",
       "  </tbody>\n",
       "</table>\n",
       "</div>"
      ],
      "text/plain": [
       "   COMMUNITY_AREA_NUMBER COMMUNITY_AREA_NAME  PERCENT OF HOUSING CROWDED  \\\n",
       "0                    1.0         Rogers Park                         7.7   \n",
       "1                    2.0          West Ridge                         7.8   \n",
       "2                    3.0              Uptown                         3.8   \n",
       "3                    4.0      Lincoln Square                         3.4   \n",
       "4                    5.0        North Center                         0.3   \n",
       "\n",
       "   PERCENT HOUSEHOLDS BELOW POVERTY  PERCENT AGED 16+ UNEMPLOYED  \\\n",
       "0                              23.6                          8.7   \n",
       "1                              17.2                          8.8   \n",
       "2                              24.0                          8.9   \n",
       "3                              10.9                          8.2   \n",
       "4                               7.5                          5.2   \n",
       "\n",
       "   PERCENT AGED 25+ WITHOUT HIGH SCHOOL DIPLOMA  \\\n",
       "0                                          18.2   \n",
       "1                                          20.8   \n",
       "2                                          11.8   \n",
       "3                                          13.4   \n",
       "4                                           4.5   \n",
       "\n",
       "   PERCENT AGED UNDER 18 OR OVER 64  PER_CAPITA_INCOME   HARDSHIP_INDEX  \\\n",
       "0                              27.5               23939            39.0   \n",
       "1                              38.5               23040            46.0   \n",
       "2                              22.2               35787            20.0   \n",
       "3                              25.5               37524            17.0   \n",
       "4                              26.2               57123             6.0   \n",
       "\n",
       "    LATITUDE  LONGITUDE  \n",
       "0  42.013645 -87.673434  \n",
       "1  41.995488 -87.699195  \n",
       "2  41.965424 -87.653356  \n",
       "3  41.971693 -87.688144  \n",
       "4  41.945273 -87.682741  "
      ]
     },
     "execution_count": 6,
     "metadata": {},
     "output_type": "execute_result"
    }
   ],
   "source": [
    "location_name.head()"
   ]
  },
  {
   "cell_type": "markdown",
   "metadata": {},
   "source": [
    "I obtain the venues using the functions defined in the course."
   ]
  },
  {
   "cell_type": "code",
   "execution_count": 7,
   "metadata": {},
   "outputs": [],
   "source": [
    "CLIENT_ID = '3DUVJBPGEYCLZNSAIGXGADMURJJU5GSLR2KEQQHLU0IO2NZY' # your Foursquare ID\n",
    "CLIENT_SECRET = 'RZ3O03B0L2QIKFWYPJKQCGPN4VEYAETNCM5SPQV0SZM13WOI' # your Foursquare Secret\n",
    "VERSION = '20180605'"
   ]
  },
  {
   "cell_type": "code",
   "execution_count": 8,
   "metadata": {},
   "outputs": [],
   "source": [
    "LIMIT = 50 # limit of number of venues returned by Foursquare API It was 100 originaly\n",
    "\n",
    "radius = 500 # define radius"
   ]
  },
  {
   "cell_type": "code",
   "execution_count": 9,
   "metadata": {},
   "outputs": [],
   "source": [
    "def getNearbyVenues(names, latitudes, longitudes, radius=500):\n",
    "    \n",
    "    venues_list=[]\n",
    "    for name, lat, lng in zip(names, latitudes, longitudes):\n",
    "        print(name)\n",
    "            \n",
    "        # create the API request URL\n",
    "        url = 'https://api.foursquare.com/v2/venues/explore?&client_id={}&client_secret={}&v={}&ll={},{}&radius={}&limit={}'.format(\n",
    "            CLIENT_ID, \n",
    "            CLIENT_SECRET, \n",
    "            VERSION, \n",
    "            lat, \n",
    "            lng, \n",
    "            radius, \n",
    "            LIMIT)\n",
    "            \n",
    "        # make the GET request\n",
    "        results = requests.get(url).json()[\"response\"]['groups'][0]['items']\n",
    "        \n",
    "        # return only relevant information for each nearby venue\n",
    "        venues_list.append([(\n",
    "            name, \n",
    "            lat, \n",
    "            lng, \n",
    "            v['venue']['name'], \n",
    "            v['venue']['location']['lat'], \n",
    "            v['venue']['location']['lng'],  \n",
    "            v['venue']['categories'][0]['name']) for v in results])\n",
    "\n",
    "    nearby_venues = pd.DataFrame([item for venue_list in venues_list for item in venue_list])\n",
    "    nearby_venues.columns = ['COMMUNITY_AREA_NAME', \n",
    "                  'Area Latitude', \n",
    "                  'Area Longitude', \n",
    "                  'Venue', \n",
    "                  'Venue Latitude', \n",
    "                  'Venue Longitude', \n",
    "                  'Venue Category']\n",
    "    \n",
    "    return(nearby_venues)"
   ]
  },
  {
   "cell_type": "code",
   "execution_count": 10,
   "metadata": {},
   "outputs": [
    {
     "name": "stdout",
     "output_type": "stream",
     "text": [
      "Rogers Park\n",
      "West Ridge\n",
      "Uptown\n",
      "Lincoln Square\n",
      "North Center\n",
      "Lake View\n",
      "Lincoln Park\n",
      "Near North Side\n",
      "Norwood Park\n",
      "Jefferson Park\n",
      "Forest Glen\n",
      "Albany Park\n",
      "Portage Park\n",
      "Irving Park\n",
      "Dunning\n",
      "Montclaire\n",
      "Belmont Cragin\n",
      "Hermosa\n",
      "Avondale\n",
      "Logan Square\n",
      "Humboldt park\n",
      "West Town\n",
      "Austin\n",
      "West Garfield Park\n",
      "East Garfield Park\n",
      "Near West Side\n",
      "North Lawndale\n",
      "South Lawndale\n",
      "Lower West Side\n",
      "Loop\n",
      "Near South Side\n",
      "Douglas\n",
      "Fuller Park\n",
      "Grand Boulevard\n",
      "Kenwood\n",
      "Hyde Park\n",
      "Woodlawn\n",
      "South Shore\n",
      "Chatham\n",
      "Avalon Park\n",
      "South Chicago\n",
      "Burnside\n",
      "Calumet Heights\n",
      "Roseland\n",
      "Pullman\n",
      "South Deering\n",
      "East Side\n",
      "West Pullman\n",
      "Riverdale\n",
      "Hegewisch\n",
      "Garfield Ridge\n",
      "Brighton Park\n",
      "McKinley Park\n",
      "Bridgeport\n",
      "New City\n",
      "West Elsdon\n",
      "Gage Park\n",
      "Clearing\n",
      "West Lawn\n",
      "Chicago Lawn\n",
      "West Englewood\n",
      "Englewood\n",
      "Greater Grand Crossing\n",
      "Ashburn\n",
      "Auburn Gresham\n",
      "Beverly\n",
      "Washington Height\n",
      "Morgan Park\n",
      "O'Hare\n",
      "Edgewater\n"
     ]
    }
   ],
   "source": [
    "chicago_venues = getNearbyVenues(names=location_name['COMMUNITY_AREA_NAME'],\n",
    "                                   latitudes=location_name['LATITUDE'],\n",
    "                                   longitudes=location_name['LONGITUDE']\n",
    "                                  )"
   ]
  },
  {
   "cell_type": "code",
   "execution_count": 11,
   "metadata": {},
   "outputs": [
    {
     "name": "stdout",
     "output_type": "stream",
     "text": [
      "(1207, 7)\n"
     ]
    },
    {
     "data": {
      "text/html": [
       "<div>\n",
       "<style scoped>\n",
       "    .dataframe tbody tr th:only-of-type {\n",
       "        vertical-align: middle;\n",
       "    }\n",
       "\n",
       "    .dataframe tbody tr th {\n",
       "        vertical-align: top;\n",
       "    }\n",
       "\n",
       "    .dataframe thead th {\n",
       "        text-align: right;\n",
       "    }\n",
       "</style>\n",
       "<table border=\"1\" class=\"dataframe\">\n",
       "  <thead>\n",
       "    <tr style=\"text-align: right;\">\n",
       "      <th></th>\n",
       "      <th>COMMUNITY_AREA_NAME</th>\n",
       "      <th>Area Latitude</th>\n",
       "      <th>Area Longitude</th>\n",
       "      <th>Venue</th>\n",
       "      <th>Venue Latitude</th>\n",
       "      <th>Venue Longitude</th>\n",
       "      <th>Venue Category</th>\n",
       "    </tr>\n",
       "  </thead>\n",
       "  <tbody>\n",
       "    <tr>\n",
       "      <th>0</th>\n",
       "      <td>Rogers Park</td>\n",
       "      <td>42.013645</td>\n",
       "      <td>-87.673434</td>\n",
       "      <td>Taqueria &amp; Restaurant Cd. Hidalgo</td>\n",
       "      <td>42.011634</td>\n",
       "      <td>-87.674484</td>\n",
       "      <td>Mexican Restaurant</td>\n",
       "    </tr>\n",
       "    <tr>\n",
       "      <th>1</th>\n",
       "      <td>Rogers Park</td>\n",
       "      <td>42.013645</td>\n",
       "      <td>-87.673434</td>\n",
       "      <td>El Famous Burrito</td>\n",
       "      <td>42.010421</td>\n",
       "      <td>-87.674204</td>\n",
       "      <td>Mexican Restaurant</td>\n",
       "    </tr>\n",
       "    <tr>\n",
       "      <th>2</th>\n",
       "      <td>Rogers Park</td>\n",
       "      <td>42.013645</td>\n",
       "      <td>-87.673434</td>\n",
       "      <td>Romanian Kosher Sausage Co.</td>\n",
       "      <td>42.012765</td>\n",
       "      <td>-87.674692</td>\n",
       "      <td>Deli / Bodega</td>\n",
       "    </tr>\n",
       "    <tr>\n",
       "      <th>3</th>\n",
       "      <td>Rogers Park</td>\n",
       "      <td>42.013645</td>\n",
       "      <td>-87.673434</td>\n",
       "      <td>Pottawattomie Park</td>\n",
       "      <td>42.015112</td>\n",
       "      <td>-87.676928</td>\n",
       "      <td>Park</td>\n",
       "    </tr>\n",
       "    <tr>\n",
       "      <th>4</th>\n",
       "      <td>Rogers Park</td>\n",
       "      <td>42.013645</td>\n",
       "      <td>-87.673434</td>\n",
       "      <td>R Public House</td>\n",
       "      <td>42.016032</td>\n",
       "      <td>-87.668571</td>\n",
       "      <td>Sports Bar</td>\n",
       "    </tr>\n",
       "  </tbody>\n",
       "</table>\n",
       "</div>"
      ],
      "text/plain": [
       "  COMMUNITY_AREA_NAME  Area Latitude  Area Longitude  \\\n",
       "0         Rogers Park      42.013645      -87.673434   \n",
       "1         Rogers Park      42.013645      -87.673434   \n",
       "2         Rogers Park      42.013645      -87.673434   \n",
       "3         Rogers Park      42.013645      -87.673434   \n",
       "4         Rogers Park      42.013645      -87.673434   \n",
       "\n",
       "                               Venue  Venue Latitude  Venue Longitude  \\\n",
       "0  Taqueria & Restaurant Cd. Hidalgo       42.011634       -87.674484   \n",
       "1                  El Famous Burrito       42.010421       -87.674204   \n",
       "2        Romanian Kosher Sausage Co.       42.012765       -87.674692   \n",
       "3                 Pottawattomie Park       42.015112       -87.676928   \n",
       "4                     R Public House       42.016032       -87.668571   \n",
       "\n",
       "       Venue Category  \n",
       "0  Mexican Restaurant  \n",
       "1  Mexican Restaurant  \n",
       "2       Deli / Bodega  \n",
       "3                Park  \n",
       "4          Sports Bar  "
      ]
     },
     "execution_count": 11,
     "metadata": {},
     "output_type": "execute_result"
    }
   ],
   "source": [
    "print(chicago_venues.shape)\n",
    "chicago_venues.head()"
   ]
  },
  {
   "cell_type": "markdown",
   "metadata": {},
   "source": [
    "The venues in each area are stored in the chicago_venues dataframe."
   ]
  },
  {
   "cell_type": "markdown",
   "metadata": {},
   "source": [
    "# Cluster the areas according to socioeconomic status\n",
    "\n",
    "I divide the areas according to 6 parameters: \n",
    "  * Percent of housing crowded\n",
    "  * Percent households below poverty\n",
    "  * Percent aged 16+ unemployed\n",
    "  * Percent aged 25+ without high school diploma\n",
    "  * Percent aged under 18 or over 64\n",
    "  * Per capita income\n",
    "  \n",
    "Except from Per capita income all the other variables are in the form of percentage. I will calculate the average income and change the column PER_CAPITA_INCOME to a percantage form."
   ]
  },
  {
   "cell_type": "code",
   "execution_count": 12,
   "metadata": {},
   "outputs": [
    {
     "data": {
      "text/html": [
       "<div>\n",
       "<style scoped>\n",
       "    .dataframe tbody tr th:only-of-type {\n",
       "        vertical-align: middle;\n",
       "    }\n",
       "\n",
       "    .dataframe tbody tr th {\n",
       "        vertical-align: top;\n",
       "    }\n",
       "\n",
       "    .dataframe thead th {\n",
       "        text-align: right;\n",
       "    }\n",
       "</style>\n",
       "<table border=\"1\" class=\"dataframe\">\n",
       "  <thead>\n",
       "    <tr style=\"text-align: right;\">\n",
       "      <th></th>\n",
       "      <th>COMMUNITY_AREA_NUMBER</th>\n",
       "      <th>COMMUNITY_AREA_NAME</th>\n",
       "      <th>PERCENT OF HOUSING CROWDED</th>\n",
       "      <th>PERCENT HOUSEHOLDS BELOW POVERTY</th>\n",
       "      <th>PERCENT AGED 16+ UNEMPLOYED</th>\n",
       "      <th>PERCENT AGED 25+ WITHOUT HIGH SCHOOL DIPLOMA</th>\n",
       "      <th>PERCENT AGED UNDER 18 OR OVER 64</th>\n",
       "      <th>HARDSHIP_INDEX</th>\n",
       "      <th>LATITUDE</th>\n",
       "      <th>LONGITUDE</th>\n",
       "      <th>PERCENT PER_CAPITA_INCOME</th>\n",
       "    </tr>\n",
       "  </thead>\n",
       "  <tbody>\n",
       "    <tr>\n",
       "      <th>0</th>\n",
       "      <td>1.0</td>\n",
       "      <td>Rogers Park</td>\n",
       "      <td>7.7</td>\n",
       "      <td>23.6</td>\n",
       "      <td>8.7</td>\n",
       "      <td>18.2</td>\n",
       "      <td>27.5</td>\n",
       "      <td>39.0</td>\n",
       "      <td>42.013645</td>\n",
       "      <td>-87.673434</td>\n",
       "      <td>0.930378</td>\n",
       "    </tr>\n",
       "    <tr>\n",
       "      <th>1</th>\n",
       "      <td>2.0</td>\n",
       "      <td>West Ridge</td>\n",
       "      <td>7.8</td>\n",
       "      <td>17.2</td>\n",
       "      <td>8.8</td>\n",
       "      <td>20.8</td>\n",
       "      <td>38.5</td>\n",
       "      <td>46.0</td>\n",
       "      <td>41.995488</td>\n",
       "      <td>-87.699195</td>\n",
       "      <td>0.895438</td>\n",
       "    </tr>\n",
       "  </tbody>\n",
       "</table>\n",
       "</div>"
      ],
      "text/plain": [
       "   COMMUNITY_AREA_NUMBER COMMUNITY_AREA_NAME  PERCENT OF HOUSING CROWDED  \\\n",
       "0                    1.0         Rogers Park                         7.7   \n",
       "1                    2.0          West Ridge                         7.8   \n",
       "\n",
       "   PERCENT HOUSEHOLDS BELOW POVERTY  PERCENT AGED 16+ UNEMPLOYED  \\\n",
       "0                              23.6                          8.7   \n",
       "1                              17.2                          8.8   \n",
       "\n",
       "   PERCENT AGED 25+ WITHOUT HIGH SCHOOL DIPLOMA  \\\n",
       "0                                          18.2   \n",
       "1                                          20.8   \n",
       "\n",
       "   PERCENT AGED UNDER 18 OR OVER 64  HARDSHIP_INDEX   LATITUDE  LONGITUDE  \\\n",
       "0                              27.5            39.0  42.013645 -87.673434   \n",
       "1                              38.5            46.0  41.995488 -87.699195   \n",
       "\n",
       "   PERCENT PER_CAPITA_INCOME  \n",
       "0                   0.930378  \n",
       "1                   0.895438  "
      ]
     },
     "execution_count": 12,
     "metadata": {},
     "output_type": "execute_result"
    }
   ],
   "source": [
    "location_name[\"PERCENT PER_CAPITA_INCOME\"]=location_name[\"PER_CAPITA_INCOME \"]/location_name[\"PER_CAPITA_INCOME \"].mean()\n",
    "location_name=location_name.drop([\"PER_CAPITA_INCOME \"], axis=1)\n",
    "location_name.head(2)"
   ]
  },
  {
   "cell_type": "markdown",
   "metadata": {},
   "source": [
    "I look for the optimal number of cluster using the elbow method."
   ]
  },
  {
   "cell_type": "code",
   "execution_count": 13,
   "metadata": {},
   "outputs": [],
   "source": [
    "distortions = []\n",
    "K = range(1,15)\n",
    "for k in K:\n",
    "    kmeanModel = KMeans(n_clusters=k)\n",
    "    kmeanModel.fit(location_name[[\"PERCENT OF HOUSING CROWDED\",\"PERCENT HOUSEHOLDS BELOW POVERTY\", \"PERCENT AGED 16+ UNEMPLOYED\",\n",
    "                                \"PERCENT AGED 25+ WITHOUT HIGH SCHOOL DIPLOMA\",\"PERCENT AGED UNDER 18 OR OVER 64\",\"PERCENT PER_CAPITA_INCOME\"]])\n",
    "    distortions.append(kmeanModel.inertia_)"
   ]
  },
  {
   "cell_type": "code",
   "execution_count": 14,
   "metadata": {},
   "outputs": [
    {
     "data": {
      "image/png": "[encoded data removed]",
      "text/plain": [
       "<Figure size 1152x576 with 1 Axes>"
      ]
     },
     "metadata": {
      "needs_background": "light"
     },
     "output_type": "display_data"
    }
   ],
   "source": [
    "plt.figure(figsize=(16,8))\n",
    "plt.plot(K, distortions, 'bo-')\n",
    "plt.xlabel('k')\n",
    "plt.ylabel('Distortion')\n",
    "plt.title('The Elbow Method showing the optimal k')\n",
    "plt.show()"
   ]
  },
  {
   "cell_type": "markdown",
   "metadata": {},
   "source": [
    "The optimal number of cluster is 4."
   ]
  },
  {
   "cell_type": "code",
   "execution_count": 15,
   "metadata": {},
   "outputs": [],
   "source": [
    "kmeanModel = KMeans(n_clusters=4, n_init=25,random_state=10).fit(location_name[[\"PERCENT OF HOUSING CROWDED\",\"PERCENT HOUSEHOLDS BELOW POVERTY\", \"PERCENT AGED 16+ UNEMPLOYED\",\n",
    "                                \"PERCENT AGED 25+ WITHOUT HIGH SCHOOL DIPLOMA\",\"PERCENT AGED UNDER 18 OR OVER 64\",\"PERCENT PER_CAPITA_INCOME\"]])"
   ]
  },
  {
   "cell_type": "markdown",
   "metadata": {},
   "source": [
    "I add a column which says the cluster of the area."
   ]
  },
  {
   "cell_type": "code",
   "execution_count": 16,
   "metadata": {},
   "outputs": [],
   "source": [
    "location_name.insert(0,\"Cluster\", kmeanModel.labels_);"
   ]
  },
  {
   "cell_type": "code",
   "execution_count": 17,
   "metadata": {},
   "outputs": [
    {
     "data": {
      "text/html": [
       "<div>\n",
       "<style scoped>\n",
       "    .dataframe tbody tr th:only-of-type {\n",
       "        vertical-align: middle;\n",
       "    }\n",
       "\n",
       "    .dataframe tbody tr th {\n",
       "        vertical-align: top;\n",
       "    }\n",
       "\n",
       "    .dataframe thead th {\n",
       "        text-align: right;\n",
       "    }\n",
       "</style>\n",
       "<table border=\"1\" class=\"dataframe\">\n",
       "  <thead>\n",
       "    <tr style=\"text-align: right;\">\n",
       "      <th></th>\n",
       "      <th>COMMUNITY_AREA_NUMBER</th>\n",
       "      <th>COMMUNITY_AREA_NAME</th>\n",
       "      <th>PERCENT OF HOUSING CROWDED</th>\n",
       "      <th>PERCENT HOUSEHOLDS BELOW POVERTY</th>\n",
       "      <th>PERCENT AGED 16+ UNEMPLOYED</th>\n",
       "      <th>PERCENT AGED 25+ WITHOUT HIGH SCHOOL DIPLOMA</th>\n",
       "      <th>PERCENT AGED UNDER 18 OR OVER 64</th>\n",
       "      <th>HARDSHIP_INDEX</th>\n",
       "      <th>LATITUDE</th>\n",
       "      <th>LONGITUDE</th>\n",
       "      <th>PERCENT PER_CAPITA_INCOME</th>\n",
       "    </tr>\n",
       "    <tr>\n",
       "      <th>Cluster</th>\n",
       "      <th></th>\n",
       "      <th></th>\n",
       "      <th></th>\n",
       "      <th></th>\n",
       "      <th></th>\n",
       "      <th></th>\n",
       "      <th></th>\n",
       "      <th></th>\n",
       "      <th></th>\n",
       "      <th></th>\n",
       "      <th></th>\n",
       "    </tr>\n",
       "  </thead>\n",
       "  <tbody>\n",
       "    <tr>\n",
       "      <th>0</th>\n",
       "      <td>15</td>\n",
       "      <td>15</td>\n",
       "      <td>15</td>\n",
       "      <td>15</td>\n",
       "      <td>15</td>\n",
       "      <td>15</td>\n",
       "      <td>15</td>\n",
       "      <td>15</td>\n",
       "      <td>15</td>\n",
       "      <td>15</td>\n",
       "      <td>15</td>\n",
       "    </tr>\n",
       "    <tr>\n",
       "      <th>1</th>\n",
       "      <td>19</td>\n",
       "      <td>19</td>\n",
       "      <td>19</td>\n",
       "      <td>19</td>\n",
       "      <td>19</td>\n",
       "      <td>19</td>\n",
       "      <td>19</td>\n",
       "      <td>19</td>\n",
       "      <td>19</td>\n",
       "      <td>19</td>\n",
       "      <td>19</td>\n",
       "    </tr>\n",
       "    <tr>\n",
       "      <th>2</th>\n",
       "      <td>14</td>\n",
       "      <td>14</td>\n",
       "      <td>14</td>\n",
       "      <td>14</td>\n",
       "      <td>14</td>\n",
       "      <td>14</td>\n",
       "      <td>14</td>\n",
       "      <td>14</td>\n",
       "      <td>14</td>\n",
       "      <td>14</td>\n",
       "      <td>14</td>\n",
       "    </tr>\n",
       "    <tr>\n",
       "      <th>3</th>\n",
       "      <td>22</td>\n",
       "      <td>22</td>\n",
       "      <td>22</td>\n",
       "      <td>22</td>\n",
       "      <td>22</td>\n",
       "      <td>22</td>\n",
       "      <td>22</td>\n",
       "      <td>22</td>\n",
       "      <td>22</td>\n",
       "      <td>22</td>\n",
       "      <td>22</td>\n",
       "    </tr>\n",
       "  </tbody>\n",
       "</table>\n",
       "</div>"
      ],
      "text/plain": [
       "         COMMUNITY_AREA_NUMBER  COMMUNITY_AREA_NAME  \\\n",
       "Cluster                                               \n",
       "0                           15                   15   \n",
       "1                           19                   19   \n",
       "2                           14                   14   \n",
       "3                           22                   22   \n",
       "\n",
       "         PERCENT OF HOUSING CROWDED  PERCENT HOUSEHOLDS BELOW POVERTY  \\\n",
       "Cluster                                                                 \n",
       "0                                15                                15   \n",
       "1                                19                                19   \n",
       "2                                14                                14   \n",
       "3                                22                                22   \n",
       "\n",
       "         PERCENT AGED 16+ UNEMPLOYED  \\\n",
       "Cluster                                \n",
       "0                                 15   \n",
       "1                                 19   \n",
       "2                                 14   \n",
       "3                                 22   \n",
       "\n",
       "         PERCENT AGED 25+ WITHOUT HIGH SCHOOL DIPLOMA  \\\n",
       "Cluster                                                 \n",
       "0                                                  15   \n",
       "1                                                  19   \n",
       "2                                                  14   \n",
       "3                                                  22   \n",
       "\n",
       "         PERCENT AGED UNDER 18 OR OVER 64  HARDSHIP_INDEX  LATITUDE  \\\n",
       "Cluster                                                               \n",
       "0                                      15              15        15   \n",
       "1                                      19              19        19   \n",
       "2                                      14              14        14   \n",
       "3                                      22              22        22   \n",
       "\n",
       "         LONGITUDE  PERCENT PER_CAPITA_INCOME  \n",
       "Cluster                                        \n",
       "0               15                         15  \n",
       "1               19                         19  \n",
       "2               14                         14  \n",
       "3               22                         22  "
      ]
     },
     "execution_count": 17,
     "metadata": {},
     "output_type": "execute_result"
    }
   ],
   "source": [
    "location_name.groupby(\"Cluster\").count()"
   ]
  },
  {
   "cell_type": "code",
   "execution_count": 18,
   "metadata": {},
   "outputs": [
    {
     "data": {
      "text/html": [
       "<div>\n",
       "<style scoped>\n",
       "    .dataframe tbody tr th:only-of-type {\n",
       "        vertical-align: middle;\n",
       "    }\n",
       "\n",
       "    .dataframe tbody tr th {\n",
       "        vertical-align: top;\n",
       "    }\n",
       "\n",
       "    .dataframe thead th {\n",
       "        text-align: right;\n",
       "    }\n",
       "</style>\n",
       "<table border=\"1\" class=\"dataframe\">\n",
       "  <thead>\n",
       "    <tr style=\"text-align: right;\">\n",
       "      <th></th>\n",
       "      <th>COMMUNITY_AREA_NUMBER</th>\n",
       "      <th>PERCENT OF HOUSING CROWDED</th>\n",
       "      <th>PERCENT HOUSEHOLDS BELOW POVERTY</th>\n",
       "      <th>PERCENT AGED 16+ UNEMPLOYED</th>\n",
       "      <th>PERCENT AGED 25+ WITHOUT HIGH SCHOOL DIPLOMA</th>\n",
       "      <th>PERCENT AGED UNDER 18 OR OVER 64</th>\n",
       "      <th>HARDSHIP_INDEX</th>\n",
       "      <th>LATITUDE</th>\n",
       "      <th>LONGITUDE</th>\n",
       "      <th>PERCENT PER_CAPITA_INCOME</th>\n",
       "    </tr>\n",
       "    <tr>\n",
       "      <th>Cluster</th>\n",
       "      <th></th>\n",
       "      <th></th>\n",
       "      <th></th>\n",
       "      <th></th>\n",
       "      <th></th>\n",
       "      <th></th>\n",
       "      <th></th>\n",
       "      <th></th>\n",
       "      <th></th>\n",
       "      <th></th>\n",
       "    </tr>\n",
       "  </thead>\n",
       "  <tbody>\n",
       "    <tr>\n",
       "      <th>0</th>\n",
       "      <td>24.466667</td>\n",
       "      <td>2.686667</td>\n",
       "      <td>15.680000</td>\n",
       "      <td>7.240000</td>\n",
       "      <td>8.620000</td>\n",
       "      <td>23.213333</td>\n",
       "      <td>13.666667</td>\n",
       "      <td>41.923232</td>\n",
       "      <td>-87.672249</td>\n",
       "      <td>1.858548</td>\n",
       "    </tr>\n",
       "    <tr>\n",
       "      <th>1</th>\n",
       "      <td>45.894737</td>\n",
       "      <td>4.705263</td>\n",
       "      <td>35.163158</td>\n",
       "      <td>24.042105</td>\n",
       "      <td>21.278947</td>\n",
       "      <td>40.926316</td>\n",
       "      <td>74.263158</td>\n",
       "      <td>41.780729</td>\n",
       "      <td>-87.638621</td>\n",
       "      <td>0.595431</td>\n",
       "    </tr>\n",
       "    <tr>\n",
       "      <th>2</th>\n",
       "      <td>44.500000</td>\n",
       "      <td>10.657143</td>\n",
       "      <td>22.935714</td>\n",
       "      <td>15.042857</td>\n",
       "      <td>39.100000</td>\n",
       "      <td>37.385714</td>\n",
       "      <td>74.928571</td>\n",
       "      <td>41.834985</td>\n",
       "      <td>-87.694490</td>\n",
       "      <td>0.584286</td>\n",
       "    </tr>\n",
       "    <tr>\n",
       "      <th>3</th>\n",
       "      <td>39.909091</td>\n",
       "      <td>3.322727</td>\n",
       "      <td>13.440909</td>\n",
       "      <td>13.277273</td>\n",
       "      <td>15.681818</td>\n",
       "      <td>37.795455</td>\n",
       "      <td>35.227273</td>\n",
       "      <td>41.831021</td>\n",
       "      <td>-87.691047</td>\n",
       "      <td>1.028572</td>\n",
       "    </tr>\n",
       "  </tbody>\n",
       "</table>\n",
       "</div>"
      ],
      "text/plain": [
       "         COMMUNITY_AREA_NUMBER  PERCENT OF HOUSING CROWDED  \\\n",
       "Cluster                                                      \n",
       "0                    24.466667                    2.686667   \n",
       "1                    45.894737                    4.705263   \n",
       "2                    44.500000                   10.657143   \n",
       "3                    39.909091                    3.322727   \n",
       "\n",
       "         PERCENT HOUSEHOLDS BELOW POVERTY  PERCENT AGED 16+ UNEMPLOYED  \\\n",
       "Cluster                                                                  \n",
       "0                               15.680000                     7.240000   \n",
       "1                               35.163158                    24.042105   \n",
       "2                               22.935714                    15.042857   \n",
       "3                               13.440909                    13.277273   \n",
       "\n",
       "         PERCENT AGED 25+ WITHOUT HIGH SCHOOL DIPLOMA  \\\n",
       "Cluster                                                 \n",
       "0                                            8.620000   \n",
       "1                                           21.278947   \n",
       "2                                           39.100000   \n",
       "3                                           15.681818   \n",
       "\n",
       "         PERCENT AGED UNDER 18 OR OVER 64  HARDSHIP_INDEX   LATITUDE  \\\n",
       "Cluster                                                                \n",
       "0                               23.213333       13.666667  41.923232   \n",
       "1                               40.926316       74.263158  41.780729   \n",
       "2                               37.385714       74.928571  41.834985   \n",
       "3                               37.795455       35.227273  41.831021   \n",
       "\n",
       "         LONGITUDE  PERCENT PER_CAPITA_INCOME  \n",
       "Cluster                                        \n",
       "0       -87.672249                   1.858548  \n",
       "1       -87.638621                   0.595431  \n",
       "2       -87.694490                   0.584286  \n",
       "3       -87.691047                   1.028572  "
      ]
     },
     "execution_count": 18,
     "metadata": {},
     "output_type": "execute_result"
    }
   ],
   "source": [
    "location_name.groupby(\"Cluster\").mean()"
   ]
  },
  {
   "cell_type": "markdown",
   "metadata": {},
   "source": [
    "We can see that cluster 0 consist of areas with high income, low hardship and good socioeconomical parameters. Clusters 1,2 are poor areas in which the harship index is high, and the income low. In cluster 1 there are more households in poverty and higher unemployment. Altough the per capita income is slightly higher than in the cluster 2.\n",
    "Cluster 3 represents the middle class. Their average income is close to the average income of the city. \n",
    "\n",
    "The geographical distribution of the clusters is shown in the next map: "
   ]
  },
  {
   "cell_type": "code",
   "execution_count": 19,
   "metadata": {},
   "outputs": [
    {
     "name": "stdout",
     "output_type": "stream",
     "text": [
      "The geograpical coordinate of Chicago are 41.8755616, -87.6244212.\n"
     ]
    }
   ],
   "source": [
    "address = 'Chicago, IL'\n",
    "\n",
    "geolocator = Nominatim(user_agent=\"chicago_crime\")\n",
    "location = geolocator.geocode(address)\n",
    "latitude = location.latitude\n",
    "longitude = location.longitude\n",
    "print('The geograpical coordinate of Chicago are {}, {}.'.format(latitude, longitude))"
   ]
  },
  {
   "cell_type": "code",
   "execution_count": 20,
   "metadata": {},
   "outputs": [
    {
     "data": {
      "text/html": [
       "<div style=\"width:100%;\"><div style=\"position:relative;width:100%;height:0;padding-bottom:60%;\"><iframe src=\"data:text/html;charset=utf-8;base64,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\" style=\"position:absolute;width:100%;height:100%;left:0;top:0;border:none !important;\" allowfullscreen webkitallowfullscreen mozallowfullscreen></iframe></div></div>"
      ],
      "text/plain": [
       "<folium.folium.Map at 0x21c9ccd8048>"
      ]
     },
     "execution_count": 20,
     "metadata": {},
     "output_type": "execute_result"
    }
   ],
   "source": [
    "# create map\n",
    "kclusters=4\n",
    "map_clusters = folium.Map(location=[latitude, longitude], zoom_start=11)\n",
    "\n",
    "# set color scheme for the clusters\n",
    "x = np.arange(kclusters)\n",
    "ys = [i + x + (i*x)**2 for i in range(kclusters)]\n",
    "colors_array = cm.rainbow(np.linspace(0, 1, len(ys)))\n",
    "rainbow = [colors.rgb2hex(i) for i in colors_array]\n",
    "\n",
    "# add markers to the map\n",
    "markers_colors = []\n",
    "for lat, lon, poi, cluster in zip(location_name['LATITUDE'], location_name['LONGITUDE'], location_name['COMMUNITY_AREA_NAME'], location_name['Cluster']):\n",
    "    label = folium.Popup(str(poi) + ' Cluster ' + str(cluster), parse_html=True)\n",
    "    folium.CircleMarker(\n",
    "        [lat, lon],\n",
    "        radius=5,\n",
    "        popup=label,\n",
    "        color=rainbow[int(cluster)-1],\n",
    "        fill=True,\n",
    "        fill_color=rainbow[int(cluster)-1],\n",
    "        fill_opacity=0.7).add_to(map_clusters)\n",
    "    \n",
    "\n",
    "#Add a legend\n",
    "\n",
    "legend_html =   '''\n",
    "                <div style=\"position: fixed; \n",
    "                            bottom: 200px; right: 200px; width: 100px; height: 110px; \n",
    "                            border:2px solid grey; z-index:9999; font-size:14px;\n",
    "                            \">&nbsp; Cluster <br>\n",
    "                              &nbsp; 0 &nbsp; <i class=\"fa fa-circle\" style=\"color:#ff0000\"></i><br>\n",
    "                              &nbsp; 1 &nbsp; <i class=\"fa fa-circle\" style=\"color:#8000ff\"></i><br>\n",
    "                              &nbsp; 2 &nbsp; <i class=\"fa fa-circle\" style=\"color:#2adddd\"></i><br>\n",
    "                              &nbsp; 3 &nbsp; <i class=\"fa fa-circle\" style=\"color:#d4dd80\"></i>\n",
    "                </div>\n",
    "                ''' \n",
    "\n",
    "map_clusters.get_root().html.add_child(folium.Element(legend_html))\n",
    "       \n",
    "map_clusters"
   ]
  },
  {
   "cell_type": "markdown",
   "metadata": {},
   "source": [
    "The cluster 3 is scattered in all Chicago. The distribution is in accordance with the hypothesis that the cluster represents the middle class. The cluster 0 mainly represent areas within the downtown. The geographical differences in the other 2 clusters are harder to find, but in both of them are industrial complex.\n",
    "\n",
    "# Popular venues in each community area"
   ]
  },
  {
   "cell_type": "code",
   "execution_count": 21,
   "metadata": {},
   "outputs": [],
   "source": [
    "# one hot encoding\n",
    "chicago_onehot = pd.get_dummies(chicago_venues[['Venue Category']], prefix=\"\", prefix_sep=\"\")\n",
    "\n",
    "# add neighborhood column back to dataframe\n",
    "chicago_onehot['COMMUNITY_AREA_NAME'] = chicago_venues['COMMUNITY_AREA_NAME'] \n",
    "\n",
    "# move neighborhood column to the first column\n",
    "fixed_columns = [chicago_onehot.columns[-1]] + list(chicago_onehot.columns[:-1])\n",
    "chicago_onehot = chicago_onehot[fixed_columns];"
   ]
  },
  {
   "cell_type": "code",
   "execution_count": 22,
   "metadata": {},
   "outputs": [],
   "source": [
    "chicago_venues_sum=chicago_onehot.groupby(\"COMMUNITY_AREA_NAME\").sum().reset_index()"
   ]
  },
  {
   "cell_type": "code",
   "execution_count": 23,
   "metadata": {},
   "outputs": [],
   "source": [
    "chicago_venues_sum=pd.merge(chicago_venues_sum,location_name[[\"Cluster\", \"COMMUNITY_AREA_NAME\",\"COMMUNITY_AREA_NUMBER\"]], on=\"COMMUNITY_AREA_NAME\")\n",
    "fixed_columns = [chicago_venues_sum.columns[-1],chicago_venues_sum.columns[-2]] + list(chicago_venues_sum.columns[:-2])\n",
    "chicago_venues_sum = chicago_venues_sum[fixed_columns];"
   ]
  },
  {
   "cell_type": "code",
   "execution_count": 24,
   "metadata": {},
   "outputs": [],
   "source": [
    "chicago_venues_cluster=chicago_venues_sum.groupby(\"Cluster\").sum().reset_index();"
   ]
  },
  {
   "cell_type": "code",
   "execution_count": 25,
   "metadata": {},
   "outputs": [],
   "source": [
    "chicago_venues_cluster=chicago_venues_cluster.drop(columns=\"COMMUNITY_AREA_NUMBER\")"
   ]
  },
  {
   "cell_type": "code",
   "execution_count": 26,
   "metadata": {},
   "outputs": [],
   "source": [
    "def return_most_common_venues(row, num_top_venues,inicio=1,):\n",
    "    row_categories = row.iloc[inicio:]\n",
    "    row_categories_sorted = row_categories.sort_values(ascending=False)\n",
    "    \n",
    "    return row_categories_sorted.index.values[0:num_top_venues]"
   ]
  },
  {
   "cell_type": "code",
   "execution_count": 27,
   "metadata": {},
   "outputs": [
    {
     "data": {
      "text/html": [
       "<div>\n",
       "<style scoped>\n",
       "    .dataframe tbody tr th:only-of-type {\n",
       "        vertical-align: middle;\n",
       "    }\n",
       "\n",
       "    .dataframe tbody tr th {\n",
       "        vertical-align: top;\n",
       "    }\n",
       "\n",
       "    .dataframe thead th {\n",
       "        text-align: right;\n",
       "    }\n",
       "</style>\n",
       "<table border=\"1\" class=\"dataframe\">\n",
       "  <thead>\n",
       "    <tr style=\"text-align: right;\">\n",
       "      <th></th>\n",
       "      <th>Cluster</th>\n",
       "      <th>1st Most Common Venue</th>\n",
       "      <th>2nd Most Common Venue</th>\n",
       "      <th>3rd Most Common Venue</th>\n",
       "      <th>4th Most Common Venue</th>\n",
       "      <th>5th Most Common Venue</th>\n",
       "    </tr>\n",
       "  </thead>\n",
       "  <tbody>\n",
       "    <tr>\n",
       "      <th>0</th>\n",
       "      <td>0</td>\n",
       "      <td>Coffee Shop</td>\n",
       "      <td>Mexican Restaurant</td>\n",
       "      <td>Bar</td>\n",
       "      <td>Pizza Place</td>\n",
       "      <td>Sandwich Place</td>\n",
       "    </tr>\n",
       "    <tr>\n",
       "      <th>1</th>\n",
       "      <td>1</td>\n",
       "      <td>Fast Food Restaurant</td>\n",
       "      <td>Park</td>\n",
       "      <td>Grocery Store</td>\n",
       "      <td>Bus Station</td>\n",
       "      <td>Discount Store</td>\n",
       "    </tr>\n",
       "    <tr>\n",
       "      <th>2</th>\n",
       "      <td>2</td>\n",
       "      <td>Mexican Restaurant</td>\n",
       "      <td>Bakery</td>\n",
       "      <td>Grocery Store</td>\n",
       "      <td>Pizza Place</td>\n",
       "      <td>Park</td>\n",
       "    </tr>\n",
       "    <tr>\n",
       "      <th>3</th>\n",
       "      <td>3</td>\n",
       "      <td>Grocery Store</td>\n",
       "      <td>Pizza Place</td>\n",
       "      <td>Indian Restaurant</td>\n",
       "      <td>Park</td>\n",
       "      <td>Bar</td>\n",
       "    </tr>\n",
       "  </tbody>\n",
       "</table>\n",
       "</div>"
      ],
      "text/plain": [
       "   Cluster 1st Most Common Venue 2nd Most Common Venue 3rd Most Common Venue  \\\n",
       "0        0           Coffee Shop    Mexican Restaurant                   Bar   \n",
       "1        1  Fast Food Restaurant                  Park         Grocery Store   \n",
       "2        2    Mexican Restaurant                Bakery         Grocery Store   \n",
       "3        3         Grocery Store           Pizza Place     Indian Restaurant   \n",
       "\n",
       "  4th Most Common Venue 5th Most Common Venue  \n",
       "0           Pizza Place        Sandwich Place  \n",
       "1           Bus Station        Discount Store  \n",
       "2           Pizza Place                  Park  \n",
       "3                  Park                   Bar  "
      ]
     },
     "execution_count": 27,
     "metadata": {},
     "output_type": "execute_result"
    }
   ],
   "source": [
    "num_top_venues = 5\n",
    "\n",
    "indicators = ['st', 'nd', 'rd']\n",
    "\n",
    "# create columns according to number of top venues\n",
    "columns = ['Cluster']\n",
    "for ind in np.arange(num_top_venues):\n",
    "    try:\n",
    "        columns.append('{}{} Most Common Venue'.format(ind+1, indicators[ind]))\n",
    "    except:\n",
    "        columns.append('{}th Most Common Venue'.format(ind+1))\n",
    "\n",
    "# create a new dataframe\n",
    "area_venues_sorted = pd.DataFrame(columns=columns)\n",
    "area_venues_sorted['Cluster'] = chicago_venues_cluster[\"Cluster\"]\n",
    "\n",
    "for ind in np.arange(chicago_venues_cluster.shape[0]):\n",
    "    area_venues_sorted.iloc[ind, 1:] = return_most_common_venues(chicago_venues_cluster.iloc[ind, 1:], num_top_venues)\n",
    "\n",
    "area_venues_sorted.head()"
   ]
  },
  {
   "cell_type": "code",
   "execution_count": null,
   "metadata": {},
   "outputs": [],
   "source": []
  },
  {
   "cell_type": "markdown",
   "metadata": {},
   "source": [
    "# Most common crime in a community area"
   ]
  },
  {
   "cell_type": "code",
   "execution_count": 28,
   "metadata": {},
   "outputs": [],
   "source": [
    "# one hot encoding\n",
    "chicago_crime_onehot = pd.get_dummies(crime_data[['PRIMARY_TYPE']], prefix=\"\", prefix_sep=\"\")\n",
    "\n",
    "# add neighborhood column back to dataframe\n",
    "chicago_crime_onehot['COMMUNITY_AREA_NUMBER'] = crime_data['COMMUNITY_AREA_NUMBER'] \n",
    "\n",
    "# move neighborhood column to the first column\n",
    "fixed_columns = [chicago_crime_onehot.columns[-1]] + list(chicago_crime_onehot.columns[:-1])\n",
    "chicago_crime_onehot = chicago_crime_onehot[fixed_columns];"
   ]
  },
  {
   "cell_type": "code",
   "execution_count": 29,
   "metadata": {},
   "outputs": [
    {
     "data": {
      "text/html": [
       "<div>\n",
       "<style scoped>\n",
       "    .dataframe tbody tr th:only-of-type {\n",
       "        vertical-align: middle;\n",
       "    }\n",
       "\n",
       "    .dataframe tbody tr th {\n",
       "        vertical-align: top;\n",
       "    }\n",
       "\n",
       "    .dataframe thead th {\n",
       "        text-align: right;\n",
       "    }\n",
       "</style>\n",
       "<table border=\"1\" class=\"dataframe\">\n",
       "  <thead>\n",
       "    <tr style=\"text-align: right;\">\n",
       "      <th></th>\n",
       "      <th>COMMUNITY_AREA_NUMBER</th>\n",
       "      <th>ARSON</th>\n",
       "      <th>ASSAULT</th>\n",
       "      <th>BATTERY</th>\n",
       "      <th>BURGLARY</th>\n",
       "      <th>CONCEALED CARRY LICENSE VIOLATION</th>\n",
       "      <th>CRIM SEXUAL ASSAULT</th>\n",
       "      <th>CRIMINAL DAMAGE</th>\n",
       "      <th>CRIMINAL TRESPASS</th>\n",
       "      <th>DECEPTIVE PRACTICE</th>\n",
       "      <th>...</th>\n",
       "      <th>OTHER OFFENSE</th>\n",
       "      <th>PROSTITUTION</th>\n",
       "      <th>PUBLIC INDECENCY</th>\n",
       "      <th>PUBLIC PEACE VIOLATION</th>\n",
       "      <th>RITUALISM</th>\n",
       "      <th>ROBBERY</th>\n",
       "      <th>SEX OFFENSE</th>\n",
       "      <th>STALKING</th>\n",
       "      <th>THEFT</th>\n",
       "      <th>WEAPONS VIOLATION</th>\n",
       "    </tr>\n",
       "  </thead>\n",
       "  <tbody>\n",
       "    <tr>\n",
       "      <th>0</th>\n",
       "      <td>58.0</td>\n",
       "      <td>0</td>\n",
       "      <td>0</td>\n",
       "      <td>0</td>\n",
       "      <td>0</td>\n",
       "      <td>0</td>\n",
       "      <td>0</td>\n",
       "      <td>0</td>\n",
       "      <td>0</td>\n",
       "      <td>0</td>\n",
       "      <td>...</td>\n",
       "      <td>0</td>\n",
       "      <td>0</td>\n",
       "      <td>0</td>\n",
       "      <td>0</td>\n",
       "      <td>0</td>\n",
       "      <td>0</td>\n",
       "      <td>0</td>\n",
       "      <td>0</td>\n",
       "      <td>1</td>\n",
       "      <td>0</td>\n",
       "    </tr>\n",
       "    <tr>\n",
       "      <th>1</th>\n",
       "      <td>23.0</td>\n",
       "      <td>0</td>\n",
       "      <td>0</td>\n",
       "      <td>0</td>\n",
       "      <td>0</td>\n",
       "      <td>0</td>\n",
       "      <td>0</td>\n",
       "      <td>0</td>\n",
       "      <td>0</td>\n",
       "      <td>0</td>\n",
       "      <td>...</td>\n",
       "      <td>0</td>\n",
       "      <td>0</td>\n",
       "      <td>0</td>\n",
       "      <td>0</td>\n",
       "      <td>0</td>\n",
       "      <td>0</td>\n",
       "      <td>0</td>\n",
       "      <td>0</td>\n",
       "      <td>1</td>\n",
       "      <td>0</td>\n",
       "    </tr>\n",
       "    <tr>\n",
       "      <th>2</th>\n",
       "      <td>38.0</td>\n",
       "      <td>0</td>\n",
       "      <td>0</td>\n",
       "      <td>0</td>\n",
       "      <td>0</td>\n",
       "      <td>0</td>\n",
       "      <td>0</td>\n",
       "      <td>0</td>\n",
       "      <td>0</td>\n",
       "      <td>0</td>\n",
       "      <td>...</td>\n",
       "      <td>0</td>\n",
       "      <td>0</td>\n",
       "      <td>0</td>\n",
       "      <td>0</td>\n",
       "      <td>0</td>\n",
       "      <td>0</td>\n",
       "      <td>0</td>\n",
       "      <td>0</td>\n",
       "      <td>1</td>\n",
       "      <td>0</td>\n",
       "    </tr>\n",
       "  </tbody>\n",
       "</table>\n",
       "<p>3 rows × 36 columns</p>\n",
       "</div>"
      ],
      "text/plain": [
       "   COMMUNITY_AREA_NUMBER  ARSON  ASSAULT  BATTERY  BURGLARY  \\\n",
       "0                   58.0      0        0        0         0   \n",
       "1                   23.0      0        0        0         0   \n",
       "2                   38.0      0        0        0         0   \n",
       "\n",
       "   CONCEALED CARRY LICENSE VIOLATION  CRIM SEXUAL ASSAULT  CRIMINAL DAMAGE  \\\n",
       "0                                  0                    0                0   \n",
       "1                                  0                    0                0   \n",
       "2                                  0                    0                0   \n",
       "\n",
       "   CRIMINAL TRESPASS  DECEPTIVE PRACTICE        ...          OTHER OFFENSE  \\\n",
       "0                  0                   0        ...                      0   \n",
       "1                  0                   0        ...                      0   \n",
       "2                  0                   0        ...                      0   \n",
       "\n",
       "   PROSTITUTION  PUBLIC INDECENCY  PUBLIC PEACE VIOLATION  RITUALISM  ROBBERY  \\\n",
       "0             0                 0                       0          0        0   \n",
       "1             0                 0                       0          0        0   \n",
       "2             0                 0                       0          0        0   \n",
       "\n",
       "   SEX OFFENSE  STALKING  THEFT  WEAPONS VIOLATION  \n",
       "0            0         0      1                  0  \n",
       "1            0         0      1                  0  \n",
       "2            0         0      1                  0  \n",
       "\n",
       "[3 rows x 36 columns]"
      ]
     },
     "execution_count": 29,
     "metadata": {},
     "output_type": "execute_result"
    }
   ],
   "source": [
    "chicago_crime_onehot.head(3)"
   ]
  },
  {
   "cell_type": "code",
   "execution_count": 30,
   "metadata": {},
   "outputs": [],
   "source": [
    "chicago_crime_sum=chicago_crime_onehot.groupby(\"COMMUNITY_AREA_NUMBER\").sum().reset_index()"
   ]
  },
  {
   "cell_type": "markdown",
   "metadata": {},
   "source": [
    "I add the name of the area, and the cluster information."
   ]
  },
  {
   "cell_type": "code",
   "execution_count": 31,
   "metadata": {},
   "outputs": [
    {
     "data": {
      "text/plain": [
       "(70, 36)"
      ]
     },
     "execution_count": 31,
     "metadata": {},
     "output_type": "execute_result"
    }
   ],
   "source": [
    "chicago_crime_sum.shape"
   ]
  },
  {
   "cell_type": "code",
   "execution_count": 32,
   "metadata": {},
   "outputs": [
    {
     "data": {
      "text/plain": [
       "(70, 12)"
      ]
     },
     "execution_count": 32,
     "metadata": {},
     "output_type": "execute_result"
    }
   ],
   "source": [
    "location_name.shape"
   ]
  },
  {
   "cell_type": "code",
   "execution_count": 33,
   "metadata": {},
   "outputs": [],
   "source": [
    "chicago_crime_cluster=pd.merge(chicago_crime_sum,location_name[[\"Cluster\", \"COMMUNITY_AREA_NAME\",\"COMMUNITY_AREA_NUMBER\"]], on=\"COMMUNITY_AREA_NUMBER\")"
   ]
  },
  {
   "cell_type": "code",
   "execution_count": 34,
   "metadata": {},
   "outputs": [],
   "source": [
    "fixed_columns = [chicago_crime_cluster.columns[-1],chicago_crime_cluster.columns[-2]] + list(chicago_crime_cluster.columns[:-2])\n",
    "chicago_crime_cluster = chicago_crime_cluster[fixed_columns];"
   ]
  },
  {
   "cell_type": "code",
   "execution_count": 35,
   "metadata": {
    "scrolled": true
   },
   "outputs": [],
   "source": [
    "chicago_crime_cluster=chicago_crime_cluster.groupby(\"Cluster\").sum()"
   ]
  },
  {
   "cell_type": "code",
   "execution_count": 36,
   "metadata": {},
   "outputs": [],
   "source": [
    "chicago_crime_cluster=chicago_crime_cluster.drop(columns=\"COMMUNITY_AREA_NUMBER\")"
   ]
  },
  {
   "cell_type": "code",
   "execution_count": 37,
   "metadata": {},
   "outputs": [],
   "source": [
    "chicago_crime_cluster=chicago_crime_cluster.reset_index()"
   ]
  },
  {
   "cell_type": "code",
   "execution_count": 38,
   "metadata": {},
   "outputs": [],
   "source": [
    "total_crime=[0,0,0,0]\n",
    "for i in range(4):\n",
    "    total_crime[i]=chicago_crime_cluster.loc[i][1:].sum()"
   ]
  },
  {
   "cell_type": "code",
   "execution_count": 39,
   "metadata": {},
   "outputs": [],
   "source": [
    "chicago_crime_cluster[\"Total_crimes\"]=total_crime"
   ]
  },
  {
   "cell_type": "code",
   "execution_count": 40,
   "metadata": {},
   "outputs": [
    {
     "data": {
      "text/html": [
       "<div>\n",
       "<style scoped>\n",
       "    .dataframe tbody tr th:only-of-type {\n",
       "        vertical-align: middle;\n",
       "    }\n",
       "\n",
       "    .dataframe tbody tr th {\n",
       "        vertical-align: top;\n",
       "    }\n",
       "\n",
       "    .dataframe thead th {\n",
       "        text-align: right;\n",
       "    }\n",
       "</style>\n",
       "<table border=\"1\" class=\"dataframe\">\n",
       "  <thead>\n",
       "    <tr style=\"text-align: right;\">\n",
       "      <th></th>\n",
       "      <th>Cluster</th>\n",
       "      <th>ARSON</th>\n",
       "      <th>ASSAULT</th>\n",
       "      <th>BATTERY</th>\n",
       "      <th>BURGLARY</th>\n",
       "      <th>CONCEALED CARRY LICENSE VIOLATION</th>\n",
       "      <th>CRIM SEXUAL ASSAULT</th>\n",
       "      <th>CRIMINAL DAMAGE</th>\n",
       "      <th>CRIMINAL TRESPASS</th>\n",
       "      <th>DECEPTIVE PRACTICE</th>\n",
       "      <th>...</th>\n",
       "      <th>PROSTITUTION</th>\n",
       "      <th>PUBLIC INDECENCY</th>\n",
       "      <th>PUBLIC PEACE VIOLATION</th>\n",
       "      <th>RITUALISM</th>\n",
       "      <th>ROBBERY</th>\n",
       "      <th>SEX OFFENSE</th>\n",
       "      <th>STALKING</th>\n",
       "      <th>THEFT</th>\n",
       "      <th>WEAPONS VIOLATION</th>\n",
       "      <th>Total_crimes</th>\n",
       "    </tr>\n",
       "  </thead>\n",
       "  <tbody>\n",
       "    <tr>\n",
       "      <th>0</th>\n",
       "      <td>0</td>\n",
       "      <td>0</td>\n",
       "      <td>4</td>\n",
       "      <td>14</td>\n",
       "      <td>2</td>\n",
       "      <td>0</td>\n",
       "      <td>0</td>\n",
       "      <td>12</td>\n",
       "      <td>5</td>\n",
       "      <td>7</td>\n",
       "      <td>...</td>\n",
       "      <td>2</td>\n",
       "      <td>0</td>\n",
       "      <td>0</td>\n",
       "      <td>0</td>\n",
       "      <td>2</td>\n",
       "      <td>0</td>\n",
       "      <td>0</td>\n",
       "      <td>30</td>\n",
       "      <td>1</td>\n",
       "      <td>102</td>\n",
       "    </tr>\n",
       "    <tr>\n",
       "      <th>1</th>\n",
       "      <td>1</td>\n",
       "      <td>2</td>\n",
       "      <td>19</td>\n",
       "      <td>39</td>\n",
       "      <td>13</td>\n",
       "      <td>1</td>\n",
       "      <td>1</td>\n",
       "      <td>15</td>\n",
       "      <td>5</td>\n",
       "      <td>4</td>\n",
       "      <td>...</td>\n",
       "      <td>1</td>\n",
       "      <td>1</td>\n",
       "      <td>1</td>\n",
       "      <td>1</td>\n",
       "      <td>10</td>\n",
       "      <td>0</td>\n",
       "      <td>0</td>\n",
       "      <td>30</td>\n",
       "      <td>4</td>\n",
       "      <td>197</td>\n",
       "    </tr>\n",
       "    <tr>\n",
       "      <th>2</th>\n",
       "      <td>2</td>\n",
       "      <td>0</td>\n",
       "      <td>3</td>\n",
       "      <td>16</td>\n",
       "      <td>6</td>\n",
       "      <td>0</td>\n",
       "      <td>1</td>\n",
       "      <td>14</td>\n",
       "      <td>1</td>\n",
       "      <td>1</td>\n",
       "      <td>...</td>\n",
       "      <td>0</td>\n",
       "      <td>0</td>\n",
       "      <td>1</td>\n",
       "      <td>0</td>\n",
       "      <td>4</td>\n",
       "      <td>2</td>\n",
       "      <td>0</td>\n",
       "      <td>22</td>\n",
       "      <td>1</td>\n",
       "      <td>105</td>\n",
       "    </tr>\n",
       "    <tr>\n",
       "      <th>3</th>\n",
       "      <td>3</td>\n",
       "      <td>0</td>\n",
       "      <td>4</td>\n",
       "      <td>12</td>\n",
       "      <td>6</td>\n",
       "      <td>0</td>\n",
       "      <td>0</td>\n",
       "      <td>14</td>\n",
       "      <td>2</td>\n",
       "      <td>3</td>\n",
       "      <td>...</td>\n",
       "      <td>0</td>\n",
       "      <td>0</td>\n",
       "      <td>1</td>\n",
       "      <td>0</td>\n",
       "      <td>4</td>\n",
       "      <td>1</td>\n",
       "      <td>1</td>\n",
       "      <td>18</td>\n",
       "      <td>0</td>\n",
       "      <td>86</td>\n",
       "    </tr>\n",
       "  </tbody>\n",
       "</table>\n",
       "<p>4 rows × 37 columns</p>\n",
       "</div>"
      ],
      "text/plain": [
       "   Cluster  ARSON  ASSAULT  BATTERY  BURGLARY  \\\n",
       "0        0      0        4       14         2   \n",
       "1        1      2       19       39        13   \n",
       "2        2      0        3       16         6   \n",
       "3        3      0        4       12         6   \n",
       "\n",
       "   CONCEALED CARRY LICENSE VIOLATION  CRIM SEXUAL ASSAULT  CRIMINAL DAMAGE  \\\n",
       "0                                  0                    0               12   \n",
       "1                                  1                    1               15   \n",
       "2                                  0                    1               14   \n",
       "3                                  0                    0               14   \n",
       "\n",
       "   CRIMINAL TRESPASS  DECEPTIVE PRACTICE      ...       PROSTITUTION  \\\n",
       "0                  5                   7      ...                  2   \n",
       "1                  5                   4      ...                  1   \n",
       "2                  1                   1      ...                  0   \n",
       "3                  2                   3      ...                  0   \n",
       "\n",
       "   PUBLIC INDECENCY  PUBLIC PEACE VIOLATION  RITUALISM  ROBBERY  SEX OFFENSE  \\\n",
       "0                 0                       0          0        2            0   \n",
       "1                 1                       1          1       10            0   \n",
       "2                 0                       1          0        4            2   \n",
       "3                 0                       1          0        4            1   \n",
       "\n",
       "   STALKING  THEFT  WEAPONS VIOLATION  Total_crimes  \n",
       "0         0     30                  1           102  \n",
       "1         0     30                  4           197  \n",
       "2         0     22                  1           105  \n",
       "3         1     18                  0            86  \n",
       "\n",
       "[4 rows x 37 columns]"
      ]
     },
     "execution_count": 40,
     "metadata": {},
     "output_type": "execute_result"
    }
   ],
   "source": [
    "chicago_crime_cluster.head()"
   ]
  },
  {
   "cell_type": "markdown",
   "metadata": {},
   "source": [
    "I will look for the most common crimes in each cluster."
   ]
  },
  {
   "cell_type": "code",
   "execution_count": 41,
   "metadata": {},
   "outputs": [
    {
     "data": {
      "text/html": [
       "<div>\n",
       "<style scoped>\n",
       "    .dataframe tbody tr th:only-of-type {\n",
       "        vertical-align: middle;\n",
       "    }\n",
       "\n",
       "    .dataframe tbody tr th {\n",
       "        vertical-align: top;\n",
       "    }\n",
       "\n",
       "    .dataframe thead th {\n",
       "        text-align: right;\n",
       "    }\n",
       "</style>\n",
       "<table border=\"1\" class=\"dataframe\">\n",
       "  <thead>\n",
       "    <tr style=\"text-align: right;\">\n",
       "      <th></th>\n",
       "      <th>Cluster 0</th>\n",
       "    </tr>\n",
       "  </thead>\n",
       "  <tbody>\n",
       "    <tr>\n",
       "      <th>THEFT</th>\n",
       "      <td>30</td>\n",
       "    </tr>\n",
       "    <tr>\n",
       "      <th>BATTERY</th>\n",
       "      <td>14</td>\n",
       "    </tr>\n",
       "    <tr>\n",
       "      <th>CRIMINAL DAMAGE</th>\n",
       "      <td>12</td>\n",
       "    </tr>\n",
       "    <tr>\n",
       "      <th>NARCOTICS</th>\n",
       "      <td>9</td>\n",
       "    </tr>\n",
       "    <tr>\n",
       "      <th>DECEPTIVE PRACTICE</th>\n",
       "      <td>7</td>\n",
       "    </tr>\n",
       "  </tbody>\n",
       "</table>\n",
       "</div>"
      ],
      "text/plain": [
       "                    Cluster 0\n",
       "THEFT                      30\n",
       "BATTERY                    14\n",
       "CRIMINAL DAMAGE            12\n",
       "NARCOTICS                   9\n",
       "DECEPTIVE PRACTICE          7"
      ]
     },
     "execution_count": 41,
     "metadata": {},
     "output_type": "execute_result"
    }
   ],
   "source": [
    "crimes_cluster_0=return_most_common_venues(chicago_crime_cluster.iloc[0,:-1],5,0)\n",
    "crime_0=pd.DataFrame(chicago_crime_cluster[crimes_cluster_0].loc[0,:])\n",
    "crime_0=crime_0.rename(columns={0:\"Cluster 0\"})\n",
    "crime_0.head()"
   ]
  },
  {
   "cell_type": "code",
   "execution_count": 42,
   "metadata": {},
   "outputs": [
    {
     "data": {
      "text/html": [
       "<div>\n",
       "<style scoped>\n",
       "    .dataframe tbody tr th:only-of-type {\n",
       "        vertical-align: middle;\n",
       "    }\n",
       "\n",
       "    .dataframe tbody tr th {\n",
       "        vertical-align: top;\n",
       "    }\n",
       "\n",
       "    .dataframe thead th {\n",
       "        text-align: right;\n",
       "    }\n",
       "</style>\n",
       "<table border=\"1\" class=\"dataframe\">\n",
       "  <thead>\n",
       "    <tr style=\"text-align: right;\">\n",
       "      <th></th>\n",
       "      <th>Cluster 1</th>\n",
       "    </tr>\n",
       "  </thead>\n",
       "  <tbody>\n",
       "    <tr>\n",
       "      <th>BATTERY</th>\n",
       "      <td>39</td>\n",
       "    </tr>\n",
       "    <tr>\n",
       "      <th>THEFT</th>\n",
       "      <td>30</td>\n",
       "    </tr>\n",
       "    <tr>\n",
       "      <th>NARCOTICS</th>\n",
       "      <td>25</td>\n",
       "    </tr>\n",
       "    <tr>\n",
       "      <th>ASSAULT</th>\n",
       "      <td>19</td>\n",
       "    </tr>\n",
       "    <tr>\n",
       "      <th>CRIMINAL DAMAGE</th>\n",
       "      <td>15</td>\n",
       "    </tr>\n",
       "  </tbody>\n",
       "</table>\n",
       "</div>"
      ],
      "text/plain": [
       "                 Cluster 1\n",
       "BATTERY                 39\n",
       "THEFT                   30\n",
       "NARCOTICS               25\n",
       "ASSAULT                 19\n",
       "CRIMINAL DAMAGE         15"
      ]
     },
     "execution_count": 42,
     "metadata": {},
     "output_type": "execute_result"
    }
   ],
   "source": [
    "crimes_cluster_1=return_most_common_venues(chicago_crime_cluster.iloc[1,:-1],5,0)\n",
    "crime_1=pd.DataFrame(chicago_crime_cluster[crimes_cluster_1].loc[1,:])\n",
    "crime_1=crime_1.rename(columns={1:\"Cluster 1\"})\n",
    "crime_1.head()"
   ]
  },
  {
   "cell_type": "code",
   "execution_count": 43,
   "metadata": {},
   "outputs": [
    {
     "data": {
      "text/html": [
       "<div>\n",
       "<style scoped>\n",
       "    .dataframe tbody tr th:only-of-type {\n",
       "        vertical-align: middle;\n",
       "    }\n",
       "\n",
       "    .dataframe tbody tr th {\n",
       "        vertical-align: top;\n",
       "    }\n",
       "\n",
       "    .dataframe thead th {\n",
       "        text-align: right;\n",
       "    }\n",
       "</style>\n",
       "<table border=\"1\" class=\"dataframe\">\n",
       "  <thead>\n",
       "    <tr style=\"text-align: right;\">\n",
       "      <th></th>\n",
       "      <th>Cluster 2</th>\n",
       "    </tr>\n",
       "  </thead>\n",
       "  <tbody>\n",
       "    <tr>\n",
       "      <th>THEFT</th>\n",
       "      <td>22</td>\n",
       "    </tr>\n",
       "    <tr>\n",
       "      <th>BATTERY</th>\n",
       "      <td>16</td>\n",
       "    </tr>\n",
       "    <tr>\n",
       "      <th>NARCOTICS</th>\n",
       "      <td>15</td>\n",
       "    </tr>\n",
       "    <tr>\n",
       "      <th>CRIMINAL DAMAGE</th>\n",
       "      <td>14</td>\n",
       "    </tr>\n",
       "    <tr>\n",
       "      <th>OTHER OFFENSE</th>\n",
       "      <td>9</td>\n",
       "    </tr>\n",
       "  </tbody>\n",
       "</table>\n",
       "</div>"
      ],
      "text/plain": [
       "                 Cluster 2\n",
       "THEFT                   22\n",
       "BATTERY                 16\n",
       "NARCOTICS               15\n",
       "CRIMINAL DAMAGE         14\n",
       "OTHER OFFENSE            9"
      ]
     },
     "execution_count": 43,
     "metadata": {},
     "output_type": "execute_result"
    }
   ],
   "source": [
    "crimes_cluster_2=return_most_common_venues(chicago_crime_cluster.iloc[2,:-1],5,0)\n",
    "crime_2=pd.DataFrame(chicago_crime_cluster[crimes_cluster_2].loc[2,:])\n",
    "crime_2=crime_2.rename(columns={2:\"Cluster 2\"})\n",
    "crime_2.head()"
   ]
  },
  {
   "cell_type": "code",
   "execution_count": 44,
   "metadata": {},
   "outputs": [
    {
     "data": {
      "text/html": [
       "<div>\n",
       "<style scoped>\n",
       "    .dataframe tbody tr th:only-of-type {\n",
       "        vertical-align: middle;\n",
       "    }\n",
       "\n",
       "    .dataframe tbody tr th {\n",
       "        vertical-align: top;\n",
       "    }\n",
       "\n",
       "    .dataframe thead th {\n",
       "        text-align: right;\n",
       "    }\n",
       "</style>\n",
       "<table border=\"1\" class=\"dataframe\">\n",
       "  <thead>\n",
       "    <tr style=\"text-align: right;\">\n",
       "      <th></th>\n",
       "      <th>Cluster 3</th>\n",
       "    </tr>\n",
       "  </thead>\n",
       "  <tbody>\n",
       "    <tr>\n",
       "      <th>THEFT</th>\n",
       "      <td>18</td>\n",
       "    </tr>\n",
       "    <tr>\n",
       "      <th>CRIMINAL DAMAGE</th>\n",
       "      <td>14</td>\n",
       "    </tr>\n",
       "    <tr>\n",
       "      <th>BATTERY</th>\n",
       "      <td>12</td>\n",
       "    </tr>\n",
       "    <tr>\n",
       "      <th>OTHER OFFENSE</th>\n",
       "      <td>7</td>\n",
       "    </tr>\n",
       "    <tr>\n",
       "      <th>BURGLARY</th>\n",
       "      <td>6</td>\n",
       "    </tr>\n",
       "  </tbody>\n",
       "</table>\n",
       "</div>"
      ],
      "text/plain": [
       "                 Cluster 3\n",
       "THEFT                   18\n",
       "CRIMINAL DAMAGE         14\n",
       "BATTERY                 12\n",
       "OTHER OFFENSE            7\n",
       "BURGLARY                 6"
      ]
     },
     "execution_count": 44,
     "metadata": {},
     "output_type": "execute_result"
    }
   ],
   "source": [
    "crimes_cluster_3=return_most_common_venues(chicago_crime_cluster.iloc[3,:-1],5,0)\n",
    "crime_3=pd.DataFrame(chicago_crime_cluster[crimes_cluster_3].loc[3,:])\n",
    "crime_3=crime_3.rename(columns={3:\"Cluster 3\"})\n",
    "crime_3.head()"
   ]
  },
  {
   "cell_type": "markdown",
   "metadata": {},
   "source": [
    "Among the 5 most common crimes in each cluster there are 8 categories between all clusters:\n",
    "* Theft\n",
    "* Battery\n",
    "* Crimanl Damage\n",
    "* Narcotics\n",
    "* Other offense\n",
    "* Burglary\n",
    "* Assault\n",
    "* Deceptive practice\n",
    "\n",
    "I dismiss \"Other offense\" because is vague. I look correlations among the other offences and the venues in the community in which they were commited.\n",
    "\n",
    "Theft is the most common crime in 3 clusters, and it is the second most common in the other. "
   ]
  },
  {
   "cell_type": "markdown",
   "metadata": {},
   "source": [
    "# Correlations in crime and venues\n",
    "\n",
    "I am going to study the most common crimes individually and within clusters. For each of these crimes a score will be asigned to each venue category. The score is the sum of all the crimes that were commited in each community area. I expect that if the venue categories do not have an impact in crime, then the venue categories with the highest scores will correspond to the most popular categories in the cluster.\n",
    "\n",
    "## Theft"
   ]
  },
  {
   "cell_type": "markdown",
   "metadata": {},
   "source": [
    "I assign a score for each venues in a community area for theft."
   ]
  },
  {
   "cell_type": "code",
   "execution_count": 45,
   "metadata": {},
   "outputs": [],
   "source": [
    "chicago_venues_sum=chicago_venues_sum.sort_values(by=\"COMMUNITY_AREA_NUMBER\");"
   ]
  },
  {
   "cell_type": "code",
   "execution_count": 46,
   "metadata": {},
   "outputs": [],
   "source": [
    "chicago_venues_score=pd.DataFrame(columns=chicago_venues_sum.columns[3:])\n",
    "for i in range(chicago_crime_sum.shape[0]):\n",
    "    row=(chicago_crime_sum[\"THEFT\"][i])*chicago_venues_sum.iloc[i,3:]\n",
    "    chicago_venues_score=chicago_venues_score.append(row, ignore_index=True)"
   ]
  },
  {
   "cell_type": "markdown",
   "metadata": {},
   "source": [
    "I add a the community area name, number and cluster to the dataframe of the scores."
   ]
  },
  {
   "cell_type": "code",
   "execution_count": 47,
   "metadata": {},
   "outputs": [],
   "source": [
    "chicago_venues_score[\"COMMUNITY_AREA_NAME\"]=chicago_venues_sum[\"COMMUNITY_AREA_NAME\"]\n",
    "chicago_venues_score[\"COMMUNITY_AREA_NUMBER\"]=chicago_venues_sum[\"COMMUNITY_AREA_NUMBER\"]\n",
    "chicago_venues_score[\"Cluster\"]=chicago_venues_sum[\"Cluster\"]\n",
    "fixed_columns = [chicago_venues_score.columns[-1],chicago_venues_score.columns[-2],chicago_venues_score.columns[-3]] + list(chicago_venues_score.columns[:-3])\n",
    "chicago_venues_score = chicago_venues_score[fixed_columns];"
   ]
  },
  {
   "cell_type": "markdown",
   "metadata": {},
   "source": [
    "I group by cluster"
   ]
  },
  {
   "cell_type": "code",
   "execution_count": 48,
   "metadata": {},
   "outputs": [],
   "source": [
    "chicago_venues_score[chicago_venues_score.columns[3:]]=chicago_venues_score[chicago_venues_score.columns[3:]].astype(\"int\")"
   ]
  },
  {
   "cell_type": "code",
   "execution_count": 49,
   "metadata": {},
   "outputs": [],
   "source": [
    "chicago_venues_score=chicago_venues_score.groupby(\"Cluster\").sum()\n",
    "chicago_venues_score=chicago_venues_score.drop(columns=\"COMMUNITY_AREA_NUMBER\");"
   ]
  },
  {
   "cell_type": "code",
   "execution_count": 50,
   "metadata": {},
   "outputs": [
    {
     "data": {
      "text/html": [
       "<div>\n",
       "<style scoped>\n",
       "    .dataframe tbody tr th:only-of-type {\n",
       "        vertical-align: middle;\n",
       "    }\n",
       "\n",
       "    .dataframe tbody tr th {\n",
       "        vertical-align: top;\n",
       "    }\n",
       "\n",
       "    .dataframe thead th {\n",
       "        text-align: right;\n",
       "    }\n",
       "</style>\n",
       "<table border=\"1\" class=\"dataframe\">\n",
       "  <thead>\n",
       "    <tr style=\"text-align: right;\">\n",
       "      <th></th>\n",
       "      <th>ATM</th>\n",
       "      <th>Accessories Store</th>\n",
       "      <th>Airport</th>\n",
       "      <th>Airport Lounge</th>\n",
       "      <th>Airport Service</th>\n",
       "      <th>Airport Terminal</th>\n",
       "      <th>American Restaurant</th>\n",
       "      <th>Antique Shop</th>\n",
       "      <th>Arcade</th>\n",
       "      <th>Arepa Restaurant</th>\n",
       "      <th>...</th>\n",
       "      <th>Video Game Store</th>\n",
       "      <th>Video Store</th>\n",
       "      <th>Vietnamese Restaurant</th>\n",
       "      <th>Weight Loss Center</th>\n",
       "      <th>Whisky Bar</th>\n",
       "      <th>Wine Bar</th>\n",
       "      <th>Wine Shop</th>\n",
       "      <th>Wings Joint</th>\n",
       "      <th>Women's Store</th>\n",
       "      <th>Yoga Studio</th>\n",
       "    </tr>\n",
       "    <tr>\n",
       "      <th>Cluster</th>\n",
       "      <th></th>\n",
       "      <th></th>\n",
       "      <th></th>\n",
       "      <th></th>\n",
       "      <th></th>\n",
       "      <th></th>\n",
       "      <th></th>\n",
       "      <th></th>\n",
       "      <th></th>\n",
       "      <th></th>\n",
       "      <th></th>\n",
       "      <th></th>\n",
       "      <th></th>\n",
       "      <th></th>\n",
       "      <th></th>\n",
       "      <th></th>\n",
       "      <th></th>\n",
       "      <th></th>\n",
       "      <th></th>\n",
       "      <th></th>\n",
       "      <th></th>\n",
       "    </tr>\n",
       "  </thead>\n",
       "  <tbody>\n",
       "    <tr>\n",
       "      <th>0</th>\n",
       "      <td>0</td>\n",
       "      <td>0</td>\n",
       "      <td>2</td>\n",
       "      <td>2</td>\n",
       "      <td>2</td>\n",
       "      <td>2</td>\n",
       "      <td>6</td>\n",
       "      <td>0</td>\n",
       "      <td>0</td>\n",
       "      <td>0</td>\n",
       "      <td>...</td>\n",
       "      <td>0</td>\n",
       "      <td>0</td>\n",
       "      <td>0</td>\n",
       "      <td>0</td>\n",
       "      <td>0</td>\n",
       "      <td>6</td>\n",
       "      <td>0</td>\n",
       "      <td>0</td>\n",
       "      <td>0</td>\n",
       "      <td>0</td>\n",
       "    </tr>\n",
       "    <tr>\n",
       "      <th>1</th>\n",
       "      <td>0</td>\n",
       "      <td>0</td>\n",
       "      <td>0</td>\n",
       "      <td>0</td>\n",
       "      <td>0</td>\n",
       "      <td>0</td>\n",
       "      <td>5</td>\n",
       "      <td>4</td>\n",
       "      <td>0</td>\n",
       "      <td>0</td>\n",
       "      <td>...</td>\n",
       "      <td>0</td>\n",
       "      <td>7</td>\n",
       "      <td>0</td>\n",
       "      <td>0</td>\n",
       "      <td>2</td>\n",
       "      <td>0</td>\n",
       "      <td>0</td>\n",
       "      <td>0</td>\n",
       "      <td>0</td>\n",
       "      <td>0</td>\n",
       "    </tr>\n",
       "    <tr>\n",
       "      <th>2</th>\n",
       "      <td>1</td>\n",
       "      <td>0</td>\n",
       "      <td>0</td>\n",
       "      <td>0</td>\n",
       "      <td>0</td>\n",
       "      <td>0</td>\n",
       "      <td>3</td>\n",
       "      <td>0</td>\n",
       "      <td>0</td>\n",
       "      <td>4</td>\n",
       "      <td>...</td>\n",
       "      <td>0</td>\n",
       "      <td>1</td>\n",
       "      <td>0</td>\n",
       "      <td>0</td>\n",
       "      <td>0</td>\n",
       "      <td>0</td>\n",
       "      <td>2</td>\n",
       "      <td>0</td>\n",
       "      <td>0</td>\n",
       "      <td>1</td>\n",
       "    </tr>\n",
       "    <tr>\n",
       "      <th>3</th>\n",
       "      <td>5</td>\n",
       "      <td>3</td>\n",
       "      <td>0</td>\n",
       "      <td>0</td>\n",
       "      <td>0</td>\n",
       "      <td>0</td>\n",
       "      <td>14</td>\n",
       "      <td>0</td>\n",
       "      <td>0</td>\n",
       "      <td>0</td>\n",
       "      <td>...</td>\n",
       "      <td>4</td>\n",
       "      <td>6</td>\n",
       "      <td>5</td>\n",
       "      <td>0</td>\n",
       "      <td>0</td>\n",
       "      <td>1</td>\n",
       "      <td>5</td>\n",
       "      <td>5</td>\n",
       "      <td>8</td>\n",
       "      <td>8</td>\n",
       "    </tr>\n",
       "  </tbody>\n",
       "</table>\n",
       "<p>4 rows × 220 columns</p>\n",
       "</div>"
      ],
      "text/plain": [
       "         ATM  Accessories Store  Airport  Airport Lounge  Airport Service  \\\n",
       "Cluster                                                                     \n",
       "0          0                  0        2               2                2   \n",
       "1          0                  0        0               0                0   \n",
       "2          1                  0        0               0                0   \n",
       "3          5                  3        0               0                0   \n",
       "\n",
       "         Airport Terminal  American Restaurant  Antique Shop  Arcade  \\\n",
       "Cluster                                                                \n",
       "0                       2                    6             0       0   \n",
       "1                       0                    5             4       0   \n",
       "2                       0                    3             0       0   \n",
       "3                       0                   14             0       0   \n",
       "\n",
       "         Arepa Restaurant     ...       Video Game Store  Video Store  \\\n",
       "Cluster                       ...                                       \n",
       "0                       0     ...                      0            0   \n",
       "1                       0     ...                      0            7   \n",
       "2                       4     ...                      0            1   \n",
       "3                       0     ...                      4            6   \n",
       "\n",
       "         Vietnamese Restaurant  Weight Loss Center  Whisky Bar  Wine Bar  \\\n",
       "Cluster                                                                    \n",
       "0                            0                   0           0         6   \n",
       "1                            0                   0           2         0   \n",
       "2                            0                   0           0         0   \n",
       "3                            5                   0           0         1   \n",
       "\n",
       "         Wine Shop  Wings Joint  Women's Store  Yoga Studio  \n",
       "Cluster                                                      \n",
       "0                0            0              0            0  \n",
       "1                0            0              0            0  \n",
       "2                2            0              0            1  \n",
       "3                5            5              8            8  \n",
       "\n",
       "[4 rows x 220 columns]"
      ]
     },
     "execution_count": 50,
     "metadata": {},
     "output_type": "execute_result"
    }
   ],
   "source": [
    "chicago_venues_score.head()"
   ]
  },
  {
   "cell_type": "markdown",
   "metadata": {},
   "source": [
    "Find the venues with the highest scores for each cluster"
   ]
  },
  {
   "cell_type": "code",
   "execution_count": 51,
   "metadata": {},
   "outputs": [
    {
     "data": {
      "text/html": [
       "<div>\n",
       "<style scoped>\n",
       "    .dataframe tbody tr th:only-of-type {\n",
       "        vertical-align: middle;\n",
       "    }\n",
       "\n",
       "    .dataframe tbody tr th {\n",
       "        vertical-align: top;\n",
       "    }\n",
       "\n",
       "    .dataframe thead th {\n",
       "        text-align: right;\n",
       "    }\n",
       "</style>\n",
       "<table border=\"1\" class=\"dataframe\">\n",
       "  <thead>\n",
       "    <tr style=\"text-align: right;\">\n",
       "      <th></th>\n",
       "      <th>Cluster 0</th>\n",
       "    </tr>\n",
       "  </thead>\n",
       "  <tbody>\n",
       "    <tr>\n",
       "      <th>Bar</th>\n",
       "      <td>21</td>\n",
       "    </tr>\n",
       "    <tr>\n",
       "      <th>Fast Food Restaurant</th>\n",
       "      <td>15</td>\n",
       "    </tr>\n",
       "    <tr>\n",
       "      <th>Cocktail Bar</th>\n",
       "      <td>13</td>\n",
       "    </tr>\n",
       "    <tr>\n",
       "      <th>Rental Car Location</th>\n",
       "      <td>12</td>\n",
       "    </tr>\n",
       "    <tr>\n",
       "      <th>Park</th>\n",
       "      <td>10</td>\n",
       "    </tr>\n",
       "  </tbody>\n",
       "</table>\n",
       "</div>"
      ],
      "text/plain": [
       "                      Cluster 0\n",
       "Bar                          21\n",
       "Fast Food Restaurant         15\n",
       "Cocktail Bar                 13\n",
       "Rental Car Location          12\n",
       "Park                         10"
      ]
     },
     "execution_count": 51,
     "metadata": {},
     "output_type": "execute_result"
    }
   ],
   "source": [
    "theft_cluster_0=return_most_common_venues(chicago_venues_score.iloc[0,:],5,0)\n",
    "theft_0=pd.DataFrame(chicago_venues_score[theft_cluster_0].loc[0,:])\n",
    "theft_0=theft_0.rename(columns={0:\"Cluster 0\"})\n",
    "theft_0.head()"
   ]
  },
  {
   "cell_type": "code",
   "execution_count": 52,
   "metadata": {},
   "outputs": [
    {
     "data": {
      "text/html": [
       "<div>\n",
       "<style scoped>\n",
       "    .dataframe tbody tr th:only-of-type {\n",
       "        vertical-align: middle;\n",
       "    }\n",
       "\n",
       "    .dataframe tbody tr th {\n",
       "        vertical-align: top;\n",
       "    }\n",
       "\n",
       "    .dataframe thead th {\n",
       "        text-align: right;\n",
       "    }\n",
       "</style>\n",
       "<table border=\"1\" class=\"dataframe\">\n",
       "  <thead>\n",
       "    <tr style=\"text-align: right;\">\n",
       "      <th></th>\n",
       "      <th>Cluster 1</th>\n",
       "    </tr>\n",
       "  </thead>\n",
       "  <tbody>\n",
       "    <tr>\n",
       "      <th>Sandwich Place</th>\n",
       "      <td>32</td>\n",
       "    </tr>\n",
       "    <tr>\n",
       "      <th>Donut Shop</th>\n",
       "      <td>19</td>\n",
       "    </tr>\n",
       "    <tr>\n",
       "      <th>Discount Store</th>\n",
       "      <td>14</td>\n",
       "    </tr>\n",
       "    <tr>\n",
       "      <th>Fast Food Restaurant</th>\n",
       "      <td>13</td>\n",
       "    </tr>\n",
       "    <tr>\n",
       "      <th>Park</th>\n",
       "      <td>13</td>\n",
       "    </tr>\n",
       "  </tbody>\n",
       "</table>\n",
       "</div>"
      ],
      "text/plain": [
       "                      Cluster 1\n",
       "Sandwich Place               32\n",
       "Donut Shop                   19\n",
       "Discount Store               14\n",
       "Fast Food Restaurant         13\n",
       "Park                         13"
      ]
     },
     "execution_count": 52,
     "metadata": {},
     "output_type": "execute_result"
    }
   ],
   "source": [
    "theft_cluster_1=return_most_common_venues(chicago_venues_score.iloc[1,:],5,0)\n",
    "theft_1=pd.DataFrame(chicago_venues_score[theft_cluster_1].loc[1,:])\n",
    "theft_1=theft_1.rename(columns={1:\"Cluster 1\"})\n",
    "theft_1.head()"
   ]
  },
  {
   "cell_type": "code",
   "execution_count": 53,
   "metadata": {},
   "outputs": [
    {
     "data": {
      "text/html": [
       "<div>\n",
       "<style scoped>\n",
       "    .dataframe tbody tr th:only-of-type {\n",
       "        vertical-align: middle;\n",
       "    }\n",
       "\n",
       "    .dataframe tbody tr th {\n",
       "        vertical-align: top;\n",
       "    }\n",
       "\n",
       "    .dataframe thead th {\n",
       "        text-align: right;\n",
       "    }\n",
       "</style>\n",
       "<table border=\"1\" class=\"dataframe\">\n",
       "  <thead>\n",
       "    <tr style=\"text-align: right;\">\n",
       "      <th></th>\n",
       "      <th>Cluster 2</th>\n",
       "    </tr>\n",
       "  </thead>\n",
       "  <tbody>\n",
       "    <tr>\n",
       "      <th>Mexican Restaurant</th>\n",
       "      <td>45</td>\n",
       "    </tr>\n",
       "    <tr>\n",
       "      <th>Coffee Shop</th>\n",
       "      <td>25</td>\n",
       "    </tr>\n",
       "    <tr>\n",
       "      <th>Sandwich Place</th>\n",
       "      <td>17</td>\n",
       "    </tr>\n",
       "    <tr>\n",
       "      <th>Hotel</th>\n",
       "      <td>16</td>\n",
       "    </tr>\n",
       "    <tr>\n",
       "      <th>Grocery Store</th>\n",
       "      <td>13</td>\n",
       "    </tr>\n",
       "  </tbody>\n",
       "</table>\n",
       "</div>"
      ],
      "text/plain": [
       "                    Cluster 2\n",
       "Mexican Restaurant         45\n",
       "Coffee Shop                25\n",
       "Sandwich Place             17\n",
       "Hotel                      16\n",
       "Grocery Store              13"
      ]
     },
     "execution_count": 53,
     "metadata": {},
     "output_type": "execute_result"
    }
   ],
   "source": [
    "theft_cluster_2=return_most_common_venues(chicago_venues_score.iloc[2,:],5,0)\n",
    "theft_2=pd.DataFrame(chicago_venues_score[theft_cluster_2].loc[2,:])\n",
    "theft_2=theft_2.rename(columns={2:\"Cluster 2\"})\n",
    "theft_2.head()"
   ]
  },
  {
   "cell_type": "code",
   "execution_count": 54,
   "metadata": {},
   "outputs": [
    {
     "data": {
      "text/html": [
       "<div>\n",
       "<style scoped>\n",
       "    .dataframe tbody tr th:only-of-type {\n",
       "        vertical-align: middle;\n",
       "    }\n",
       "\n",
       "    .dataframe tbody tr th {\n",
       "        vertical-align: top;\n",
       "    }\n",
       "\n",
       "    .dataframe thead th {\n",
       "        text-align: right;\n",
       "    }\n",
       "</style>\n",
       "<table border=\"1\" class=\"dataframe\">\n",
       "  <thead>\n",
       "    <tr style=\"text-align: right;\">\n",
       "      <th></th>\n",
       "      <th>Cluster 3</th>\n",
       "    </tr>\n",
       "  </thead>\n",
       "  <tbody>\n",
       "    <tr>\n",
       "      <th>Mexican Restaurant</th>\n",
       "      <td>61</td>\n",
       "    </tr>\n",
       "    <tr>\n",
       "      <th>Coffee Shop</th>\n",
       "      <td>40</td>\n",
       "    </tr>\n",
       "    <tr>\n",
       "      <th>Pizza Place</th>\n",
       "      <td>33</td>\n",
       "    </tr>\n",
       "    <tr>\n",
       "      <th>Bakery</th>\n",
       "      <td>29</td>\n",
       "    </tr>\n",
       "    <tr>\n",
       "      <th>Grocery Store</th>\n",
       "      <td>25</td>\n",
       "    </tr>\n",
       "  </tbody>\n",
       "</table>\n",
       "</div>"
      ],
      "text/plain": [
       "                    Cluster 3\n",
       "Mexican Restaurant         61\n",
       "Coffee Shop                40\n",
       "Pizza Place                33\n",
       "Bakery                     29\n",
       "Grocery Store              25"
      ]
     },
     "execution_count": 54,
     "metadata": {},
     "output_type": "execute_result"
    }
   ],
   "source": [
    "theft_cluster_3=return_most_common_venues(chicago_venues_score.iloc[3,:],5,0)\n",
    "theft_3=pd.DataFrame(chicago_venues_score[theft_cluster_3].loc[3,:])\n",
    "theft_3=theft_3.rename(columns={3:\"Cluster 3\"})\n",
    "theft_3.head()"
   ]
  },
  {
   "cell_type": "markdown",
   "metadata": {},
   "source": [
    "I am going to create a dataframe with the data crime and venues."
   ]
  },
  {
   "cell_type": "code",
   "execution_count": 55,
   "metadata": {},
   "outputs": [],
   "source": [
    "chicago_crime_venues=pd.merge(chicago_venues_sum, chicago_crime_sum, on=\"COMMUNITY_AREA_NUMBER\");"
   ]
  },
  {
   "cell_type": "code",
   "execution_count": 56,
   "metadata": {},
   "outputs": [
    {
     "data": {
      "text/html": [
       "<div>\n",
       "<style scoped>\n",
       "    .dataframe tbody tr th:only-of-type {\n",
       "        vertical-align: middle;\n",
       "    }\n",
       "\n",
       "    .dataframe tbody tr th {\n",
       "        vertical-align: top;\n",
       "    }\n",
       "\n",
       "    .dataframe thead th {\n",
       "        text-align: right;\n",
       "    }\n",
       "</style>\n",
       "<table border=\"1\" class=\"dataframe\">\n",
       "  <thead>\n",
       "    <tr style=\"text-align: right;\">\n",
       "      <th></th>\n",
       "      <th>COMMUNITY_AREA_NUMBER</th>\n",
       "      <th>Cluster</th>\n",
       "      <th>COMMUNITY_AREA_NAME</th>\n",
       "      <th>ATM</th>\n",
       "      <th>Accessories Store</th>\n",
       "      <th>Airport</th>\n",
       "      <th>Airport Lounge</th>\n",
       "      <th>Airport Service</th>\n",
       "      <th>Airport Terminal</th>\n",
       "      <th>American Restaurant</th>\n",
       "      <th>...</th>\n",
       "      <th>OTHER OFFENSE</th>\n",
       "      <th>PROSTITUTION</th>\n",
       "      <th>PUBLIC INDECENCY</th>\n",
       "      <th>PUBLIC PEACE VIOLATION</th>\n",
       "      <th>RITUALISM</th>\n",
       "      <th>ROBBERY</th>\n",
       "      <th>SEX OFFENSE</th>\n",
       "      <th>STALKING</th>\n",
       "      <th>THEFT</th>\n",
       "      <th>WEAPONS VIOLATION</th>\n",
       "    </tr>\n",
       "  </thead>\n",
       "  <tbody>\n",
       "    <tr>\n",
       "      <th>0</th>\n",
       "      <td>1.0</td>\n",
       "      <td>0</td>\n",
       "      <td>Rogers Park</td>\n",
       "      <td>0</td>\n",
       "      <td>0</td>\n",
       "      <td>0</td>\n",
       "      <td>0</td>\n",
       "      <td>0</td>\n",
       "      <td>0</td>\n",
       "      <td>1</td>\n",
       "      <td>...</td>\n",
       "      <td>1</td>\n",
       "      <td>1</td>\n",
       "      <td>0</td>\n",
       "      <td>0</td>\n",
       "      <td>0</td>\n",
       "      <td>0</td>\n",
       "      <td>0</td>\n",
       "      <td>0</td>\n",
       "      <td>1</td>\n",
       "      <td>0</td>\n",
       "    </tr>\n",
       "    <tr>\n",
       "      <th>1</th>\n",
       "      <td>2.0</td>\n",
       "      <td>3</td>\n",
       "      <td>West Ridge</td>\n",
       "      <td>0</td>\n",
       "      <td>0</td>\n",
       "      <td>0</td>\n",
       "      <td>0</td>\n",
       "      <td>0</td>\n",
       "      <td>0</td>\n",
       "      <td>1</td>\n",
       "      <td>...</td>\n",
       "      <td>2</td>\n",
       "      <td>0</td>\n",
       "      <td>0</td>\n",
       "      <td>0</td>\n",
       "      <td>0</td>\n",
       "      <td>1</td>\n",
       "      <td>0</td>\n",
       "      <td>0</td>\n",
       "      <td>1</td>\n",
       "      <td>0</td>\n",
       "    </tr>\n",
       "    <tr>\n",
       "      <th>2</th>\n",
       "      <td>3.0</td>\n",
       "      <td>0</td>\n",
       "      <td>Uptown</td>\n",
       "      <td>0</td>\n",
       "      <td>0</td>\n",
       "      <td>0</td>\n",
       "      <td>0</td>\n",
       "      <td>0</td>\n",
       "      <td>0</td>\n",
       "      <td>1</td>\n",
       "      <td>...</td>\n",
       "      <td>0</td>\n",
       "      <td>0</td>\n",
       "      <td>0</td>\n",
       "      <td>0</td>\n",
       "      <td>0</td>\n",
       "      <td>0</td>\n",
       "      <td>0</td>\n",
       "      <td>0</td>\n",
       "      <td>0</td>\n",
       "      <td>0</td>\n",
       "    </tr>\n",
       "    <tr>\n",
       "      <th>3</th>\n",
       "      <td>4.0</td>\n",
       "      <td>0</td>\n",
       "      <td>Lincoln Square</td>\n",
       "      <td>0</td>\n",
       "      <td>0</td>\n",
       "      <td>0</td>\n",
       "      <td>0</td>\n",
       "      <td>0</td>\n",
       "      <td>0</td>\n",
       "      <td>1</td>\n",
       "      <td>...</td>\n",
       "      <td>0</td>\n",
       "      <td>0</td>\n",
       "      <td>0</td>\n",
       "      <td>0</td>\n",
       "      <td>0</td>\n",
       "      <td>0</td>\n",
       "      <td>0</td>\n",
       "      <td>0</td>\n",
       "      <td>0</td>\n",
       "      <td>0</td>\n",
       "    </tr>\n",
       "    <tr>\n",
       "      <th>4</th>\n",
       "      <td>5.0</td>\n",
       "      <td>0</td>\n",
       "      <td>North Center</td>\n",
       "      <td>0</td>\n",
       "      <td>0</td>\n",
       "      <td>0</td>\n",
       "      <td>0</td>\n",
       "      <td>0</td>\n",
       "      <td>0</td>\n",
       "      <td>2</td>\n",
       "      <td>...</td>\n",
       "      <td>0</td>\n",
       "      <td>0</td>\n",
       "      <td>0</td>\n",
       "      <td>0</td>\n",
       "      <td>0</td>\n",
       "      <td>1</td>\n",
       "      <td>0</td>\n",
       "      <td>0</td>\n",
       "      <td>1</td>\n",
       "      <td>0</td>\n",
       "    </tr>\n",
       "  </tbody>\n",
       "</table>\n",
       "<p>5 rows × 258 columns</p>\n",
       "</div>"
      ],
      "text/plain": [
       "   COMMUNITY_AREA_NUMBER  Cluster COMMUNITY_AREA_NAME  ATM  Accessories Store  \\\n",
       "0                    1.0        0         Rogers Park    0                  0   \n",
       "1                    2.0        3          West Ridge    0                  0   \n",
       "2                    3.0        0              Uptown    0                  0   \n",
       "3                    4.0        0      Lincoln Square    0                  0   \n",
       "4                    5.0        0        North Center    0                  0   \n",
       "\n",
       "   Airport  Airport Lounge  Airport Service  Airport Terminal  \\\n",
       "0        0               0                0                 0   \n",
       "1        0               0                0                 0   \n",
       "2        0               0                0                 0   \n",
       "3        0               0                0                 0   \n",
       "4        0               0                0                 0   \n",
       "\n",
       "   American Restaurant        ...          OTHER OFFENSE  PROSTITUTION  \\\n",
       "0                    1        ...                      1             1   \n",
       "1                    1        ...                      2             0   \n",
       "2                    1        ...                      0             0   \n",
       "3                    1        ...                      0             0   \n",
       "4                    2        ...                      0             0   \n",
       "\n",
       "   PUBLIC INDECENCY  PUBLIC PEACE VIOLATION  RITUALISM  ROBBERY  SEX OFFENSE  \\\n",
       "0                 0                       0          0        0            0   \n",
       "1                 0                       0          0        1            0   \n",
       "2                 0                       0          0        0            0   \n",
       "3                 0                       0          0        0            0   \n",
       "4                 0                       0          0        1            0   \n",
       "\n",
       "   STALKING  THEFT  WEAPONS VIOLATION  \n",
       "0         0      1                  0  \n",
       "1         0      1                  0  \n",
       "2         0      0                  0  \n",
       "3         0      0                  0  \n",
       "4         0      1                  0  \n",
       "\n",
       "[5 rows x 258 columns]"
      ]
     },
     "execution_count": 56,
     "metadata": {},
     "output_type": "execute_result"
    }
   ],
   "source": [
    "chicago_crime_venues.head()"
   ]
  },
  {
   "cell_type": "code",
   "execution_count": 58,
   "metadata": {},
   "outputs": [],
   "source": [
    "correlation_crime=chicago_crime_venues.corr()"
   ]
  },
  {
   "cell_type": "code",
   "execution_count": 70,
   "metadata": {},
   "outputs": [
    {
     "data": {
      "text/plain": [
       "Sandwich Place    0.342396\n",
       "Hotel             0.313527\n",
       "Hockey Arena      0.283375\n",
       "Donut Shop        0.266725\n",
       "Coffee Shop       0.258426\n",
       "Name: THEFT, dtype: float64"
      ]
     },
     "execution_count": 70,
     "metadata": {},
     "output_type": "execute_result"
    }
   ],
   "source": [
    "np.abs(correlation_crime[\"THEFT\"][2:222]).sort_values(ascending=False)[:5]"
   ]
  },
  {
   "cell_type": "markdown",
   "metadata": {},
   "source": [
    "I will look for correlations in each cluster."
   ]
  },
  {
   "cell_type": "code",
   "execution_count": 64,
   "metadata": {},
   "outputs": [],
   "source": [
    "chicago_crime_venues_0=chicago_crime_venues[chicago_crime_venues[\"Cluster\"]==0]\n",
    "correlation_crime_0=chicago_crime_venues_0.corr()\n",
    "chicago_crime_venues_1=chicago_crime_venues[chicago_crime_venues[\"Cluster\"]==1]\n",
    "correlation_crime_1=chicago_crime_venues_1.corr()\n",
    "chicago_crime_venues_2=chicago_crime_venues[chicago_crime_venues[\"Cluster\"]==2]\n",
    "correlation_crime_2=chicago_crime_venues_2.corr()\n",
    "chicago_crime_venues_3=chicago_crime_venues[chicago_crime_venues[\"Cluster\"]==3]\n",
    "correlation_crime_3=chicago_crime_venues_3.corr()"
   ]
  },
  {
   "cell_type": "markdown",
   "metadata": {},
   "source": [
    "I look for correlation in theft within each cluster."
   ]
  },
  {
   "cell_type": "code",
   "execution_count": 66,
   "metadata": {},
   "outputs": [
    {
     "data": {
      "text/plain": [
       "Chinese Restaurant    0.591608\n",
       "Sushi Restaurant      0.512823\n",
       "Hotel                 0.501739\n",
       "Hockey Arena          0.479157\n",
       "Gastropub             0.479157\n",
       "Name: THEFT, dtype: float64"
      ]
     },
     "execution_count": 66,
     "metadata": {},
     "output_type": "execute_result"
    }
   ],
   "source": [
    "np.abs(correlation_crime_0[\"THEFT\"][2:222]).sort_values(ascending=False)[:5]"
   ]
  },
  {
   "cell_type": "code",
   "execution_count": 67,
   "metadata": {},
   "outputs": [
    {
     "data": {
      "text/plain": [
       "Donut Shop            0.875439\n",
       "Sandwich Place        0.782350\n",
       "Seafood Restaurant    0.468867\n",
       "Wings Joint           0.418216\n",
       "Mexican Restaurant    0.418216\n",
       "Name: THEFT, dtype: float64"
      ]
     },
     "execution_count": 67,
     "metadata": {},
     "output_type": "execute_result"
    }
   ],
   "source": [
    "np.abs(correlation_crime_1[\"THEFT\"][2:222]).sort_values(ascending=False)[:5]"
   ]
  },
  {
   "cell_type": "code",
   "execution_count": 68,
   "metadata": {},
   "outputs": [
    {
     "data": {
      "text/plain": [
       "Liquor Store           0.571772\n",
       "Recreation Center      0.571772\n",
       "American Restaurant    0.495074\n",
       "Athletics & Sports     0.371305\n",
       "Greek Restaurant       0.369970\n",
       "Name: THEFT, dtype: float64"
      ]
     },
     "execution_count": 68,
     "metadata": {},
     "output_type": "execute_result"
    }
   ],
   "source": [
    "np.abs(correlation_crime_2[\"THEFT\"][2:222]).sort_values(ascending=False)[:5]"
   ]
  },
  {
   "cell_type": "code",
   "execution_count": 69,
   "metadata": {},
   "outputs": [
    {
     "data": {
      "text/plain": [
       "Pharmacy               0.563621\n",
       "Record Shop            0.448543\n",
       "Restaurant             0.423413\n",
       "Fried Chicken Joint    0.413080\n",
       "Hobby Shop             0.310530\n",
       "Name: THEFT, dtype: float64"
      ]
     },
     "execution_count": 69,
     "metadata": {},
     "output_type": "execute_result"
    }
   ],
   "source": [
    "np.abs(correlation_crime_3[\"THEFT\"][2:222]).sort_values(ascending=False)[:5]"
   ]
  },
  {
   "cell_type": "markdown",
   "metadata": {},
   "source": [
    "I look for correlations with Battery"
   ]
  },
  {
   "cell_type": "code",
   "execution_count": 71,
   "metadata": {},
   "outputs": [
    {
     "data": {
      "text/plain": [
       "Spa                    0.699854\n",
       "Japanese Restaurant    0.640563\n",
       "Pharmacy               0.612372\n",
       "Asian Restaurant       0.598005\n",
       "Video Game Store       0.553571\n",
       "Name: BATTERY, dtype: float64"
      ]
     },
     "execution_count": 71,
     "metadata": {},
     "output_type": "execute_result"
    }
   ],
   "source": [
    "np.abs(correlation_crime_0[\"BATTERY\"][2:222]).sort_values(ascending=False)[:5]"
   ]
  },
  {
   "cell_type": "code",
   "execution_count": 72,
   "metadata": {},
   "outputs": [
    {
     "data": {
      "text/plain": [
       "Donut Shop                    0.708652\n",
       "Seafood Restaurant            0.472694\n",
       "Construction & Landscaping    0.388544\n",
       "Sandwich Place                0.366040\n",
       "Salon / Barbershop            0.352141\n",
       "Name: BATTERY, dtype: float64"
      ]
     },
     "execution_count": 72,
     "metadata": {},
     "output_type": "execute_result"
    }
   ],
   "source": [
    "np.abs(correlation_crime_1[\"BATTERY\"][2:222]).sort_values(ascending=False)[:5]"
   ]
  },
  {
   "cell_type": "code",
   "execution_count": 73,
   "metadata": {},
   "outputs": [
    {
     "data": {
      "text/plain": [
       "Recreation Center     0.563213\n",
       "Liquor Store          0.563213\n",
       "Athletics & Sports    0.538867\n",
       "Bus Station           0.424198\n",
       "Gas Station           0.385297\n",
       "Name: BATTERY, dtype: float64"
      ]
     },
     "execution_count": 73,
     "metadata": {},
     "output_type": "execute_result"
    }
   ],
   "source": [
    "np.abs(correlation_crime_2[\"BATTERY\"][2:222]).sort_values(ascending=False)[:5]"
   ]
  },
  {
   "cell_type": "code",
   "execution_count": 74,
   "metadata": {},
   "outputs": [
    {
     "data": {
      "text/plain": [
       "Grocery Store          0.571863\n",
       "Boutique               0.555219\n",
       "Indian Restaurant      0.405877\n",
       "Rental Car Location    0.405877\n",
       "Food Truck             0.405877\n",
       "Name: BATTERY, dtype: float64"
      ]
     },
     "execution_count": 74,
     "metadata": {},
     "output_type": "execute_result"
    }
   ],
   "source": [
    "np.abs(correlation_crime_3[\"BATTERY\"][2:222]).sort_values(ascending=False)[:5]"
   ]
  },
  {
   "cell_type": "markdown",
   "metadata": {},
   "source": [
    "Correlations in Criminal Damage"
   ]
  },
  {
   "cell_type": "code",
   "execution_count": 75,
   "metadata": {},
   "outputs": [
    {
     "data": {
      "text/plain": [
       "Brewery              0.825258\n",
       "Food & Drink Shop    0.825258\n",
       "Dive Bar             0.755991\n",
       "Art Gallery          0.733213\n",
       "Greek Restaurant     0.727448\n",
       "Name: CRIMINAL DAMAGE, dtype: float64"
      ]
     },
     "execution_count": 75,
     "metadata": {},
     "output_type": "execute_result"
    }
   ],
   "source": [
    "np.abs(correlation_crime_0[\"CRIMINAL DAMAGE\"][2:222]).sort_values(ascending=False)[:5]"
   ]
  },
  {
   "cell_type": "code",
   "execution_count": 76,
   "metadata": {},
   "outputs": [
    {
     "data": {
      "text/plain": [
       "Sandwich Place                0.647261\n",
       "Park                          0.410389\n",
       "Construction & Landscaping    0.372326\n",
       "Gas Station                   0.372326\n",
       "Diner                         0.333269\n",
       "Name: CRIMINAL DAMAGE, dtype: float64"
      ]
     },
     "execution_count": 76,
     "metadata": {},
     "output_type": "execute_result"
    }
   ],
   "source": [
    "np.abs(correlation_crime_1[\"CRIMINAL DAMAGE\"][2:222]).sort_values(ascending=False)[:5]"
   ]
  },
  {
   "cell_type": "code",
   "execution_count": 77,
   "metadata": {},
   "outputs": [
    {
     "data": {
      "text/plain": [
       "Café                  0.656330\n",
       "Breakfast Spot        0.573944\n",
       "Diner                 0.483046\n",
       "Pizza Place           0.434959\n",
       "Chinese Restaurant    0.430458\n",
       "Name: CRIMINAL DAMAGE, dtype: float64"
      ]
     },
     "execution_count": 77,
     "metadata": {},
     "output_type": "execute_result"
    }
   ],
   "source": [
    "np.abs(correlation_crime_2[\"CRIMINAL DAMAGE\"][2:222]).sort_values(ascending=False)[:5]"
   ]
  },
  {
   "cell_type": "code",
   "execution_count": 78,
   "metadata": {},
   "outputs": [
    {
     "data": {
      "text/plain": [
       "Automotive Shop       0.607332\n",
       "Park                  0.440800\n",
       "BBQ Joint             0.422500\n",
       "Intersection          0.422500\n",
       "Light Rail Station    0.419099\n",
       "Name: CRIMINAL DAMAGE, dtype: float64"
      ]
     },
     "execution_count": 78,
     "metadata": {},
     "output_type": "execute_result"
    }
   ],
   "source": [
    "np.abs(correlation_crime_3[\"CRIMINAL DAMAGE\"][2:222]).sort_values(ascending=False)[:5]"
   ]
  },
  {
   "cell_type": "markdown",
   "metadata": {},
   "source": [
    "Correlations for Narcotics"
   ]
  },
  {
   "cell_type": "code",
   "execution_count": 80,
   "metadata": {},
   "outputs": [
    {
     "data": {
      "text/plain": [
       "Big Box Store            0.75724\n",
       "General Entertainment    0.75724\n",
       "Wings Joint              0.75724\n",
       "Concert Hall             0.75724\n",
       "Ethiopian Restaurant     0.75724\n",
       "Name: NARCOTICS, dtype: float64"
      ]
     },
     "execution_count": 80,
     "metadata": {},
     "output_type": "execute_result"
    }
   ],
   "source": [
    "np.abs(correlation_crime_0[\"NARCOTICS\"][2:222]).sort_values(ascending=False)[:5]"
   ]
  },
  {
   "cell_type": "code",
   "execution_count": 81,
   "metadata": {},
   "outputs": [
    {
     "data": {
      "text/plain": [
       "Seafood Restaurant    0.639751\n",
       "Donut Shop            0.578612\n",
       "Salon / Barbershop    0.458329\n",
       "Discount Store        0.407207\n",
       "Bus Station           0.304809\n",
       "Name: NARCOTICS, dtype: float64"
      ]
     },
     "execution_count": 81,
     "metadata": {},
     "output_type": "execute_result"
    }
   ],
   "source": [
    "np.abs(correlation_crime_1[\"NARCOTICS\"][2:222]).sort_values(ascending=False)[:5]"
   ]
  },
  {
   "cell_type": "code",
   "execution_count": 82,
   "metadata": {},
   "outputs": [
    {
     "data": {
      "text/plain": [
       "Recreation Center     0.819746\n",
       "Liquor Store          0.819746\n",
       "Sandwich Place        0.415058\n",
       "Café                  0.320770\n",
       "Chinese Restaurant    0.311673\n",
       "Name: NARCOTICS, dtype: float64"
      ]
     },
     "execution_count": 82,
     "metadata": {},
     "output_type": "execute_result"
    }
   ],
   "source": [
    "np.abs(correlation_crime_2[\"NARCOTICS\"][2:222]).sort_values(ascending=False)[:5]"
   ]
  },
  {
   "cell_type": "code",
   "execution_count": 83,
   "metadata": {},
   "outputs": [
    {
     "data": {
      "text/plain": [
       "Gas Station           0.751237\n",
       "Home Service          0.614035\n",
       "Playground            0.549170\n",
       "Light Rail Station    0.549170\n",
       "Hostel                0.549170\n",
       "Name: NARCOTICS, dtype: float64"
      ]
     },
     "execution_count": 83,
     "metadata": {},
     "output_type": "execute_result"
    }
   ],
   "source": [
    "np.abs(correlation_crime_3[\"NARCOTICS\"][2:222]).sort_values(ascending=False)[:5]"
   ]
  },
  {
   "cell_type": "markdown",
   "metadata": {},
   "source": [
    "Correlations for Burglary"
   ]
  },
  {
   "cell_type": "code",
   "execution_count": 84,
   "metadata": {},
   "outputs": [
    {
     "data": {
      "text/plain": [
       "German Restaurant          0.784465\n",
       "Metro Station              0.681385\n",
       "Pilates Studio             0.681385\n",
       "North Indian Restaurant    0.681385\n",
       "Burrito Place              0.681385\n",
       "Name: BURGLARY, dtype: float64"
      ]
     },
     "execution_count": 84,
     "metadata": {},
     "output_type": "execute_result"
    }
   ],
   "source": [
    "np.abs(correlation_crime_0[\"BURGLARY\"][2:222]).sort_values(ascending=False)[:5]"
   ]
  },
  {
   "cell_type": "code",
   "execution_count": null,
   "metadata": {},
   "outputs": [],
   "source": []
  }
 ],
 "metadata": {
  "kernelspec": {
   "display_name": "Python 3",
   "language": "python",
   "name": "python3"
  },
  "language_info": {
   "codemirror_mode": {
    "name": "ipython",
    "version": 3
   },
   "file_extension": ".py",
   "mimetype": "text/x-python",
   "name": "python",
   "nbconvert_exporter": "python",
   "pygments_lexer": "ipython3",
   "version": "3.7.1"
  }
 },
 "nbformat": 4,
 "nbformat_minor": 2
}
