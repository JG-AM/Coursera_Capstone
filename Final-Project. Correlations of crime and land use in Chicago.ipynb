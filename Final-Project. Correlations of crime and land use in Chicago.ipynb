{
 "cells": [
  {
   "cell_type": "markdown",
   "metadata": {},
   "source": [
    "# Correlations of crime and land use in Chicago\n",
    "\n",
    "# Capstone project IBM Data Science\n",
    "\n",
    "I would explore the correlations between the amount and types of crimes committed in a community area and the venues located there.  \n",
    "\n",
    "The relations between crime and socioeconomic conditions are unclear. Often there are contradictory reports on whether difficult economic conditions create more crime or whether a booming economy that increases the availability of money and goods promotes crime. Nevertheless, it is important to do not dismiss possible connections between the economy and crime. In this project, I will try to find if the crimes committed in community areas with similar socioeconomic have a relation with the land use. For example, let's suppose that  A and B are community areas with similar economic conditions, but area A is much safer than area B. I want to see if the types of venues in area A are similar to those in area B. If they are not similar, then study what types of venues are present in the safer environment.  The venues could be parks, liquor shops, restaurants among others. \n",
    "\n",
    "Also, venues that reduce crime in one type of area do not necessarily affect crime in other types of areas.  One hypothesis here is that parks can be that kind of venue. In areas with a high rate of crime, social interactions can induce people to become criminals. Parks promote social interaction.  Therefore parks there contribute to crime. On the other hand, parks will not affect crime in areas with low rate crime. \n",
    "\n",
    "This project could help policymakers to design safer neighborhoods by building or closing venues to reduce crime. "
   ]
  },
  {
   "cell_type": "markdown",
   "metadata": {},
   "source": [
    "# Data\n",
    "\n",
    "To reduce the effects of variables not considered in this project I will only compare neighborhoods in the same city.  Due to the availability of the data, I choose Chicago. The datasets of the crime and economic status of the neighborhoods in Chicago were already given in previous courses of this certification.   "
   ]
  },
  {
   "cell_type": "code",
   "execution_count": 1,
   "metadata": {},
   "outputs": [],
   "source": [
    "import csv\n",
    "import pandas as pd\n",
    "\n",
    "import json # library to handle JSON files\n",
    "\n",
    "from geopy.geocoders import Nominatim # convert an address into latitude and longitude values\n",
    "\n",
    "import requests # library to handle requests\n",
    "from pandas.io.json import json_normalize # tranform JSON file into a pandas dataframe\n",
    "\n",
    "# Matplotlib and associated plotting modules\n",
    "import matplotlib.cm as cm\n",
    "import matplotlib.colors as colors\n",
    "\n",
    "# import k-means from clustering stage\n",
    "from sklearn.cluster import KMeans\n",
    "\n",
    "\n",
    "import folium # map rendering library\n",
    "import numpy as np\n",
    "import matplotlib.pyplot as plt\n",
    "import seaborn as sns"
   ]
  },
  {
   "cell_type": "code",
   "execution_count": 4,
   "metadata": {},
   "outputs": [
    {
     "data": {
      "text/html": [
       "<div>\n",
       "<style scoped>\n",
       "    .dataframe tbody tr th:only-of-type {\n",
       "        vertical-align: middle;\n",
       "    }\n",
       "\n",
       "    .dataframe tbody tr th {\n",
       "        vertical-align: top;\n",
       "    }\n",
       "\n",
       "    .dataframe thead th {\n",
       "        text-align: right;\n",
       "    }\n",
       "</style>\n",
       "<table border=\"1\" class=\"dataframe\">\n",
       "  <thead>\n",
       "    <tr style=\"text-align: right;\">\n",
       "      <th></th>\n",
       "      <th>COMMUNITY_AREA_NUMBER</th>\n",
       "      <th>COMMUNITY_AREA_NAME</th>\n",
       "      <th>PERCENT OF HOUSING CROWDED</th>\n",
       "      <th>PERCENT HOUSEHOLDS BELOW POVERTY</th>\n",
       "      <th>PERCENT AGED 16+ UNEMPLOYED</th>\n",
       "      <th>PERCENT AGED 25+ WITHOUT HIGH SCHOOL DIPLOMA</th>\n",
       "      <th>PERCENT AGED UNDER 18 OR OVER 64</th>\n",
       "      <th>PER_CAPITA_INCOME</th>\n",
       "      <th>HARDSHIP_INDEX</th>\n",
       "    </tr>\n",
       "  </thead>\n",
       "  <tbody>\n",
       "    <tr>\n",
       "      <th>73</th>\n",
       "      <td>74.0</td>\n",
       "      <td>Mount Greenwood</td>\n",
       "      <td>1.0</td>\n",
       "      <td>3.4</td>\n",
       "      <td>8.7</td>\n",
       "      <td>4.3</td>\n",
       "      <td>36.8</td>\n",
       "      <td>34381</td>\n",
       "      <td>16.0</td>\n",
       "    </tr>\n",
       "    <tr>\n",
       "      <th>74</th>\n",
       "      <td>75.0</td>\n",
       "      <td>Morgan Park</td>\n",
       "      <td>0.8</td>\n",
       "      <td>13.2</td>\n",
       "      <td>15.0</td>\n",
       "      <td>10.8</td>\n",
       "      <td>40.3</td>\n",
       "      <td>27149</td>\n",
       "      <td>30.0</td>\n",
       "    </tr>\n",
       "    <tr>\n",
       "      <th>75</th>\n",
       "      <td>76.0</td>\n",
       "      <td>O'Hare</td>\n",
       "      <td>3.6</td>\n",
       "      <td>15.4</td>\n",
       "      <td>7.1</td>\n",
       "      <td>10.9</td>\n",
       "      <td>30.3</td>\n",
       "      <td>25828</td>\n",
       "      <td>24.0</td>\n",
       "    </tr>\n",
       "    <tr>\n",
       "      <th>76</th>\n",
       "      <td>77.0</td>\n",
       "      <td>Edgewater</td>\n",
       "      <td>4.1</td>\n",
       "      <td>18.2</td>\n",
       "      <td>9.2</td>\n",
       "      <td>9.7</td>\n",
       "      <td>23.8</td>\n",
       "      <td>33385</td>\n",
       "      <td>19.0</td>\n",
       "    </tr>\n",
       "    <tr>\n",
       "      <th>77</th>\n",
       "      <td>NaN</td>\n",
       "      <td>CHICAGO</td>\n",
       "      <td>4.7</td>\n",
       "      <td>19.7</td>\n",
       "      <td>12.9</td>\n",
       "      <td>19.5</td>\n",
       "      <td>33.5</td>\n",
       "      <td>28202</td>\n",
       "      <td>NaN</td>\n",
       "    </tr>\n",
       "  </tbody>\n",
       "</table>\n",
       "</div>"
      ],
      "text/plain": [
       "    COMMUNITY_AREA_NUMBER COMMUNITY_AREA_NAME  PERCENT OF HOUSING CROWDED  \\\n",
       "73                   74.0     Mount Greenwood                         1.0   \n",
       "74                   75.0         Morgan Park                         0.8   \n",
       "75                   76.0              O'Hare                         3.6   \n",
       "76                   77.0           Edgewater                         4.1   \n",
       "77                    NaN             CHICAGO                         4.7   \n",
       "\n",
       "    PERCENT HOUSEHOLDS BELOW POVERTY  PERCENT AGED 16+ UNEMPLOYED  \\\n",
       "73                               3.4                          8.7   \n",
       "74                              13.2                         15.0   \n",
       "75                              15.4                          7.1   \n",
       "76                              18.2                          9.2   \n",
       "77                              19.7                         12.9   \n",
       "\n",
       "    PERCENT AGED 25+ WITHOUT HIGH SCHOOL DIPLOMA  \\\n",
       "73                                           4.3   \n",
       "74                                          10.8   \n",
       "75                                          10.9   \n",
       "76                                           9.7   \n",
       "77                                          19.5   \n",
       "\n",
       "    PERCENT AGED UNDER 18 OR OVER 64  PER_CAPITA_INCOME   HARDSHIP_INDEX  \n",
       "73                              36.8               34381            16.0  \n",
       "74                              40.3               27149            30.0  \n",
       "75                              30.3               25828            24.0  \n",
       "76                              23.8               33385            19.0  \n",
       "77                              33.5               28202             NaN  "
      ]
     },
     "execution_count": 4,
     "metadata": {},
     "output_type": "execute_result"
    }
   ],
   "source": [
    "economic_data = pd.read_csv(\"Census_Data_Selected_socioeconomic_indicators_in_Chicago__2008___2012.csv\")\n",
    "economic_data.tail(5)"
   ]
  },
  {
   "cell_type": "markdown",
   "metadata": {},
   "source": [
    "This dataset contain 9 parameters. I will only describe the ones that are not clear. \n",
    "\n",
    "**Percent of housing crowded**: Percentage of houses with more people than rooms.\n",
    "\n",
    "**Percent households below poverty**: Percentage of houses with an income less than the federal poverty level. In 2012 it was an income of 23 050 for a family of 4.\n",
    "\n",
    "**Hardship index**: It is an score that combines the 6 socioeconomic indicators in this dataset.\n",
    "\n",
    "I plan to cluster the data set, to obtain similar socieconomic community areas."
   ]
  },
  {
   "cell_type": "code",
   "execution_count": 3,
   "metadata": {},
   "outputs": [
    {
     "data": {
      "text/html": [
       "<div>\n",
       "<style scoped>\n",
       "    .dataframe tbody tr th:only-of-type {\n",
       "        vertical-align: middle;\n",
       "    }\n",
       "\n",
       "    .dataframe tbody tr th {\n",
       "        vertical-align: top;\n",
       "    }\n",
       "\n",
       "    .dataframe thead th {\n",
       "        text-align: right;\n",
       "    }\n",
       "</style>\n",
       "<table border=\"1\" class=\"dataframe\">\n",
       "  <thead>\n",
       "    <tr style=\"text-align: right;\">\n",
       "      <th></th>\n",
       "      <th>ID</th>\n",
       "      <th>PRIMARY_TYPE</th>\n",
       "      <th>DESCRIPTION</th>\n",
       "      <th>LOCATION_DESCRIPTION</th>\n",
       "      <th>ARREST</th>\n",
       "      <th>DOMESTIC</th>\n",
       "      <th>COMMUNITY_AREA_NUMBER</th>\n",
       "      <th>FBICODE</th>\n",
       "      <th>LATITUDE</th>\n",
       "      <th>LONGITUDE</th>\n",
       "    </tr>\n",
       "  </thead>\n",
       "  <tbody>\n",
       "    <tr>\n",
       "      <th>0</th>\n",
       "      <td>3512276</td>\n",
       "      <td>THEFT</td>\n",
       "      <td>FROM BUILDING</td>\n",
       "      <td>SMALL RETAIL STORE</td>\n",
       "      <td>False</td>\n",
       "      <td>False</td>\n",
       "      <td>58.0</td>\n",
       "      <td>6</td>\n",
       "      <td>41.807441</td>\n",
       "      <td>-87.703956</td>\n",
       "    </tr>\n",
       "    <tr>\n",
       "      <th>1</th>\n",
       "      <td>3406613</td>\n",
       "      <td>THEFT</td>\n",
       "      <td>$500 AND UNDER</td>\n",
       "      <td>OTHER</td>\n",
       "      <td>False</td>\n",
       "      <td>False</td>\n",
       "      <td>23.0</td>\n",
       "      <td>6</td>\n",
       "      <td>41.898280</td>\n",
       "      <td>-87.716406</td>\n",
       "    </tr>\n",
       "  </tbody>\n",
       "</table>\n",
       "</div>"
      ],
      "text/plain": [
       "        ID PRIMARY_TYPE     DESCRIPTION LOCATION_DESCRIPTION  ARREST  \\\n",
       "0  3512276        THEFT   FROM BUILDING   SMALL RETAIL STORE   False   \n",
       "1  3406613        THEFT  $500 AND UNDER                OTHER   False   \n",
       "\n",
       "   DOMESTIC  COMMUNITY_AREA_NUMBER FBICODE   LATITUDE  LONGITUDE  \n",
       "0     False                   58.0       6  41.807441 -87.703956  \n",
       "1     False                   23.0       6  41.898280 -87.716406  "
      ]
     },
     "execution_count": 3,
     "metadata": {},
     "output_type": "execute_result"
    }
   ],
   "source": [
    "crime_data=pd.read_csv(\"Chicago_Crime_Data.csv\")\n",
    "crime_data=crime_data.drop([\"CASE_NUMBER\",\"DATE\",\"BLOCK\",\"IUCR\",\"BEAT\",\"DISTRICT\",\"WARD\",\"X_COORDINATE\",\"Y_COORDINATE\",\"YEAR\",\"UPDATEDON\",\"LOCATION\"], axis=1)\n",
    "crime_data.head(2)"
   ]
  },
  {
   "cell_type": "markdown",
   "metadata": {},
   "source": [
    "I only left the relevent information to project. That is the crimes, the types of crimes and their location. The **FBICODE** is a classification of crimes."
   ]
  },
  {
   "cell_type": "markdown",
   "metadata": {},
   "source": [
    "## Venues in a community area\n",
    "\n",
    "To obtain the venues in an area, I need the location of the area. I will take the locaction of an area as the average location of the crimes within that area. "
   ]
  },
  {
   "cell_type": "code",
   "execution_count": 4,
   "metadata": {},
   "outputs": [
    {
     "data": {
      "text/html": [
       "<div>\n",
       "<style scoped>\n",
       "    .dataframe tbody tr th:only-of-type {\n",
       "        vertical-align: middle;\n",
       "    }\n",
       "\n",
       "    .dataframe tbody tr th {\n",
       "        vertical-align: top;\n",
       "    }\n",
       "\n",
       "    .dataframe thead th {\n",
       "        text-align: right;\n",
       "    }\n",
       "</style>\n",
       "<table border=\"1\" class=\"dataframe\">\n",
       "  <thead>\n",
       "    <tr style=\"text-align: right;\">\n",
       "      <th></th>\n",
       "      <th>LATITUDE</th>\n",
       "      <th>LONGITUDE</th>\n",
       "    </tr>\n",
       "    <tr>\n",
       "      <th>COMMUNITY_AREA_NUMBER</th>\n",
       "      <th></th>\n",
       "      <th></th>\n",
       "    </tr>\n",
       "  </thead>\n",
       "  <tbody>\n",
       "    <tr>\n",
       "      <th>1.0</th>\n",
       "      <td>42.013645</td>\n",
       "      <td>-87.673434</td>\n",
       "    </tr>\n",
       "    <tr>\n",
       "      <th>2.0</th>\n",
       "      <td>41.995488</td>\n",
       "      <td>-87.699195</td>\n",
       "    </tr>\n",
       "  </tbody>\n",
       "</table>\n",
       "</div>"
      ],
      "text/plain": [
       "                        LATITUDE  LONGITUDE\n",
       "COMMUNITY_AREA_NUMBER                      \n",
       "1.0                    42.013645 -87.673434\n",
       "2.0                    41.995488 -87.699195"
      ]
     },
     "execution_count": 4,
     "metadata": {},
     "output_type": "execute_result"
    }
   ],
   "source": [
    "location=crime_data.groupby([\"COMMUNITY_AREA_NUMBER\"]).mean()\n",
    "location=location.drop([\"ID\",\"ARREST\",\"DOMESTIC\"], axis=1)\n",
    "location.head(2)"
   ]
  },
  {
   "cell_type": "markdown",
   "metadata": {},
   "source": [
    "I create a dataframe with community areas names, community area number, latitude and longitude."
   ]
  },
  {
   "cell_type": "code",
   "execution_count": 5,
   "metadata": {},
   "outputs": [],
   "source": [
    "location_name=pd.merge(economic_data,location, on=\"COMMUNITY_AREA_NUMBER\")"
   ]
  },
  {
   "cell_type": "code",
   "execution_count": 6,
   "metadata": {},
   "outputs": [
    {
     "data": {
      "text/html": [
       "<div>\n",
       "<style scoped>\n",
       "    .dataframe tbody tr th:only-of-type {\n",
       "        vertical-align: middle;\n",
       "    }\n",
       "\n",
       "    .dataframe tbody tr th {\n",
       "        vertical-align: top;\n",
       "    }\n",
       "\n",
       "    .dataframe thead th {\n",
       "        text-align: right;\n",
       "    }\n",
       "</style>\n",
       "<table border=\"1\" class=\"dataframe\">\n",
       "  <thead>\n",
       "    <tr style=\"text-align: right;\">\n",
       "      <th></th>\n",
       "      <th>COMMUNITY_AREA_NUMBER</th>\n",
       "      <th>COMMUNITY_AREA_NAME</th>\n",
       "      <th>PERCENT OF HOUSING CROWDED</th>\n",
       "      <th>PERCENT HOUSEHOLDS BELOW POVERTY</th>\n",
       "      <th>PERCENT AGED 16+ UNEMPLOYED</th>\n",
       "      <th>PERCENT AGED 25+ WITHOUT HIGH SCHOOL DIPLOMA</th>\n",
       "      <th>PERCENT AGED UNDER 18 OR OVER 64</th>\n",
       "      <th>PER_CAPITA_INCOME</th>\n",
       "      <th>HARDSHIP_INDEX</th>\n",
       "      <th>LATITUDE</th>\n",
       "      <th>LONGITUDE</th>\n",
       "    </tr>\n",
       "  </thead>\n",
       "  <tbody>\n",
       "    <tr>\n",
       "      <th>0</th>\n",
       "      <td>1.0</td>\n",
       "      <td>Rogers Park</td>\n",
       "      <td>7.7</td>\n",
       "      <td>23.6</td>\n",
       "      <td>8.7</td>\n",
       "      <td>18.2</td>\n",
       "      <td>27.5</td>\n",
       "      <td>23939</td>\n",
       "      <td>39.0</td>\n",
       "      <td>42.013645</td>\n",
       "      <td>-87.673434</td>\n",
       "    </tr>\n",
       "    <tr>\n",
       "      <th>1</th>\n",
       "      <td>2.0</td>\n",
       "      <td>West Ridge</td>\n",
       "      <td>7.8</td>\n",
       "      <td>17.2</td>\n",
       "      <td>8.8</td>\n",
       "      <td>20.8</td>\n",
       "      <td>38.5</td>\n",
       "      <td>23040</td>\n",
       "      <td>46.0</td>\n",
       "      <td>41.995488</td>\n",
       "      <td>-87.699195</td>\n",
       "    </tr>\n",
       "    <tr>\n",
       "      <th>2</th>\n",
       "      <td>3.0</td>\n",
       "      <td>Uptown</td>\n",
       "      <td>3.8</td>\n",
       "      <td>24.0</td>\n",
       "      <td>8.9</td>\n",
       "      <td>11.8</td>\n",
       "      <td>22.2</td>\n",
       "      <td>35787</td>\n",
       "      <td>20.0</td>\n",
       "      <td>41.965424</td>\n",
       "      <td>-87.653356</td>\n",
       "    </tr>\n",
       "    <tr>\n",
       "      <th>3</th>\n",
       "      <td>4.0</td>\n",
       "      <td>Lincoln Square</td>\n",
       "      <td>3.4</td>\n",
       "      <td>10.9</td>\n",
       "      <td>8.2</td>\n",
       "      <td>13.4</td>\n",
       "      <td>25.5</td>\n",
       "      <td>37524</td>\n",
       "      <td>17.0</td>\n",
       "      <td>41.971693</td>\n",
       "      <td>-87.688144</td>\n",
       "    </tr>\n",
       "    <tr>\n",
       "      <th>4</th>\n",
       "      <td>5.0</td>\n",
       "      <td>North Center</td>\n",
       "      <td>0.3</td>\n",
       "      <td>7.5</td>\n",
       "      <td>5.2</td>\n",
       "      <td>4.5</td>\n",
       "      <td>26.2</td>\n",
       "      <td>57123</td>\n",
       "      <td>6.0</td>\n",
       "      <td>41.945273</td>\n",
       "      <td>-87.682741</td>\n",
       "    </tr>\n",
       "  </tbody>\n",
       "</table>\n",
       "</div>"
      ],
      "text/plain": [
       "   COMMUNITY_AREA_NUMBER COMMUNITY_AREA_NAME  PERCENT OF HOUSING CROWDED  \\\n",
       "0                    1.0         Rogers Park                         7.7   \n",
       "1                    2.0          West Ridge                         7.8   \n",
       "2                    3.0              Uptown                         3.8   \n",
       "3                    4.0      Lincoln Square                         3.4   \n",
       "4                    5.0        North Center                         0.3   \n",
       "\n",
       "   PERCENT HOUSEHOLDS BELOW POVERTY  PERCENT AGED 16+ UNEMPLOYED  \\\n",
       "0                              23.6                          8.7   \n",
       "1                              17.2                          8.8   \n",
       "2                              24.0                          8.9   \n",
       "3                              10.9                          8.2   \n",
       "4                               7.5                          5.2   \n",
       "\n",
       "   PERCENT AGED 25+ WITHOUT HIGH SCHOOL DIPLOMA  \\\n",
       "0                                          18.2   \n",
       "1                                          20.8   \n",
       "2                                          11.8   \n",
       "3                                          13.4   \n",
       "4                                           4.5   \n",
       "\n",
       "   PERCENT AGED UNDER 18 OR OVER 64  PER_CAPITA_INCOME   HARDSHIP_INDEX  \\\n",
       "0                              27.5               23939            39.0   \n",
       "1                              38.5               23040            46.0   \n",
       "2                              22.2               35787            20.0   \n",
       "3                              25.5               37524            17.0   \n",
       "4                              26.2               57123             6.0   \n",
       "\n",
       "    LATITUDE  LONGITUDE  \n",
       "0  42.013645 -87.673434  \n",
       "1  41.995488 -87.699195  \n",
       "2  41.965424 -87.653356  \n",
       "3  41.971693 -87.688144  \n",
       "4  41.945273 -87.682741  "
      ]
     },
     "execution_count": 6,
     "metadata": {},
     "output_type": "execute_result"
    }
   ],
   "source": [
    "location_name.head()"
   ]
  },
  {
   "cell_type": "markdown",
   "metadata": {},
   "source": [
    "I obtain the venues using the functions defined in the course."
   ]
  },
  {
   "cell_type": "code",
   "execution_count": 7,
   "metadata": {},
   "outputs": [],
   "source": [
    "CLIENT_ID = '3DUVJBPGEYCLZNSAIGXGADMURJJU5GSLR2KEQQHLU0IO2NZY' # your Foursquare ID\n",
    "CLIENT_SECRET = 'RZ3O03B0L2QIKFWYPJKQCGPN4VEYAETNCM5SPQV0SZM13WOI' # your Foursquare Secret\n",
    "VERSION = '20180605'"
   ]
  },
  {
   "cell_type": "code",
   "execution_count": 8,
   "metadata": {},
   "outputs": [],
   "source": [
    "LIMIT = 50 # limit of number of venues returned by Foursquare API It was 100 originaly\n",
    "\n",
    "radius = 500 # define radius"
   ]
  },
  {
   "cell_type": "code",
   "execution_count": 9,
   "metadata": {},
   "outputs": [],
   "source": [
    "def getNearbyVenues(names, latitudes, longitudes, radius=500):\n",
    "    \n",
    "    venues_list=[]\n",
    "    for name, lat, lng in zip(names, latitudes, longitudes):\n",
    "        print(name)\n",
    "            \n",
    "        # create the API request URL\n",
    "        url = 'https://api.foursquare.com/v2/venues/explore?&client_id={}&client_secret={}&v={}&ll={},{}&radius={}&limit={}'.format(\n",
    "            CLIENT_ID, \n",
    "            CLIENT_SECRET, \n",
    "            VERSION, \n",
    "            lat, \n",
    "            lng, \n",
    "            radius, \n",
    "            LIMIT)\n",
    "            \n",
    "        # make the GET request\n",
    "        results = requests.get(url).json()[\"response\"]['groups'][0]['items']\n",
    "        \n",
    "        # return only relevant information for each nearby venue\n",
    "        venues_list.append([(\n",
    "            name, \n",
    "            lat, \n",
    "            lng, \n",
    "            v['venue']['name'], \n",
    "            v['venue']['location']['lat'], \n",
    "            v['venue']['location']['lng'],  \n",
    "            v['venue']['categories'][0]['name']) for v in results])\n",
    "\n",
    "    nearby_venues = pd.DataFrame([item for venue_list in venues_list for item in venue_list])\n",
    "    nearby_venues.columns = ['COMMUNITY_AREA_NAME', \n",
    "                  'Area Latitude', \n",
    "                  'Area Longitude', \n",
    "                  'Venue', \n",
    "                  'Venue Latitude', \n",
    "                  'Venue Longitude', \n",
    "                  'Venue Category']\n",
    "    \n",
    "    return(nearby_venues)"
   ]
  },
  {
   "cell_type": "code",
   "execution_count": 10,
   "metadata": {},
   "outputs": [
    {
     "name": "stdout",
     "output_type": "stream",
     "text": [
      "Rogers Park\n",
      "West Ridge\n",
      "Uptown\n",
      "Lincoln Square\n",
      "North Center\n",
      "Lake View\n",
      "Lincoln Park\n",
      "Near North Side\n",
      "Norwood Park\n",
      "Jefferson Park\n",
      "Forest Glen\n",
      "Albany Park\n",
      "Portage Park\n",
      "Irving Park\n",
      "Dunning\n",
      "Montclaire\n",
      "Belmont Cragin\n",
      "Hermosa\n",
      "Avondale\n",
      "Logan Square\n",
      "Humboldt park\n",
      "West Town\n",
      "Austin\n",
      "West Garfield Park\n",
      "East Garfield Park\n",
      "Near West Side\n",
      "North Lawndale\n",
      "South Lawndale\n",
      "Lower West Side\n",
      "Loop\n",
      "Near South Side\n",
      "Douglas\n",
      "Fuller Park\n",
      "Grand Boulevard\n",
      "Kenwood\n",
      "Hyde Park\n",
      "Woodlawn\n",
      "South Shore\n",
      "Chatham\n",
      "Avalon Park\n",
      "South Chicago\n",
      "Burnside\n",
      "Calumet Heights\n",
      "Roseland\n",
      "Pullman\n",
      "South Deering\n",
      "East Side\n",
      "West Pullman\n",
      "Riverdale\n",
      "Hegewisch\n",
      "Garfield Ridge\n",
      "Brighton Park\n",
      "McKinley Park\n",
      "Bridgeport\n",
      "New City\n",
      "West Elsdon\n",
      "Gage Park\n",
      "Clearing\n",
      "West Lawn\n",
      "Chicago Lawn\n",
      "West Englewood\n",
      "Englewood\n",
      "Greater Grand Crossing\n",
      "Ashburn\n",
      "Auburn Gresham\n",
      "Beverly\n",
      "Washington Height\n",
      "Morgan Park\n",
      "O'Hare\n",
      "Edgewater\n"
     ]
    }
   ],
   "source": [
    "chicago_venues = getNearbyVenues(names=location_name['COMMUNITY_AREA_NAME'],\n",
    "                                   latitudes=location_name['LATITUDE'],\n",
    "                                   longitudes=location_name['LONGITUDE']\n",
    "                                  )"
   ]
  },
  {
   "cell_type": "code",
   "execution_count": 11,
   "metadata": {},
   "outputs": [
    {
     "name": "stdout",
     "output_type": "stream",
     "text": [
      "(1219, 7)\n"
     ]
    },
    {
     "data": {
      "text/html": [
       "<div>\n",
       "<style scoped>\n",
       "    .dataframe tbody tr th:only-of-type {\n",
       "        vertical-align: middle;\n",
       "    }\n",
       "\n",
       "    .dataframe tbody tr th {\n",
       "        vertical-align: top;\n",
       "    }\n",
       "\n",
       "    .dataframe thead th {\n",
       "        text-align: right;\n",
       "    }\n",
       "</style>\n",
       "<table border=\"1\" class=\"dataframe\">\n",
       "  <thead>\n",
       "    <tr style=\"text-align: right;\">\n",
       "      <th></th>\n",
       "      <th>COMMUNITY_AREA_NAME</th>\n",
       "      <th>Area Latitude</th>\n",
       "      <th>Area Longitude</th>\n",
       "      <th>Venue</th>\n",
       "      <th>Venue Latitude</th>\n",
       "      <th>Venue Longitude</th>\n",
       "      <th>Venue Category</th>\n",
       "    </tr>\n",
       "  </thead>\n",
       "  <tbody>\n",
       "    <tr>\n",
       "      <th>0</th>\n",
       "      <td>Rogers Park</td>\n",
       "      <td>42.013645</td>\n",
       "      <td>-87.673434</td>\n",
       "      <td>Taqueria &amp; Restaurant Cd. Hidalgo</td>\n",
       "      <td>42.011634</td>\n",
       "      <td>-87.674484</td>\n",
       "      <td>Mexican Restaurant</td>\n",
       "    </tr>\n",
       "    <tr>\n",
       "      <th>1</th>\n",
       "      <td>Rogers Park</td>\n",
       "      <td>42.013645</td>\n",
       "      <td>-87.673434</td>\n",
       "      <td>El Famous Burrito</td>\n",
       "      <td>42.010421</td>\n",
       "      <td>-87.674204</td>\n",
       "      <td>Mexican Restaurant</td>\n",
       "    </tr>\n",
       "    <tr>\n",
       "      <th>2</th>\n",
       "      <td>Rogers Park</td>\n",
       "      <td>42.013645</td>\n",
       "      <td>-87.673434</td>\n",
       "      <td>Romanian Kosher Sausage Co.</td>\n",
       "      <td>42.012765</td>\n",
       "      <td>-87.674692</td>\n",
       "      <td>Deli / Bodega</td>\n",
       "    </tr>\n",
       "    <tr>\n",
       "      <th>3</th>\n",
       "      <td>Rogers Park</td>\n",
       "      <td>42.013645</td>\n",
       "      <td>-87.673434</td>\n",
       "      <td>Pottawattomie Park</td>\n",
       "      <td>42.015112</td>\n",
       "      <td>-87.676928</td>\n",
       "      <td>Park</td>\n",
       "    </tr>\n",
       "    <tr>\n",
       "      <th>4</th>\n",
       "      <td>Rogers Park</td>\n",
       "      <td>42.013645</td>\n",
       "      <td>-87.673434</td>\n",
       "      <td>Taste Food &amp; Wine</td>\n",
       "      <td>42.016086</td>\n",
       "      <td>-87.668488</td>\n",
       "      <td>Wine Shop</td>\n",
       "    </tr>\n",
       "  </tbody>\n",
       "</table>\n",
       "</div>"
      ],
      "text/plain": [
       "  COMMUNITY_AREA_NAME  Area Latitude  Area Longitude  \\\n",
       "0         Rogers Park      42.013645      -87.673434   \n",
       "1         Rogers Park      42.013645      -87.673434   \n",
       "2         Rogers Park      42.013645      -87.673434   \n",
       "3         Rogers Park      42.013645      -87.673434   \n",
       "4         Rogers Park      42.013645      -87.673434   \n",
       "\n",
       "                               Venue  Venue Latitude  Venue Longitude  \\\n",
       "0  Taqueria & Restaurant Cd. Hidalgo       42.011634       -87.674484   \n",
       "1                  El Famous Burrito       42.010421       -87.674204   \n",
       "2        Romanian Kosher Sausage Co.       42.012765       -87.674692   \n",
       "3                 Pottawattomie Park       42.015112       -87.676928   \n",
       "4                  Taste Food & Wine       42.016086       -87.668488   \n",
       "\n",
       "       Venue Category  \n",
       "0  Mexican Restaurant  \n",
       "1  Mexican Restaurant  \n",
       "2       Deli / Bodega  \n",
       "3                Park  \n",
       "4           Wine Shop  "
      ]
     },
     "execution_count": 11,
     "metadata": {},
     "output_type": "execute_result"
    }
   ],
   "source": [
    "print(chicago_venues.shape)\n",
    "chicago_venues.head()"
   ]
  },
  {
   "cell_type": "markdown",
   "metadata": {},
   "source": [
    "The venues in each area are stored in the chicago_venues dataframe."
   ]
  },
  {
   "cell_type": "markdown",
   "metadata": {},
   "source": [
    "# Cluster the areas according to socioeconomic status\n",
    "\n",
    "I divide the areas according to 6 parameters: \n",
    "  * Percent of housing crowded\n",
    "  * Percent households below poverty\n",
    "  * Percent aged 16+ unemployed\n",
    "  * Percent aged 25+ without high school diploma\n",
    "  * Percent aged under 18 or over 64\n",
    "  * Per capita income\n",
    "  \n",
    "Except from Per capita income all the other variables are in the form of percentage. I will calculate the average income and change the column PER_CAPITA_INCOME to a percantage form."
   ]
  },
  {
   "cell_type": "code",
   "execution_count": 12,
   "metadata": {},
   "outputs": [
    {
     "data": {
      "text/html": [
       "<div>\n",
       "<style scoped>\n",
       "    .dataframe tbody tr th:only-of-type {\n",
       "        vertical-align: middle;\n",
       "    }\n",
       "\n",
       "    .dataframe tbody tr th {\n",
       "        vertical-align: top;\n",
       "    }\n",
       "\n",
       "    .dataframe thead th {\n",
       "        text-align: right;\n",
       "    }\n",
       "</style>\n",
       "<table border=\"1\" class=\"dataframe\">\n",
       "  <thead>\n",
       "    <tr style=\"text-align: right;\">\n",
       "      <th></th>\n",
       "      <th>COMMUNITY_AREA_NUMBER</th>\n",
       "      <th>COMMUNITY_AREA_NAME</th>\n",
       "      <th>PERCENT OF HOUSING CROWDED</th>\n",
       "      <th>PERCENT HOUSEHOLDS BELOW POVERTY</th>\n",
       "      <th>PERCENT AGED 16+ UNEMPLOYED</th>\n",
       "      <th>PERCENT AGED 25+ WITHOUT HIGH SCHOOL DIPLOMA</th>\n",
       "      <th>PERCENT AGED UNDER 18 OR OVER 64</th>\n",
       "      <th>HARDSHIP_INDEX</th>\n",
       "      <th>LATITUDE</th>\n",
       "      <th>LONGITUDE</th>\n",
       "      <th>PERCENT PER_CAPITA_INCOME</th>\n",
       "    </tr>\n",
       "  </thead>\n",
       "  <tbody>\n",
       "    <tr>\n",
       "      <th>0</th>\n",
       "      <td>1.0</td>\n",
       "      <td>Rogers Park</td>\n",
       "      <td>7.7</td>\n",
       "      <td>23.6</td>\n",
       "      <td>8.7</td>\n",
       "      <td>18.2</td>\n",
       "      <td>27.5</td>\n",
       "      <td>39.0</td>\n",
       "      <td>42.013645</td>\n",
       "      <td>-87.673434</td>\n",
       "      <td>0.930378</td>\n",
       "    </tr>\n",
       "    <tr>\n",
       "      <th>1</th>\n",
       "      <td>2.0</td>\n",
       "      <td>West Ridge</td>\n",
       "      <td>7.8</td>\n",
       "      <td>17.2</td>\n",
       "      <td>8.8</td>\n",
       "      <td>20.8</td>\n",
       "      <td>38.5</td>\n",
       "      <td>46.0</td>\n",
       "      <td>41.995488</td>\n",
       "      <td>-87.699195</td>\n",
       "      <td>0.895438</td>\n",
       "    </tr>\n",
       "  </tbody>\n",
       "</table>\n",
       "</div>"
      ],
      "text/plain": [
       "   COMMUNITY_AREA_NUMBER COMMUNITY_AREA_NAME  PERCENT OF HOUSING CROWDED  \\\n",
       "0                    1.0         Rogers Park                         7.7   \n",
       "1                    2.0          West Ridge                         7.8   \n",
       "\n",
       "   PERCENT HOUSEHOLDS BELOW POVERTY  PERCENT AGED 16+ UNEMPLOYED  \\\n",
       "0                              23.6                          8.7   \n",
       "1                              17.2                          8.8   \n",
       "\n",
       "   PERCENT AGED 25+ WITHOUT HIGH SCHOOL DIPLOMA  \\\n",
       "0                                          18.2   \n",
       "1                                          20.8   \n",
       "\n",
       "   PERCENT AGED UNDER 18 OR OVER 64  HARDSHIP_INDEX   LATITUDE  LONGITUDE  \\\n",
       "0                              27.5            39.0  42.013645 -87.673434   \n",
       "1                              38.5            46.0  41.995488 -87.699195   \n",
       "\n",
       "   PERCENT PER_CAPITA_INCOME  \n",
       "0                   0.930378  \n",
       "1                   0.895438  "
      ]
     },
     "execution_count": 12,
     "metadata": {},
     "output_type": "execute_result"
    }
   ],
   "source": [
    "location_name[\"PERCENT PER_CAPITA_INCOME\"]=location_name[\"PER_CAPITA_INCOME \"]/location_name[\"PER_CAPITA_INCOME \"].mean()\n",
    "location_name=location_name.drop([\"PER_CAPITA_INCOME \"], axis=1)\n",
    "location_name.head(2)"
   ]
  },
  {
   "cell_type": "markdown",
   "metadata": {},
   "source": [
    "I look for the optimal number of cluster using the elbow method."
   ]
  },
  {
   "cell_type": "code",
   "execution_count": 13,
   "metadata": {},
   "outputs": [],
   "source": [
    "distortions = []\n",
    "K = range(1,15)\n",
    "for k in K:\n",
    "    kmeanModel = KMeans(n_clusters=k)\n",
    "    kmeanModel.fit(location_name[[\"PERCENT OF HOUSING CROWDED\",\"PERCENT HOUSEHOLDS BELOW POVERTY\", \"PERCENT AGED 16+ UNEMPLOYED\",\n",
    "                                \"PERCENT AGED 25+ WITHOUT HIGH SCHOOL DIPLOMA\",\"PERCENT AGED UNDER 18 OR OVER 64\",\"PERCENT PER_CAPITA_INCOME\"]])\n",
    "    distortions.append(kmeanModel.inertia_)"
   ]
  },
  {
   "cell_type": "code",
   "execution_count": 176,
   "metadata": {},
   "outputs": [
    {
     "data": {
      "image/png": "[encoded data removed]",
      "text/plain": [
       "<Figure size 1152x576 with 1 Axes>"
      ]
     },
     "metadata": {
      "needs_background": "light"
     },
     "output_type": "display_data"
    }
   ],
   "source": [
    "plt.figure(figsize=(16,8))\n",
    "plt.plot(K, distortions, 'bo-')\n",
    "plt.xlabel('k')\n",
    "plt.ylabel('Distortion')\n",
    "plt.title('The Elbow Method showing the optimal k')\n",
    "plt.savefig(\"Elbow_method.png\")\n",
    "plt.show()"
   ]
  },
  {
   "cell_type": "markdown",
   "metadata": {},
   "source": [
    "The optimal number of cluster is 4."
   ]
  },
  {
   "cell_type": "code",
   "execution_count": 15,
   "metadata": {},
   "outputs": [],
   "source": [
    "kmeanModel = KMeans(n_clusters=4, n_init=25,random_state=10).fit(location_name[[\"PERCENT OF HOUSING CROWDED\",\"PERCENT HOUSEHOLDS BELOW POVERTY\", \"PERCENT AGED 16+ UNEMPLOYED\",\n",
    "                                \"PERCENT AGED 25+ WITHOUT HIGH SCHOOL DIPLOMA\",\"PERCENT AGED UNDER 18 OR OVER 64\",\"PERCENT PER_CAPITA_INCOME\"]])"
   ]
  },
  {
   "cell_type": "markdown",
   "metadata": {},
   "source": [
    "I add a column which says the cluster of the area."
   ]
  },
  {
   "cell_type": "code",
   "execution_count": 16,
   "metadata": {},
   "outputs": [],
   "source": [
    "location_name.insert(0,\"Cluster\", kmeanModel.labels_);"
   ]
  },
  {
   "cell_type": "code",
   "execution_count": 17,
   "metadata": {},
   "outputs": [
    {
     "data": {
      "text/html": [
       "<div>\n",
       "<style scoped>\n",
       "    .dataframe tbody tr th:only-of-type {\n",
       "        vertical-align: middle;\n",
       "    }\n",
       "\n",
       "    .dataframe tbody tr th {\n",
       "        vertical-align: top;\n",
       "    }\n",
       "\n",
       "    .dataframe thead th {\n",
       "        text-align: right;\n",
       "    }\n",
       "</style>\n",
       "<table border=\"1\" class=\"dataframe\">\n",
       "  <thead>\n",
       "    <tr style=\"text-align: right;\">\n",
       "      <th></th>\n",
       "      <th>COMMUNITY_AREA_NUMBER</th>\n",
       "      <th>COMMUNITY_AREA_NAME</th>\n",
       "      <th>PERCENT OF HOUSING CROWDED</th>\n",
       "      <th>PERCENT HOUSEHOLDS BELOW POVERTY</th>\n",
       "      <th>PERCENT AGED 16+ UNEMPLOYED</th>\n",
       "      <th>PERCENT AGED 25+ WITHOUT HIGH SCHOOL DIPLOMA</th>\n",
       "      <th>PERCENT AGED UNDER 18 OR OVER 64</th>\n",
       "      <th>HARDSHIP_INDEX</th>\n",
       "      <th>LATITUDE</th>\n",
       "      <th>LONGITUDE</th>\n",
       "      <th>PERCENT PER_CAPITA_INCOME</th>\n",
       "    </tr>\n",
       "    <tr>\n",
       "      <th>Cluster</th>\n",
       "      <th></th>\n",
       "      <th></th>\n",
       "      <th></th>\n",
       "      <th></th>\n",
       "      <th></th>\n",
       "      <th></th>\n",
       "      <th></th>\n",
       "      <th></th>\n",
       "      <th></th>\n",
       "      <th></th>\n",
       "      <th></th>\n",
       "    </tr>\n",
       "  </thead>\n",
       "  <tbody>\n",
       "    <tr>\n",
       "      <th>0</th>\n",
       "      <td>15</td>\n",
       "      <td>15</td>\n",
       "      <td>15</td>\n",
       "      <td>15</td>\n",
       "      <td>15</td>\n",
       "      <td>15</td>\n",
       "      <td>15</td>\n",
       "      <td>15</td>\n",
       "      <td>15</td>\n",
       "      <td>15</td>\n",
       "      <td>15</td>\n",
       "    </tr>\n",
       "    <tr>\n",
       "      <th>1</th>\n",
       "      <td>19</td>\n",
       "      <td>19</td>\n",
       "      <td>19</td>\n",
       "      <td>19</td>\n",
       "      <td>19</td>\n",
       "      <td>19</td>\n",
       "      <td>19</td>\n",
       "      <td>19</td>\n",
       "      <td>19</td>\n",
       "      <td>19</td>\n",
       "      <td>19</td>\n",
       "    </tr>\n",
       "    <tr>\n",
       "      <th>2</th>\n",
       "      <td>14</td>\n",
       "      <td>14</td>\n",
       "      <td>14</td>\n",
       "      <td>14</td>\n",
       "      <td>14</td>\n",
       "      <td>14</td>\n",
       "      <td>14</td>\n",
       "      <td>14</td>\n",
       "      <td>14</td>\n",
       "      <td>14</td>\n",
       "      <td>14</td>\n",
       "    </tr>\n",
       "    <tr>\n",
       "      <th>3</th>\n",
       "      <td>22</td>\n",
       "      <td>22</td>\n",
       "      <td>22</td>\n",
       "      <td>22</td>\n",
       "      <td>22</td>\n",
       "      <td>22</td>\n",
       "      <td>22</td>\n",
       "      <td>22</td>\n",
       "      <td>22</td>\n",
       "      <td>22</td>\n",
       "      <td>22</td>\n",
       "    </tr>\n",
       "  </tbody>\n",
       "</table>\n",
       "</div>"
      ],
      "text/plain": [
       "         COMMUNITY_AREA_NUMBER  COMMUNITY_AREA_NAME  \\\n",
       "Cluster                                               \n",
       "0                           15                   15   \n",
       "1                           19                   19   \n",
       "2                           14                   14   \n",
       "3                           22                   22   \n",
       "\n",
       "         PERCENT OF HOUSING CROWDED  PERCENT HOUSEHOLDS BELOW POVERTY  \\\n",
       "Cluster                                                                 \n",
       "0                                15                                15   \n",
       "1                                19                                19   \n",
       "2                                14                                14   \n",
       "3                                22                                22   \n",
       "\n",
       "         PERCENT AGED 16+ UNEMPLOYED  \\\n",
       "Cluster                                \n",
       "0                                 15   \n",
       "1                                 19   \n",
       "2                                 14   \n",
       "3                                 22   \n",
       "\n",
       "         PERCENT AGED 25+ WITHOUT HIGH SCHOOL DIPLOMA  \\\n",
       "Cluster                                                 \n",
       "0                                                  15   \n",
       "1                                                  19   \n",
       "2                                                  14   \n",
       "3                                                  22   \n",
       "\n",
       "         PERCENT AGED UNDER 18 OR OVER 64  HARDSHIP_INDEX  LATITUDE  \\\n",
       "Cluster                                                               \n",
       "0                                      15              15        15   \n",
       "1                                      19              19        19   \n",
       "2                                      14              14        14   \n",
       "3                                      22              22        22   \n",
       "\n",
       "         LONGITUDE  PERCENT PER_CAPITA_INCOME  \n",
       "Cluster                                        \n",
       "0               15                         15  \n",
       "1               19                         19  \n",
       "2               14                         14  \n",
       "3               22                         22  "
      ]
     },
     "execution_count": 17,
     "metadata": {},
     "output_type": "execute_result"
    }
   ],
   "source": [
    "location_name.groupby(\"Cluster\").count()"
   ]
  },
  {
   "cell_type": "code",
   "execution_count": 178,
   "metadata": {},
   "outputs": [
    {
     "data": {
      "text/html": [
       "<div>\n",
       "<style scoped>\n",
       "    .dataframe tbody tr th:only-of-type {\n",
       "        vertical-align: middle;\n",
       "    }\n",
       "\n",
       "    .dataframe tbody tr th {\n",
       "        vertical-align: top;\n",
       "    }\n",
       "\n",
       "    .dataframe thead th {\n",
       "        text-align: right;\n",
       "    }\n",
       "</style>\n",
       "<table border=\"1\" class=\"dataframe\">\n",
       "  <thead>\n",
       "    <tr style=\"text-align: right;\">\n",
       "      <th></th>\n",
       "      <th>PERCENT OF HOUSING CROWDED</th>\n",
       "      <th>PERCENT HOUSEHOLDS BELOW POVERTY</th>\n",
       "      <th>PERCENT AGED 16+ UNEMPLOYED</th>\n",
       "      <th>PERCENT AGED 25+ WITHOUT HIGH SCHOOL DIPLOMA</th>\n",
       "      <th>PERCENT AGED UNDER 18 OR OVER 64</th>\n",
       "      <th>HARDSHIP_INDEX</th>\n",
       "      <th>PERCENT PER_CAPITA_INCOME</th>\n",
       "    </tr>\n",
       "    <tr>\n",
       "      <th>Cluster</th>\n",
       "      <th></th>\n",
       "      <th></th>\n",
       "      <th></th>\n",
       "      <th></th>\n",
       "      <th></th>\n",
       "      <th></th>\n",
       "      <th></th>\n",
       "    </tr>\n",
       "  </thead>\n",
       "  <tbody>\n",
       "    <tr>\n",
       "      <th>0</th>\n",
       "      <td>2.686667</td>\n",
       "      <td>15.680000</td>\n",
       "      <td>7.240000</td>\n",
       "      <td>8.620000</td>\n",
       "      <td>23.213333</td>\n",
       "      <td>13.666667</td>\n",
       "      <td>1.858548</td>\n",
       "    </tr>\n",
       "    <tr>\n",
       "      <th>1</th>\n",
       "      <td>4.705263</td>\n",
       "      <td>35.163158</td>\n",
       "      <td>24.042105</td>\n",
       "      <td>21.278947</td>\n",
       "      <td>40.926316</td>\n",
       "      <td>74.263158</td>\n",
       "      <td>0.595431</td>\n",
       "    </tr>\n",
       "    <tr>\n",
       "      <th>2</th>\n",
       "      <td>10.657143</td>\n",
       "      <td>22.935714</td>\n",
       "      <td>15.042857</td>\n",
       "      <td>39.100000</td>\n",
       "      <td>37.385714</td>\n",
       "      <td>74.928571</td>\n",
       "      <td>0.584286</td>\n",
       "    </tr>\n",
       "    <tr>\n",
       "      <th>3</th>\n",
       "      <td>3.322727</td>\n",
       "      <td>13.440909</td>\n",
       "      <td>13.277273</td>\n",
       "      <td>15.681818</td>\n",
       "      <td>37.795455</td>\n",
       "      <td>35.227273</td>\n",
       "      <td>1.028572</td>\n",
       "    </tr>\n",
       "  </tbody>\n",
       "</table>\n",
       "</div>"
      ],
      "text/plain": [
       "         PERCENT OF HOUSING CROWDED  PERCENT HOUSEHOLDS BELOW POVERTY  \\\n",
       "Cluster                                                                 \n",
       "0                          2.686667                         15.680000   \n",
       "1                          4.705263                         35.163158   \n",
       "2                         10.657143                         22.935714   \n",
       "3                          3.322727                         13.440909   \n",
       "\n",
       "         PERCENT AGED 16+ UNEMPLOYED  \\\n",
       "Cluster                                \n",
       "0                           7.240000   \n",
       "1                          24.042105   \n",
       "2                          15.042857   \n",
       "3                          13.277273   \n",
       "\n",
       "         PERCENT AGED 25+ WITHOUT HIGH SCHOOL DIPLOMA  \\\n",
       "Cluster                                                 \n",
       "0                                            8.620000   \n",
       "1                                           21.278947   \n",
       "2                                           39.100000   \n",
       "3                                           15.681818   \n",
       "\n",
       "         PERCENT AGED UNDER 18 OR OVER 64  HARDSHIP_INDEX  \\\n",
       "Cluster                                                     \n",
       "0                               23.213333       13.666667   \n",
       "1                               40.926316       74.263158   \n",
       "2                               37.385714       74.928571   \n",
       "3                               37.795455       35.227273   \n",
       "\n",
       "         PERCENT PER_CAPITA_INCOME  \n",
       "Cluster                             \n",
       "0                         1.858548  \n",
       "1                         0.595431  \n",
       "2                         0.584286  \n",
       "3                         1.028572  "
      ]
     },
     "execution_count": 178,
     "metadata": {},
     "output_type": "execute_result"
    }
   ],
   "source": [
    "cluster_parameters=location_name.groupby(\"Cluster\").mean()\n",
    "cluster_parameters=cluster_parameters.drop(columns=[\"COMMUNITY_AREA_NUMBER\",\"LATITUDE\",\"LONGITUDE\"])\n",
    "cluster_parameters.head()"
   ]
  },
  {
   "cell_type": "markdown",
   "metadata": {},
   "source": [
    "We can see that cluster 0 consist of areas with high income, low hardship and good socioeconomical parameters. Clusters 1,2 are poor areas in which the harship index is high, and the income low. In cluster 1 there are more households in poverty and higher unemployment. Altough the per capita income is slightly higher than in the cluster 2.\n",
    "Cluster 3 represents the middle class. Their average income is close to the average income of the city. \n",
    "\n",
    "The geographical distribution of the clusters is shown in the next map: "
   ]
  },
  {
   "cell_type": "code",
   "execution_count": 19,
   "metadata": {},
   "outputs": [
    {
     "name": "stdout",
     "output_type": "stream",
     "text": [
      "The geograpical coordinate of Chicago are 41.8755616, -87.6244212.\n"
     ]
    }
   ],
   "source": [
    "address = 'Chicago, IL'\n",
    "\n",
    "geolocator = Nominatim(user_agent=\"chicago_crime\")\n",
    "location = geolocator.geocode(address)\n",
    "latitude = location.latitude\n",
    "longitude = location.longitude\n",
    "print('The geograpical coordinate of Chicago are {}, {}.'.format(latitude, longitude))"
   ]
  },
  {
   "cell_type": "code",
   "execution_count": 20,
   "metadata": {},
   "outputs": [
    {
     "data": {
      "text/html": [
       "<div style=\"width:100%;\"><div style=\"position:relative;width:100%;height:0;padding-bottom:60%;\"><iframe src=\"data:text/html;charset=utf-8;base64,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\" style=\"position:absolute;width:100%;height:100%;left:0;top:0;border:none !important;\" allowfullscreen webkitallowfullscreen mozallowfullscreen></iframe></div></div>"
      ],
      "text/plain": [
       "<folium.folium.Map at 0x176c517e080>"
      ]
     },
     "execution_count": 20,
     "metadata": {},
     "output_type": "execute_result"
    }
   ],
   "source": [
    "# create map\n",
    "kclusters=4\n",
    "map_clusters = folium.Map(location=[latitude, longitude], zoom_start=11)\n",
    "\n",
    "# set color scheme for the clusters\n",
    "x = np.arange(kclusters)\n",
    "ys = [i + x + (i*x)**2 for i in range(kclusters)]\n",
    "colors_array = cm.rainbow(np.linspace(0, 1, len(ys)))\n",
    "rainbow = [colors.rgb2hex(i) for i in colors_array]\n",
    "\n",
    "# add markers to the map\n",
    "markers_colors = []\n",
    "for lat, lon, poi, cluster in zip(location_name['LATITUDE'], location_name['LONGITUDE'], location_name['COMMUNITY_AREA_NAME'], location_name['Cluster']):\n",
    "    label = folium.Popup(str(poi) + ' Cluster ' + str(cluster), parse_html=True)\n",
    "    folium.CircleMarker(\n",
    "        [lat, lon],\n",
    "        radius=5,\n",
    "        popup=label,\n",
    "        color=rainbow[int(cluster)-1],\n",
    "        fill=True,\n",
    "        fill_color=rainbow[int(cluster)-1],\n",
    "        fill_opacity=0.7).add_to(map_clusters)\n",
    "    \n",
    "\n",
    "#Add a legend\n",
    "\n",
    "legend_html =   '''\n",
    "                <div style=\"position: fixed; \n",
    "                            bottom: 200px; right: 200px; width: 100px; height: 110px; \n",
    "                            border:2px solid grey; z-index:9999; font-size:14px;\n",
    "                            \">&nbsp; Cluster <br>\n",
    "                              &nbsp; 0 &nbsp; <i class=\"fa fa-circle\" style=\"color:#ff0000\"></i><br>\n",
    "                              &nbsp; 1 &nbsp; <i class=\"fa fa-circle\" style=\"color:#8000ff\"></i><br>\n",
    "                              &nbsp; 2 &nbsp; <i class=\"fa fa-circle\" style=\"color:#2adddd\"></i><br>\n",
    "                              &nbsp; 3 &nbsp; <i class=\"fa fa-circle\" style=\"color:#d4dd80\"></i>\n",
    "                </div>\n",
    "                ''' \n",
    "\n",
    "map_clusters.get_root().html.add_child(folium.Element(legend_html))\n",
    "       \n",
    "map_clusters"
   ]
  },
  {
   "cell_type": "markdown",
   "metadata": {},
   "source": [
    "The cluster 3 is scattered in all Chicago. The distribution is in accordance with the hypothesis that the cluster represents the middle class. The cluster 0 mainly represent areas within the downtown. The geographical differences in the other 2 clusters are harder to find, but in both of them are industrial complex.\n",
    "\n",
    "# Popular venues in each community area"
   ]
  },
  {
   "cell_type": "markdown",
   "metadata": {},
   "source": [
    "I will use one hot encoding in the venues to determine the most popular venues in each cluster."
   ]
  },
  {
   "cell_type": "code",
   "execution_count": 21,
   "metadata": {},
   "outputs": [],
   "source": [
    "# one hot encoding\n",
    "chicago_onehot = pd.get_dummies(chicago_venues[['Venue Category']], prefix=\"\", prefix_sep=\"\")\n",
    "\n",
    "# add neighborhood column back to dataframe\n",
    "chicago_onehot['COMMUNITY_AREA_NAME'] = chicago_venues['COMMUNITY_AREA_NAME'] \n",
    "\n",
    "# move neighborhood column to the first column\n",
    "fixed_columns = [chicago_onehot.columns[-1]] + list(chicago_onehot.columns[:-1])\n",
    "chicago_onehot = chicago_onehot[fixed_columns];"
   ]
  },
  {
   "cell_type": "code",
   "execution_count": 22,
   "metadata": {},
   "outputs": [],
   "source": [
    "chicago_venues_sum=chicago_onehot.groupby(\"COMMUNITY_AREA_NAME\").sum().reset_index()"
   ]
  },
  {
   "cell_type": "code",
   "execution_count": 23,
   "metadata": {},
   "outputs": [],
   "source": [
    "chicago_venues_sum=pd.merge(chicago_venues_sum,location_name[[\"Cluster\", \"COMMUNITY_AREA_NAME\",\"COMMUNITY_AREA_NUMBER\"]], on=\"COMMUNITY_AREA_NAME\")\n",
    "fixed_columns = [chicago_venues_sum.columns[-1],chicago_venues_sum.columns[-2]] + list(chicago_venues_sum.columns[:-2])\n",
    "chicago_venues_sum = chicago_venues_sum[fixed_columns];"
   ]
  },
  {
   "cell_type": "markdown",
   "metadata": {},
   "source": [
    "I group the venues by cluster and find the most common ones."
   ]
  },
  {
   "cell_type": "code",
   "execution_count": 24,
   "metadata": {},
   "outputs": [],
   "source": [
    "chicago_venues_cluster=chicago_venues_sum.groupby(\"Cluster\").sum().reset_index();"
   ]
  },
  {
   "cell_type": "code",
   "execution_count": 25,
   "metadata": {},
   "outputs": [],
   "source": [
    "chicago_venues_cluster=chicago_venues_cluster.drop(columns=\"COMMUNITY_AREA_NUMBER\")"
   ]
  },
  {
   "cell_type": "code",
   "execution_count": 26,
   "metadata": {},
   "outputs": [],
   "source": [
    "def return_most_common_venues(row, num_top_venues,inicio=1,):\n",
    "    row_categories = row.iloc[inicio:]\n",
    "    row_categories_sorted = row_categories.sort_values(ascending=False)\n",
    "    \n",
    "    return row_categories_sorted.index.values[0:num_top_venues]"
   ]
  },
  {
   "cell_type": "code",
   "execution_count": 27,
   "metadata": {},
   "outputs": [
    {
     "data": {
      "text/html": [
       "<div>\n",
       "<style scoped>\n",
       "    .dataframe tbody tr th:only-of-type {\n",
       "        vertical-align: middle;\n",
       "    }\n",
       "\n",
       "    .dataframe tbody tr th {\n",
       "        vertical-align: top;\n",
       "    }\n",
       "\n",
       "    .dataframe thead th {\n",
       "        text-align: right;\n",
       "    }\n",
       "</style>\n",
       "<table border=\"1\" class=\"dataframe\">\n",
       "  <thead>\n",
       "    <tr style=\"text-align: right;\">\n",
       "      <th></th>\n",
       "      <th>Cluster</th>\n",
       "      <th>1st Most Common Venue</th>\n",
       "      <th>2nd Most Common Venue</th>\n",
       "      <th>3rd Most Common Venue</th>\n",
       "      <th>4th Most Common Venue</th>\n",
       "      <th>5th Most Common Venue</th>\n",
       "    </tr>\n",
       "  </thead>\n",
       "  <tbody>\n",
       "    <tr>\n",
       "      <th>0</th>\n",
       "      <td>0</td>\n",
       "      <td>Coffee Shop</td>\n",
       "      <td>Pizza Place</td>\n",
       "      <td>Mexican Restaurant</td>\n",
       "      <td>Bar</td>\n",
       "      <td>Sandwich Place</td>\n",
       "    </tr>\n",
       "    <tr>\n",
       "      <th>1</th>\n",
       "      <td>1</td>\n",
       "      <td>Fast Food Restaurant</td>\n",
       "      <td>Park</td>\n",
       "      <td>Grocery Store</td>\n",
       "      <td>Convenience Store</td>\n",
       "      <td>Train Station</td>\n",
       "    </tr>\n",
       "    <tr>\n",
       "      <th>2</th>\n",
       "      <td>2</td>\n",
       "      <td>Mexican Restaurant</td>\n",
       "      <td>Grocery Store</td>\n",
       "      <td>Bakery</td>\n",
       "      <td>Park</td>\n",
       "      <td>Pizza Place</td>\n",
       "    </tr>\n",
       "    <tr>\n",
       "      <th>3</th>\n",
       "      <td>3</td>\n",
       "      <td>Grocery Store</td>\n",
       "      <td>Indian Restaurant</td>\n",
       "      <td>Park</td>\n",
       "      <td>Pizza Place</td>\n",
       "      <td>Sandwich Place</td>\n",
       "    </tr>\n",
       "  </tbody>\n",
       "</table>\n",
       "</div>"
      ],
      "text/plain": [
       "   Cluster 1st Most Common Venue 2nd Most Common Venue 3rd Most Common Venue  \\\n",
       "0        0           Coffee Shop           Pizza Place    Mexican Restaurant   \n",
       "1        1  Fast Food Restaurant                  Park         Grocery Store   \n",
       "2        2    Mexican Restaurant         Grocery Store                Bakery   \n",
       "3        3         Grocery Store     Indian Restaurant                  Park   \n",
       "\n",
       "  4th Most Common Venue 5th Most Common Venue  \n",
       "0                   Bar        Sandwich Place  \n",
       "1     Convenience Store         Train Station  \n",
       "2                  Park           Pizza Place  \n",
       "3           Pizza Place        Sandwich Place  "
      ]
     },
     "execution_count": 27,
     "metadata": {},
     "output_type": "execute_result"
    }
   ],
   "source": [
    "num_top_venues = 5\n",
    "\n",
    "indicators = ['st', 'nd', 'rd']\n",
    "\n",
    "# create columns according to number of top venues\n",
    "columns = ['Cluster']\n",
    "for ind in np.arange(num_top_venues):\n",
    "    try:\n",
    "        columns.append('{}{} Most Common Venue'.format(ind+1, indicators[ind]))\n",
    "    except:\n",
    "        columns.append('{}th Most Common Venue'.format(ind+1))\n",
    "\n",
    "# create a new dataframe\n",
    "area_venues_sorted = pd.DataFrame(columns=columns)\n",
    "area_venues_sorted['Cluster'] = chicago_venues_cluster[\"Cluster\"]\n",
    "\n",
    "for ind in np.arange(chicago_venues_cluster.shape[0]):\n",
    "    area_venues_sorted.iloc[ind, 1:] = return_most_common_venues(chicago_venues_cluster.iloc[ind, 1:], num_top_venues)\n",
    "\n",
    "area_venues_sorted.head()"
   ]
  },
  {
   "cell_type": "code",
   "execution_count": null,
   "metadata": {},
   "outputs": [],
   "source": []
  },
  {
   "cell_type": "markdown",
   "metadata": {},
   "source": [
    "# Most common crime in a community area"
   ]
  },
  {
   "cell_type": "markdown",
   "metadata": {},
   "source": [
    "I use one hot encoding to find the most common crimes in a community area, then I find the most common crimes in a cluster."
   ]
  },
  {
   "cell_type": "code",
   "execution_count": 28,
   "metadata": {},
   "outputs": [],
   "source": [
    "# one hot encoding\n",
    "chicago_crime_onehot = pd.get_dummies(crime_data[['PRIMARY_TYPE']], prefix=\"\", prefix_sep=\"\")\n",
    "\n",
    "# add neighborhood column back to dataframe\n",
    "chicago_crime_onehot['COMMUNITY_AREA_NUMBER'] = crime_data['COMMUNITY_AREA_NUMBER'] \n",
    "\n",
    "# move neighborhood column to the first column\n",
    "fixed_columns = [chicago_crime_onehot.columns[-1]] + list(chicago_crime_onehot.columns[:-1])\n",
    "chicago_crime_onehot = chicago_crime_onehot[fixed_columns];"
   ]
  },
  {
   "cell_type": "code",
   "execution_count": 29,
   "metadata": {},
   "outputs": [
    {
     "data": {
      "text/html": [
       "<div>\n",
       "<style scoped>\n",
       "    .dataframe tbody tr th:only-of-type {\n",
       "        vertical-align: middle;\n",
       "    }\n",
       "\n",
       "    .dataframe tbody tr th {\n",
       "        vertical-align: top;\n",
       "    }\n",
       "\n",
       "    .dataframe thead th {\n",
       "        text-align: right;\n",
       "    }\n",
       "</style>\n",
       "<table border=\"1\" class=\"dataframe\">\n",
       "  <thead>\n",
       "    <tr style=\"text-align: right;\">\n",
       "      <th></th>\n",
       "      <th>COMMUNITY_AREA_NUMBER</th>\n",
       "      <th>ARSON</th>\n",
       "      <th>ASSAULT</th>\n",
       "      <th>BATTERY</th>\n",
       "      <th>BURGLARY</th>\n",
       "      <th>CONCEALED CARRY LICENSE VIOLATION</th>\n",
       "      <th>CRIM SEXUAL ASSAULT</th>\n",
       "      <th>CRIMINAL DAMAGE</th>\n",
       "      <th>CRIMINAL TRESPASS</th>\n",
       "      <th>DECEPTIVE PRACTICE</th>\n",
       "      <th>...</th>\n",
       "      <th>OTHER OFFENSE</th>\n",
       "      <th>PROSTITUTION</th>\n",
       "      <th>PUBLIC INDECENCY</th>\n",
       "      <th>PUBLIC PEACE VIOLATION</th>\n",
       "      <th>RITUALISM</th>\n",
       "      <th>ROBBERY</th>\n",
       "      <th>SEX OFFENSE</th>\n",
       "      <th>STALKING</th>\n",
       "      <th>THEFT</th>\n",
       "      <th>WEAPONS VIOLATION</th>\n",
       "    </tr>\n",
       "  </thead>\n",
       "  <tbody>\n",
       "    <tr>\n",
       "      <th>0</th>\n",
       "      <td>58.0</td>\n",
       "      <td>0</td>\n",
       "      <td>0</td>\n",
       "      <td>0</td>\n",
       "      <td>0</td>\n",
       "      <td>0</td>\n",
       "      <td>0</td>\n",
       "      <td>0</td>\n",
       "      <td>0</td>\n",
       "      <td>0</td>\n",
       "      <td>...</td>\n",
       "      <td>0</td>\n",
       "      <td>0</td>\n",
       "      <td>0</td>\n",
       "      <td>0</td>\n",
       "      <td>0</td>\n",
       "      <td>0</td>\n",
       "      <td>0</td>\n",
       "      <td>0</td>\n",
       "      <td>1</td>\n",
       "      <td>0</td>\n",
       "    </tr>\n",
       "    <tr>\n",
       "      <th>1</th>\n",
       "      <td>23.0</td>\n",
       "      <td>0</td>\n",
       "      <td>0</td>\n",
       "      <td>0</td>\n",
       "      <td>0</td>\n",
       "      <td>0</td>\n",
       "      <td>0</td>\n",
       "      <td>0</td>\n",
       "      <td>0</td>\n",
       "      <td>0</td>\n",
       "      <td>...</td>\n",
       "      <td>0</td>\n",
       "      <td>0</td>\n",
       "      <td>0</td>\n",
       "      <td>0</td>\n",
       "      <td>0</td>\n",
       "      <td>0</td>\n",
       "      <td>0</td>\n",
       "      <td>0</td>\n",
       "      <td>1</td>\n",
       "      <td>0</td>\n",
       "    </tr>\n",
       "    <tr>\n",
       "      <th>2</th>\n",
       "      <td>38.0</td>\n",
       "      <td>0</td>\n",
       "      <td>0</td>\n",
       "      <td>0</td>\n",
       "      <td>0</td>\n",
       "      <td>0</td>\n",
       "      <td>0</td>\n",
       "      <td>0</td>\n",
       "      <td>0</td>\n",
       "      <td>0</td>\n",
       "      <td>...</td>\n",
       "      <td>0</td>\n",
       "      <td>0</td>\n",
       "      <td>0</td>\n",
       "      <td>0</td>\n",
       "      <td>0</td>\n",
       "      <td>0</td>\n",
       "      <td>0</td>\n",
       "      <td>0</td>\n",
       "      <td>1</td>\n",
       "      <td>0</td>\n",
       "    </tr>\n",
       "  </tbody>\n",
       "</table>\n",
       "<p>3 rows × 36 columns</p>\n",
       "</div>"
      ],
      "text/plain": [
       "   COMMUNITY_AREA_NUMBER  ARSON  ASSAULT  BATTERY  BURGLARY  \\\n",
       "0                   58.0      0        0        0         0   \n",
       "1                   23.0      0        0        0         0   \n",
       "2                   38.0      0        0        0         0   \n",
       "\n",
       "   CONCEALED CARRY LICENSE VIOLATION  CRIM SEXUAL ASSAULT  CRIMINAL DAMAGE  \\\n",
       "0                                  0                    0                0   \n",
       "1                                  0                    0                0   \n",
       "2                                  0                    0                0   \n",
       "\n",
       "   CRIMINAL TRESPASS  DECEPTIVE PRACTICE        ...          OTHER OFFENSE  \\\n",
       "0                  0                   0        ...                      0   \n",
       "1                  0                   0        ...                      0   \n",
       "2                  0                   0        ...                      0   \n",
       "\n",
       "   PROSTITUTION  PUBLIC INDECENCY  PUBLIC PEACE VIOLATION  RITUALISM  ROBBERY  \\\n",
       "0             0                 0                       0          0        0   \n",
       "1             0                 0                       0          0        0   \n",
       "2             0                 0                       0          0        0   \n",
       "\n",
       "   SEX OFFENSE  STALKING  THEFT  WEAPONS VIOLATION  \n",
       "0            0         0      1                  0  \n",
       "1            0         0      1                  0  \n",
       "2            0         0      1                  0  \n",
       "\n",
       "[3 rows x 36 columns]"
      ]
     },
     "execution_count": 29,
     "metadata": {},
     "output_type": "execute_result"
    }
   ],
   "source": [
    "chicago_crime_onehot.head(3)"
   ]
  },
  {
   "cell_type": "code",
   "execution_count": 30,
   "metadata": {},
   "outputs": [],
   "source": [
    "chicago_crime_sum=chicago_crime_onehot.groupby(\"COMMUNITY_AREA_NUMBER\").sum().reset_index()"
   ]
  },
  {
   "cell_type": "markdown",
   "metadata": {},
   "source": [
    "I add the name of the area, and the cluster information."
   ]
  },
  {
   "cell_type": "code",
   "execution_count": 31,
   "metadata": {},
   "outputs": [
    {
     "data": {
      "text/plain": [
       "(70, 36)"
      ]
     },
     "execution_count": 31,
     "metadata": {},
     "output_type": "execute_result"
    }
   ],
   "source": [
    "chicago_crime_sum.shape"
   ]
  },
  {
   "cell_type": "code",
   "execution_count": 32,
   "metadata": {},
   "outputs": [
    {
     "data": {
      "text/plain": [
       "(70, 12)"
      ]
     },
     "execution_count": 32,
     "metadata": {},
     "output_type": "execute_result"
    }
   ],
   "source": [
    "location_name.shape"
   ]
  },
  {
   "cell_type": "code",
   "execution_count": 33,
   "metadata": {},
   "outputs": [],
   "source": [
    "chicago_crime_cluster=pd.merge(chicago_crime_sum,location_name[[\"Cluster\", \"COMMUNITY_AREA_NAME\",\"COMMUNITY_AREA_NUMBER\"]], on=\"COMMUNITY_AREA_NUMBER\")"
   ]
  },
  {
   "cell_type": "code",
   "execution_count": 34,
   "metadata": {},
   "outputs": [],
   "source": [
    "fixed_columns = [chicago_crime_cluster.columns[-1],chicago_crime_cluster.columns[-2]] + list(chicago_crime_cluster.columns[:-2])\n",
    "chicago_crime_cluster = chicago_crime_cluster[fixed_columns];"
   ]
  },
  {
   "cell_type": "code",
   "execution_count": 35,
   "metadata": {
    "scrolled": true
   },
   "outputs": [],
   "source": [
    "chicago_crime_cluster=chicago_crime_cluster.groupby(\"Cluster\").sum()"
   ]
  },
  {
   "cell_type": "code",
   "execution_count": 36,
   "metadata": {},
   "outputs": [],
   "source": [
    "chicago_crime_cluster=chicago_crime_cluster.drop(columns=\"COMMUNITY_AREA_NUMBER\")"
   ]
  },
  {
   "cell_type": "code",
   "execution_count": 37,
   "metadata": {},
   "outputs": [],
   "source": [
    "chicago_crime_cluster=chicago_crime_cluster.reset_index()"
   ]
  },
  {
   "cell_type": "code",
   "execution_count": 38,
   "metadata": {},
   "outputs": [],
   "source": [
    "total_crime=[0,0,0,0]\n",
    "for i in range(4):\n",
    "    total_crime[i]=chicago_crime_cluster.loc[i][1:].sum()"
   ]
  },
  {
   "cell_type": "code",
   "execution_count": 39,
   "metadata": {},
   "outputs": [],
   "source": [
    "chicago_crime_cluster[\"Total_crimes\"]=total_crime"
   ]
  },
  {
   "cell_type": "code",
   "execution_count": 40,
   "metadata": {},
   "outputs": [
    {
     "data": {
      "text/html": [
       "<div>\n",
       "<style scoped>\n",
       "    .dataframe tbody tr th:only-of-type {\n",
       "        vertical-align: middle;\n",
       "    }\n",
       "\n",
       "    .dataframe tbody tr th {\n",
       "        vertical-align: top;\n",
       "    }\n",
       "\n",
       "    .dataframe thead th {\n",
       "        text-align: right;\n",
       "    }\n",
       "</style>\n",
       "<table border=\"1\" class=\"dataframe\">\n",
       "  <thead>\n",
       "    <tr style=\"text-align: right;\">\n",
       "      <th></th>\n",
       "      <th>Cluster</th>\n",
       "      <th>ARSON</th>\n",
       "      <th>ASSAULT</th>\n",
       "      <th>BATTERY</th>\n",
       "      <th>BURGLARY</th>\n",
       "      <th>CONCEALED CARRY LICENSE VIOLATION</th>\n",
       "      <th>CRIM SEXUAL ASSAULT</th>\n",
       "      <th>CRIMINAL DAMAGE</th>\n",
       "      <th>CRIMINAL TRESPASS</th>\n",
       "      <th>DECEPTIVE PRACTICE</th>\n",
       "      <th>...</th>\n",
       "      <th>PROSTITUTION</th>\n",
       "      <th>PUBLIC INDECENCY</th>\n",
       "      <th>PUBLIC PEACE VIOLATION</th>\n",
       "      <th>RITUALISM</th>\n",
       "      <th>ROBBERY</th>\n",
       "      <th>SEX OFFENSE</th>\n",
       "      <th>STALKING</th>\n",
       "      <th>THEFT</th>\n",
       "      <th>WEAPONS VIOLATION</th>\n",
       "      <th>Total_crimes</th>\n",
       "    </tr>\n",
       "  </thead>\n",
       "  <tbody>\n",
       "    <tr>\n",
       "      <th>0</th>\n",
       "      <td>0</td>\n",
       "      <td>0</td>\n",
       "      <td>4</td>\n",
       "      <td>14</td>\n",
       "      <td>2</td>\n",
       "      <td>0</td>\n",
       "      <td>0</td>\n",
       "      <td>12</td>\n",
       "      <td>5</td>\n",
       "      <td>7</td>\n",
       "      <td>...</td>\n",
       "      <td>2</td>\n",
       "      <td>0</td>\n",
       "      <td>0</td>\n",
       "      <td>0</td>\n",
       "      <td>2</td>\n",
       "      <td>0</td>\n",
       "      <td>0</td>\n",
       "      <td>30</td>\n",
       "      <td>1</td>\n",
       "      <td>102</td>\n",
       "    </tr>\n",
       "    <tr>\n",
       "      <th>1</th>\n",
       "      <td>1</td>\n",
       "      <td>2</td>\n",
       "      <td>19</td>\n",
       "      <td>39</td>\n",
       "      <td>13</td>\n",
       "      <td>1</td>\n",
       "      <td>1</td>\n",
       "      <td>15</td>\n",
       "      <td>5</td>\n",
       "      <td>4</td>\n",
       "      <td>...</td>\n",
       "      <td>1</td>\n",
       "      <td>1</td>\n",
       "      <td>1</td>\n",
       "      <td>1</td>\n",
       "      <td>10</td>\n",
       "      <td>0</td>\n",
       "      <td>0</td>\n",
       "      <td>30</td>\n",
       "      <td>4</td>\n",
       "      <td>197</td>\n",
       "    </tr>\n",
       "    <tr>\n",
       "      <th>2</th>\n",
       "      <td>2</td>\n",
       "      <td>0</td>\n",
       "      <td>3</td>\n",
       "      <td>16</td>\n",
       "      <td>6</td>\n",
       "      <td>0</td>\n",
       "      <td>1</td>\n",
       "      <td>14</td>\n",
       "      <td>1</td>\n",
       "      <td>1</td>\n",
       "      <td>...</td>\n",
       "      <td>0</td>\n",
       "      <td>0</td>\n",
       "      <td>1</td>\n",
       "      <td>0</td>\n",
       "      <td>4</td>\n",
       "      <td>2</td>\n",
       "      <td>0</td>\n",
       "      <td>22</td>\n",
       "      <td>1</td>\n",
       "      <td>105</td>\n",
       "    </tr>\n",
       "    <tr>\n",
       "      <th>3</th>\n",
       "      <td>3</td>\n",
       "      <td>0</td>\n",
       "      <td>4</td>\n",
       "      <td>12</td>\n",
       "      <td>6</td>\n",
       "      <td>0</td>\n",
       "      <td>0</td>\n",
       "      <td>14</td>\n",
       "      <td>2</td>\n",
       "      <td>3</td>\n",
       "      <td>...</td>\n",
       "      <td>0</td>\n",
       "      <td>0</td>\n",
       "      <td>1</td>\n",
       "      <td>0</td>\n",
       "      <td>4</td>\n",
       "      <td>1</td>\n",
       "      <td>1</td>\n",
       "      <td>18</td>\n",
       "      <td>0</td>\n",
       "      <td>86</td>\n",
       "    </tr>\n",
       "  </tbody>\n",
       "</table>\n",
       "<p>4 rows × 37 columns</p>\n",
       "</div>"
      ],
      "text/plain": [
       "   Cluster  ARSON  ASSAULT  BATTERY  BURGLARY  \\\n",
       "0        0      0        4       14         2   \n",
       "1        1      2       19       39        13   \n",
       "2        2      0        3       16         6   \n",
       "3        3      0        4       12         6   \n",
       "\n",
       "   CONCEALED CARRY LICENSE VIOLATION  CRIM SEXUAL ASSAULT  CRIMINAL DAMAGE  \\\n",
       "0                                  0                    0               12   \n",
       "1                                  1                    1               15   \n",
       "2                                  0                    1               14   \n",
       "3                                  0                    0               14   \n",
       "\n",
       "   CRIMINAL TRESPASS  DECEPTIVE PRACTICE      ...       PROSTITUTION  \\\n",
       "0                  5                   7      ...                  2   \n",
       "1                  5                   4      ...                  1   \n",
       "2                  1                   1      ...                  0   \n",
       "3                  2                   3      ...                  0   \n",
       "\n",
       "   PUBLIC INDECENCY  PUBLIC PEACE VIOLATION  RITUALISM  ROBBERY  SEX OFFENSE  \\\n",
       "0                 0                       0          0        2            0   \n",
       "1                 1                       1          1       10            0   \n",
       "2                 0                       1          0        4            2   \n",
       "3                 0                       1          0        4            1   \n",
       "\n",
       "   STALKING  THEFT  WEAPONS VIOLATION  Total_crimes  \n",
       "0         0     30                  1           102  \n",
       "1         0     30                  4           197  \n",
       "2         0     22                  1           105  \n",
       "3         1     18                  0            86  \n",
       "\n",
       "[4 rows x 37 columns]"
      ]
     },
     "execution_count": 40,
     "metadata": {},
     "output_type": "execute_result"
    }
   ],
   "source": [
    "chicago_crime_cluster.head()"
   ]
  },
  {
   "cell_type": "markdown",
   "metadata": {},
   "source": [
    "I creata a dataframe with the most common crimes in each cluster. I add the total amount of crimes in that cluster."
   ]
  },
  {
   "cell_type": "code",
   "execution_count": 184,
   "metadata": {},
   "outputs": [
    {
     "data": {
      "text/plain": [
       "102"
      ]
     },
     "execution_count": 184,
     "metadata": {},
     "output_type": "execute_result"
    }
   ],
   "source": [
    "chicago_crime_cluster[\"Total_crimes\"][0]"
   ]
  },
  {
   "cell_type": "code",
   "execution_count": 186,
   "metadata": {},
   "outputs": [
    {
     "data": {
      "text/html": [
       "<div>\n",
       "<style scoped>\n",
       "    .dataframe tbody tr th:only-of-type {\n",
       "        vertical-align: middle;\n",
       "    }\n",
       "\n",
       "    .dataframe tbody tr th {\n",
       "        vertical-align: top;\n",
       "    }\n",
       "\n",
       "    .dataframe thead th {\n",
       "        text-align: right;\n",
       "    }\n",
       "</style>\n",
       "<table border=\"1\" class=\"dataframe\">\n",
       "  <thead>\n",
       "    <tr style=\"text-align: right;\">\n",
       "      <th></th>\n",
       "      <th>Cluster 0</th>\n",
       "    </tr>\n",
       "  </thead>\n",
       "  <tbody>\n",
       "    <tr>\n",
       "      <th>THEFT</th>\n",
       "      <td>30</td>\n",
       "    </tr>\n",
       "    <tr>\n",
       "      <th>BATTERY</th>\n",
       "      <td>14</td>\n",
       "    </tr>\n",
       "    <tr>\n",
       "      <th>CRIMINAL DAMAGE</th>\n",
       "      <td>12</td>\n",
       "    </tr>\n",
       "    <tr>\n",
       "      <th>NARCOTICS</th>\n",
       "      <td>9</td>\n",
       "    </tr>\n",
       "    <tr>\n",
       "      <th>DECEPTIVE PRACTICE</th>\n",
       "      <td>7</td>\n",
       "    </tr>\n",
       "    <tr>\n",
       "      <th>Total</th>\n",
       "      <td>102</td>\n",
       "    </tr>\n",
       "  </tbody>\n",
       "</table>\n",
       "</div>"
      ],
      "text/plain": [
       "                    Cluster 0\n",
       "THEFT                      30\n",
       "BATTERY                    14\n",
       "CRIMINAL DAMAGE            12\n",
       "NARCOTICS                   9\n",
       "DECEPTIVE PRACTICE          7\n",
       "Total                     102"
      ]
     },
     "execution_count": 186,
     "metadata": {},
     "output_type": "execute_result"
    }
   ],
   "source": [
    "crimes_cluster_0=return_most_common_venues(chicago_crime_cluster.iloc[0,:-1],5,0)\n",
    "crime_0=pd.DataFrame(chicago_crime_cluster[crimes_cluster_0].loc[0,:])\n",
    "crime_0=crime_0.rename(columns={0:\"Cluster 0\"})\n",
    "crime_0.loc[\"Total\"]=[chicago_crime_cluster[\"Total_crimes\"][0]]\n",
    "crime_0.head(6)"
   ]
  },
  {
   "cell_type": "code",
   "execution_count": 187,
   "metadata": {},
   "outputs": [
    {
     "data": {
      "text/html": [
       "<div>\n",
       "<style scoped>\n",
       "    .dataframe tbody tr th:only-of-type {\n",
       "        vertical-align: middle;\n",
       "    }\n",
       "\n",
       "    .dataframe tbody tr th {\n",
       "        vertical-align: top;\n",
       "    }\n",
       "\n",
       "    .dataframe thead th {\n",
       "        text-align: right;\n",
       "    }\n",
       "</style>\n",
       "<table border=\"1\" class=\"dataframe\">\n",
       "  <thead>\n",
       "    <tr style=\"text-align: right;\">\n",
       "      <th></th>\n",
       "      <th>Cluster 1</th>\n",
       "    </tr>\n",
       "  </thead>\n",
       "  <tbody>\n",
       "    <tr>\n",
       "      <th>BATTERY</th>\n",
       "      <td>39</td>\n",
       "    </tr>\n",
       "    <tr>\n",
       "      <th>THEFT</th>\n",
       "      <td>30</td>\n",
       "    </tr>\n",
       "    <tr>\n",
       "      <th>NARCOTICS</th>\n",
       "      <td>25</td>\n",
       "    </tr>\n",
       "    <tr>\n",
       "      <th>ASSAULT</th>\n",
       "      <td>19</td>\n",
       "    </tr>\n",
       "    <tr>\n",
       "      <th>CRIMINAL DAMAGE</th>\n",
       "      <td>15</td>\n",
       "    </tr>\n",
       "    <tr>\n",
       "      <th>Total</th>\n",
       "      <td>197</td>\n",
       "    </tr>\n",
       "  </tbody>\n",
       "</table>\n",
       "</div>"
      ],
      "text/plain": [
       "                 Cluster 1\n",
       "BATTERY                 39\n",
       "THEFT                   30\n",
       "NARCOTICS               25\n",
       "ASSAULT                 19\n",
       "CRIMINAL DAMAGE         15\n",
       "Total                  197"
      ]
     },
     "execution_count": 187,
     "metadata": {},
     "output_type": "execute_result"
    }
   ],
   "source": [
    "crimes_cluster_1=return_most_common_venues(chicago_crime_cluster.iloc[1,:-1],5,0)\n",
    "crime_1=pd.DataFrame(chicago_crime_cluster[crimes_cluster_1].loc[1,:])\n",
    "crime_1=crime_1.rename(columns={1:\"Cluster 1\"})\n",
    "crime_1.loc[\"Total\"]=[chicago_crime_cluster[\"Total_crimes\"][1]]\n",
    "crime_1.head(6)"
   ]
  },
  {
   "cell_type": "code",
   "execution_count": 188,
   "metadata": {},
   "outputs": [
    {
     "data": {
      "text/html": [
       "<div>\n",
       "<style scoped>\n",
       "    .dataframe tbody tr th:only-of-type {\n",
       "        vertical-align: middle;\n",
       "    }\n",
       "\n",
       "    .dataframe tbody tr th {\n",
       "        vertical-align: top;\n",
       "    }\n",
       "\n",
       "    .dataframe thead th {\n",
       "        text-align: right;\n",
       "    }\n",
       "</style>\n",
       "<table border=\"1\" class=\"dataframe\">\n",
       "  <thead>\n",
       "    <tr style=\"text-align: right;\">\n",
       "      <th></th>\n",
       "      <th>Cluster 2</th>\n",
       "    </tr>\n",
       "  </thead>\n",
       "  <tbody>\n",
       "    <tr>\n",
       "      <th>THEFT</th>\n",
       "      <td>22</td>\n",
       "    </tr>\n",
       "    <tr>\n",
       "      <th>BATTERY</th>\n",
       "      <td>16</td>\n",
       "    </tr>\n",
       "    <tr>\n",
       "      <th>NARCOTICS</th>\n",
       "      <td>15</td>\n",
       "    </tr>\n",
       "    <tr>\n",
       "      <th>CRIMINAL DAMAGE</th>\n",
       "      <td>14</td>\n",
       "    </tr>\n",
       "    <tr>\n",
       "      <th>OTHER OFFENSE</th>\n",
       "      <td>9</td>\n",
       "    </tr>\n",
       "    <tr>\n",
       "      <th>Total</th>\n",
       "      <td>105</td>\n",
       "    </tr>\n",
       "  </tbody>\n",
       "</table>\n",
       "</div>"
      ],
      "text/plain": [
       "                 Cluster 2\n",
       "THEFT                   22\n",
       "BATTERY                 16\n",
       "NARCOTICS               15\n",
       "CRIMINAL DAMAGE         14\n",
       "OTHER OFFENSE            9\n",
       "Total                  105"
      ]
     },
     "execution_count": 188,
     "metadata": {},
     "output_type": "execute_result"
    }
   ],
   "source": [
    "crimes_cluster_2=return_most_common_venues(chicago_crime_cluster.iloc[2,:-1],5,0)\n",
    "crime_2=pd.DataFrame(chicago_crime_cluster[crimes_cluster_2].loc[2,:])\n",
    "crime_2=crime_2.rename(columns={2:\"Cluster 2\"})\n",
    "crime_2.loc[\"Total\"]=[chicago_crime_cluster[\"Total_crimes\"][2]]\n",
    "crime_2.head(6)"
   ]
  },
  {
   "cell_type": "code",
   "execution_count": 189,
   "metadata": {},
   "outputs": [
    {
     "data": {
      "text/html": [
       "<div>\n",
       "<style scoped>\n",
       "    .dataframe tbody tr th:only-of-type {\n",
       "        vertical-align: middle;\n",
       "    }\n",
       "\n",
       "    .dataframe tbody tr th {\n",
       "        vertical-align: top;\n",
       "    }\n",
       "\n",
       "    .dataframe thead th {\n",
       "        text-align: right;\n",
       "    }\n",
       "</style>\n",
       "<table border=\"1\" class=\"dataframe\">\n",
       "  <thead>\n",
       "    <tr style=\"text-align: right;\">\n",
       "      <th></th>\n",
       "      <th>Cluster 3</th>\n",
       "    </tr>\n",
       "  </thead>\n",
       "  <tbody>\n",
       "    <tr>\n",
       "      <th>THEFT</th>\n",
       "      <td>18</td>\n",
       "    </tr>\n",
       "    <tr>\n",
       "      <th>CRIMINAL DAMAGE</th>\n",
       "      <td>14</td>\n",
       "    </tr>\n",
       "    <tr>\n",
       "      <th>BATTERY</th>\n",
       "      <td>12</td>\n",
       "    </tr>\n",
       "    <tr>\n",
       "      <th>OTHER OFFENSE</th>\n",
       "      <td>7</td>\n",
       "    </tr>\n",
       "    <tr>\n",
       "      <th>BURGLARY</th>\n",
       "      <td>6</td>\n",
       "    </tr>\n",
       "    <tr>\n",
       "      <th>Total</th>\n",
       "      <td>86</td>\n",
       "    </tr>\n",
       "  </tbody>\n",
       "</table>\n",
       "</div>"
      ],
      "text/plain": [
       "                 Cluster 3\n",
       "THEFT                   18\n",
       "CRIMINAL DAMAGE         14\n",
       "BATTERY                 12\n",
       "OTHER OFFENSE            7\n",
       "BURGLARY                 6\n",
       "Total                   86"
      ]
     },
     "execution_count": 189,
     "metadata": {},
     "output_type": "execute_result"
    }
   ],
   "source": [
    "crimes_cluster_3=return_most_common_venues(chicago_crime_cluster.iloc[3,:-1],5,0)\n",
    "crime_3=pd.DataFrame(chicago_crime_cluster[crimes_cluster_3].loc[3,:])\n",
    "crime_3=crime_3.rename(columns={3:\"Cluster 3\"})\n",
    "crime_3.loc[\"Total\"]=[chicago_crime_cluster[\"Total_crimes\"][3]]\n",
    "crime_3.head(6)"
   ]
  },
  {
   "cell_type": "markdown",
   "metadata": {},
   "source": [
    "Among the 5 most common crimes in each cluster there are 8 categories between all clusters:\n",
    "* Theft\n",
    "* Battery\n",
    "* Crimanl Damage\n",
    "* Narcotics\n",
    "* Other offense\n",
    "* Burglary\n",
    "* Assault\n",
    "* Deceptive practice\n",
    "\n",
    "I dismiss \"Other offense\" because is vague. I look correlations among the other offences and the venues in the community in which they were commited.\n",
    "\n",
    "Theft is the most common crime in 3 clusters, and it is the second most common in the other. "
   ]
  },
  {
   "cell_type": "markdown",
   "metadata": {},
   "source": [
    "# Correlations in crime and venues\n",
    "\n",
    "I am going to study the correlations of the most common crimes and the land use in each cluster."
   ]
  },
  {
   "cell_type": "code",
   "execution_count": 64,
   "metadata": {},
   "outputs": [],
   "source": [
    "chicago_crime_venues=pd.merge(chicago_venues_sum, chicago_crime_sum, on=\"COMMUNITY_AREA_NUMBER\");"
   ]
  },
  {
   "cell_type": "code",
   "execution_count": 65,
   "metadata": {},
   "outputs": [
    {
     "data": {
      "text/html": [
       "<div>\n",
       "<style scoped>\n",
       "    .dataframe tbody tr th:only-of-type {\n",
       "        vertical-align: middle;\n",
       "    }\n",
       "\n",
       "    .dataframe tbody tr th {\n",
       "        vertical-align: top;\n",
       "    }\n",
       "\n",
       "    .dataframe thead th {\n",
       "        text-align: right;\n",
       "    }\n",
       "</style>\n",
       "<table border=\"1\" class=\"dataframe\">\n",
       "  <thead>\n",
       "    <tr style=\"text-align: right;\">\n",
       "      <th></th>\n",
       "      <th>COMMUNITY_AREA_NUMBER</th>\n",
       "      <th>Cluster</th>\n",
       "      <th>COMMUNITY_AREA_NAME</th>\n",
       "      <th>ATM</th>\n",
       "      <th>Airport</th>\n",
       "      <th>Airport Lounge</th>\n",
       "      <th>Airport Service</th>\n",
       "      <th>American Restaurant</th>\n",
       "      <th>Antique Shop</th>\n",
       "      <th>Arcade</th>\n",
       "      <th>...</th>\n",
       "      <th>OTHER OFFENSE</th>\n",
       "      <th>PROSTITUTION</th>\n",
       "      <th>PUBLIC INDECENCY</th>\n",
       "      <th>PUBLIC PEACE VIOLATION</th>\n",
       "      <th>RITUALISM</th>\n",
       "      <th>ROBBERY</th>\n",
       "      <th>SEX OFFENSE</th>\n",
       "      <th>STALKING</th>\n",
       "      <th>THEFT</th>\n",
       "      <th>WEAPONS VIOLATION</th>\n",
       "    </tr>\n",
       "  </thead>\n",
       "  <tbody>\n",
       "    <tr>\n",
       "      <th>0</th>\n",
       "      <td>1.0</td>\n",
       "      <td>0</td>\n",
       "      <td>Rogers Park</td>\n",
       "      <td>0</td>\n",
       "      <td>0</td>\n",
       "      <td>0</td>\n",
       "      <td>0</td>\n",
       "      <td>1</td>\n",
       "      <td>0</td>\n",
       "      <td>0</td>\n",
       "      <td>...</td>\n",
       "      <td>1</td>\n",
       "      <td>1</td>\n",
       "      <td>0</td>\n",
       "      <td>0</td>\n",
       "      <td>0</td>\n",
       "      <td>0</td>\n",
       "      <td>0</td>\n",
       "      <td>0</td>\n",
       "      <td>1</td>\n",
       "      <td>0</td>\n",
       "    </tr>\n",
       "    <tr>\n",
       "      <th>1</th>\n",
       "      <td>2.0</td>\n",
       "      <td>3</td>\n",
       "      <td>West Ridge</td>\n",
       "      <td>0</td>\n",
       "      <td>0</td>\n",
       "      <td>0</td>\n",
       "      <td>0</td>\n",
       "      <td>1</td>\n",
       "      <td>0</td>\n",
       "      <td>0</td>\n",
       "      <td>...</td>\n",
       "      <td>2</td>\n",
       "      <td>0</td>\n",
       "      <td>0</td>\n",
       "      <td>0</td>\n",
       "      <td>0</td>\n",
       "      <td>1</td>\n",
       "      <td>0</td>\n",
       "      <td>0</td>\n",
       "      <td>1</td>\n",
       "      <td>0</td>\n",
       "    </tr>\n",
       "    <tr>\n",
       "      <th>2</th>\n",
       "      <td>3.0</td>\n",
       "      <td>0</td>\n",
       "      <td>Uptown</td>\n",
       "      <td>0</td>\n",
       "      <td>0</td>\n",
       "      <td>0</td>\n",
       "      <td>0</td>\n",
       "      <td>1</td>\n",
       "      <td>0</td>\n",
       "      <td>0</td>\n",
       "      <td>...</td>\n",
       "      <td>0</td>\n",
       "      <td>0</td>\n",
       "      <td>0</td>\n",
       "      <td>0</td>\n",
       "      <td>0</td>\n",
       "      <td>0</td>\n",
       "      <td>0</td>\n",
       "      <td>0</td>\n",
       "      <td>0</td>\n",
       "      <td>0</td>\n",
       "    </tr>\n",
       "    <tr>\n",
       "      <th>3</th>\n",
       "      <td>4.0</td>\n",
       "      <td>0</td>\n",
       "      <td>Lincoln Square</td>\n",
       "      <td>0</td>\n",
       "      <td>0</td>\n",
       "      <td>0</td>\n",
       "      <td>0</td>\n",
       "      <td>1</td>\n",
       "      <td>0</td>\n",
       "      <td>0</td>\n",
       "      <td>...</td>\n",
       "      <td>0</td>\n",
       "      <td>0</td>\n",
       "      <td>0</td>\n",
       "      <td>0</td>\n",
       "      <td>0</td>\n",
       "      <td>0</td>\n",
       "      <td>0</td>\n",
       "      <td>0</td>\n",
       "      <td>0</td>\n",
       "      <td>0</td>\n",
       "    </tr>\n",
       "    <tr>\n",
       "      <th>4</th>\n",
       "      <td>5.0</td>\n",
       "      <td>0</td>\n",
       "      <td>North Center</td>\n",
       "      <td>0</td>\n",
       "      <td>0</td>\n",
       "      <td>0</td>\n",
       "      <td>0</td>\n",
       "      <td>2</td>\n",
       "      <td>0</td>\n",
       "      <td>0</td>\n",
       "      <td>...</td>\n",
       "      <td>0</td>\n",
       "      <td>0</td>\n",
       "      <td>0</td>\n",
       "      <td>0</td>\n",
       "      <td>0</td>\n",
       "      <td>1</td>\n",
       "      <td>0</td>\n",
       "      <td>0</td>\n",
       "      <td>1</td>\n",
       "      <td>0</td>\n",
       "    </tr>\n",
       "  </tbody>\n",
       "</table>\n",
       "<p>5 rows × 256 columns</p>\n",
       "</div>"
      ],
      "text/plain": [
       "   COMMUNITY_AREA_NUMBER  Cluster COMMUNITY_AREA_NAME  ATM  Airport  \\\n",
       "0                    1.0        0         Rogers Park    0        0   \n",
       "1                    2.0        3          West Ridge    0        0   \n",
       "2                    3.0        0              Uptown    0        0   \n",
       "3                    4.0        0      Lincoln Square    0        0   \n",
       "4                    5.0        0        North Center    0        0   \n",
       "\n",
       "   Airport Lounge  Airport Service  American Restaurant  Antique Shop  Arcade  \\\n",
       "0               0                0                    1             0       0   \n",
       "1               0                0                    1             0       0   \n",
       "2               0                0                    1             0       0   \n",
       "3               0                0                    1             0       0   \n",
       "4               0                0                    2             0       0   \n",
       "\n",
       "         ...          OTHER OFFENSE  PROSTITUTION  PUBLIC INDECENCY  \\\n",
       "0        ...                      1             1                 0   \n",
       "1        ...                      2             0                 0   \n",
       "2        ...                      0             0                 0   \n",
       "3        ...                      0             0                 0   \n",
       "4        ...                      0             0                 0   \n",
       "\n",
       "   PUBLIC PEACE VIOLATION  RITUALISM  ROBBERY  SEX OFFENSE  STALKING  THEFT  \\\n",
       "0                       0          0        0            0         0      1   \n",
       "1                       0          0        1            0         0      1   \n",
       "2                       0          0        0            0         0      0   \n",
       "3                       0          0        0            0         0      0   \n",
       "4                       0          0        1            0         0      1   \n",
       "\n",
       "   WEAPONS VIOLATION  \n",
       "0                  0  \n",
       "1                  0  \n",
       "2                  0  \n",
       "3                  0  \n",
       "4                  0  \n",
       "\n",
       "[5 rows x 256 columns]"
      ]
     },
     "execution_count": 65,
     "metadata": {},
     "output_type": "execute_result"
    }
   ],
   "source": [
    "chicago_crime_venues.head()"
   ]
  },
  {
   "cell_type": "code",
   "execution_count": 66,
   "metadata": {},
   "outputs": [],
   "source": [
    "correlation_crime=chicago_crime_venues.corr()"
   ]
  },
  {
   "cell_type": "code",
   "execution_count": 93,
   "metadata": {},
   "outputs": [
    {
     "data": {
      "text/plain": [
       "Nightclub             0.359647\n",
       "Hotel                 0.312950\n",
       "Seafood Restaurant    0.303929\n",
       "Hockey Arena          0.283075\n",
       "Sandwich Place        0.275665\n",
       "Name: THEFT, dtype: float64"
      ]
     },
     "execution_count": 93,
     "metadata": {},
     "output_type": "execute_result"
    }
   ],
   "source": [
    "np.abs(correlation_crime[\"THEFT\"][2:221]).sort_values(ascending=False)[:5] # The range[2:221] selects the venues"
   ]
  },
  {
   "cell_type": "markdown",
   "metadata": {},
   "source": [
    "I will look for correlations in each cluster."
   ]
  },
  {
   "cell_type": "code",
   "execution_count": 68,
   "metadata": {},
   "outputs": [],
   "source": [
    "chicago_crime_venues_0=chicago_crime_venues[chicago_crime_venues[\"Cluster\"]==0]\n",
    "correlation_crime_0=chicago_crime_venues_0.corr()\n",
    "chicago_crime_venues_1=chicago_crime_venues[chicago_crime_venues[\"Cluster\"]==1]\n",
    "correlation_crime_1=chicago_crime_venues_1.corr()\n",
    "chicago_crime_venues_2=chicago_crime_venues[chicago_crime_venues[\"Cluster\"]==2]\n",
    "correlation_crime_2=chicago_crime_venues_2.corr()\n",
    "chicago_crime_venues_3=chicago_crime_venues[chicago_crime_venues[\"Cluster\"]==3]\n",
    "correlation_crime_3=chicago_crime_venues_3.corr()"
   ]
  },
  {
   "cell_type": "markdown",
   "metadata": {},
   "source": [
    "I look for correlation in theft within each cluster."
   ]
  },
  {
   "cell_type": "code",
   "execution_count": 94,
   "metadata": {},
   "outputs": [
    {
     "data": {
      "text/plain": [
       "Chinese Restaurant    0.591608\n",
       "Nightclub             0.586009\n",
       "Sushi Restaurant      0.512823\n",
       "Hotel                 0.501739\n",
       "Hockey Arena          0.479157\n",
       "Name: THEFT, dtype: float64"
      ]
     },
     "execution_count": 94,
     "metadata": {},
     "output_type": "execute_result"
    }
   ],
   "source": [
    "np.abs(correlation_crime_0[\"THEFT\"][2:221]).sort_values(ascending=False)[:5] # The range[2:221] selects the venues"
   ]
  },
  {
   "cell_type": "code",
   "execution_count": 95,
   "metadata": {},
   "outputs": [
    {
     "data": {
      "text/plain": [
       "Donut Shop            0.875439\n",
       "Sandwich Place        0.782350\n",
       "Seafood Restaurant    0.648434\n",
       "Wings Joint           0.418216\n",
       "Mexican Restaurant    0.418216\n",
       "Name: THEFT, dtype: float64"
      ]
     },
     "execution_count": 95,
     "metadata": {},
     "output_type": "execute_result"
    }
   ],
   "source": [
    "np.abs(correlation_crime_1[\"THEFT\"][2:221]).sort_values(ascending=False)[:5]"
   ]
  },
  {
   "cell_type": "code",
   "execution_count": 96,
   "metadata": {},
   "outputs": [
    {
     "data": {
      "text/plain": [
       "Recreation Center     0.571772\n",
       "Park                  0.445132\n",
       "Athletics & Sports    0.371305\n",
       "BBQ Joint             0.369970\n",
       "Cuban Restaurant      0.369970\n",
       "Name: THEFT, dtype: float64"
      ]
     },
     "execution_count": 96,
     "metadata": {},
     "output_type": "execute_result"
    }
   ],
   "source": [
    "np.abs(correlation_crime_2[\"THEFT\"][2:221]).sort_values(ascending=False)[:5]"
   ]
  },
  {
   "cell_type": "code",
   "execution_count": 97,
   "metadata": {},
   "outputs": [
    {
     "data": {
      "text/plain": [
       "Pharmacy               0.570544\n",
       "Record Shop            0.453423\n",
       "Restaurant             0.427908\n",
       "Fried Chicken Joint    0.420071\n",
       "Gift Shop              0.312500\n",
       "Name: THEFT, dtype: float64"
      ]
     },
     "execution_count": 97,
     "metadata": {},
     "output_type": "execute_result"
    }
   ],
   "source": [
    "np.abs(correlation_crime_3[\"THEFT\"][2:221]).sort_values(ascending=False)[:5]"
   ]
  },
  {
   "cell_type": "markdown",
   "metadata": {},
   "source": [
    "I am going to create a heatmap for each cluster. In the heat map,  the \"y\" axis will be each of the most common crimes and the \"x\" axis will be venues in which a crime of the most common have a correltaion above 0.5 . For example in Theft in the cluster 0, there 4 venues with a correlation above 0.5 these venues will be added to the \"x\" axis. If there are no venues with a correlation above 0.5 only the venue with the highest correlation will be added. A maximum of 3 venues can be added per crime, this is done to have a small and easier to analyse heatmap. "
   ]
  },
  {
   "cell_type": "code",
   "execution_count": 98,
   "metadata": {},
   "outputs": [],
   "source": [
    "crimes_column=[\"THEFT\",\"BATTERY\",\"CRIMINAL DAMAGE\",\"NARCOTICS\",\"BURGLARY\",\"ASSAULT\",\"DECEPTIVE PRACTICE\"]"
   ]
  },
  {
   "cell_type": "markdown",
   "metadata": {},
   "source": [
    "## Cluster 0\n",
    "\n",
    "I write the \"x\" axis"
   ]
  },
  {
   "cell_type": "code",
   "execution_count": 152,
   "metadata": {},
   "outputs": [],
   "source": [
    "x_axis=[]\n",
    "maximum_per_crime=3\n",
    "for j in crimes_column:\n",
    "    common_venues=np.abs(correlation_crime_0[j][2:221]).sort_values(ascending=False)[:5].index\n",
    "    x_axis.append(common_venues[0])\n",
    "    for i in range(1,maximum_per_crime):\n",
    "        if np.abs(correlation_crime_0[j][2:221]).sort_values(ascending=False)[i]>0.5:\n",
    "            x_axis.append(common_venues[i])\n",
    "            \n",
    "#Eliminate all possible duplicates\n",
    "x_axis = list(set(x_axis))"
   ]
  },
  {
   "cell_type": "markdown",
   "metadata": {},
   "source": [
    "I create a Dataframe with 3 columns: most common crimes, venues in the list x_axis, and the absolute value of the correlations. A row in this frame will contain a crime, a venue and their correlation. Therefore for each crime there will be $n$ rows where $n$ is the number of venues in the x_axis.\n",
    "To create that type of columns I wrote the next function:"
   ]
  },
  {
   "cell_type": "code",
   "execution_count": 140,
   "metadata": {},
   "outputs": [],
   "source": [
    "def another_list_multiplication(old_list,number):\n",
    "    new_list=[old_list[0]]*number\n",
    "    length=len(old_list)\n",
    "    for i in range(1,length):\n",
    "        new_list=new_list+[old_list[i]]*number\n",
    "    return new_list"
   ]
  },
  {
   "cell_type": "markdown",
   "metadata": {},
   "source": [
    "An example of the last function"
   ]
  },
  {
   "cell_type": "code",
   "execution_count": 141,
   "metadata": {},
   "outputs": [
    {
     "data": {
      "text/plain": [
       "['perro', 'perro', 'gato', 'gato', 'pez', 'pez']"
      ]
     },
     "execution_count": 141,
     "metadata": {},
     "output_type": "execute_result"
    }
   ],
   "source": [
    "añgo=[\"perro\",\"gato\",\"pez\"]\n",
    "another_list_multiplication(añgo,2)"
   ]
  },
  {
   "cell_type": "code",
   "execution_count": 153,
   "metadata": {},
   "outputs": [],
   "source": [
    "column_crimes=another_list_multiplication(crimes_column,len(x_axis))\n",
    "column_venues=x_axis*len(crimes_column)\n",
    "#Correlation column\n",
    "column_correlation=np.zeros(len(column_venues))\n",
    "for i in range(len(column_venues)):\n",
    "    column_correlation[i]=np.abs(correlation_crime_0[column_crimes[i]][column_venues[i]])"
   ]
  },
  {
   "cell_type": "code",
   "execution_count": 154,
   "metadata": {},
   "outputs": [],
   "source": [
    "heatmap_crimes_venues_0=pd.DataFrame({\"Crime\":column_crimes,\"Venues\":column_venues,\"Correlations\":column_correlation})"
   ]
  },
  {
   "cell_type": "code",
   "execution_count": 155,
   "metadata": {},
   "outputs": [],
   "source": [
    "heatmap_crimes_venues_0=heatmap_crimes_venues_0.pivot(\"Crime\",\"Venues\",\"Correlations\")"
   ]
  },
  {
   "cell_type": "code",
   "execution_count": 156,
   "metadata": {},
   "outputs": [
    {
     "data": {
      "text/html": [
       "<div>\n",
       "<style scoped>\n",
       "    .dataframe tbody tr th:only-of-type {\n",
       "        vertical-align: middle;\n",
       "    }\n",
       "\n",
       "    .dataframe tbody tr th {\n",
       "        vertical-align: top;\n",
       "    }\n",
       "\n",
       "    .dataframe thead th {\n",
       "        text-align: right;\n",
       "    }\n",
       "</style>\n",
       "<table border=\"1\" class=\"dataframe\">\n",
       "  <thead>\n",
       "    <tr style=\"text-align: right;\">\n",
       "      <th>Venues</th>\n",
       "      <th>Boutique</th>\n",
       "      <th>Brewery</th>\n",
       "      <th>Burrito Place</th>\n",
       "      <th>Chinese Restaurant</th>\n",
       "      <th>Clothing Store</th>\n",
       "      <th>Dive Bar</th>\n",
       "      <th>Food &amp; Drink Shop</th>\n",
       "      <th>General Entertainment</th>\n",
       "      <th>German Restaurant</th>\n",
       "      <th>Japanese Restaurant</th>\n",
       "      <th>Library</th>\n",
       "      <th>Nightclub</th>\n",
       "      <th>North Indian Restaurant</th>\n",
       "      <th>Spa</th>\n",
       "      <th>Sushi Restaurant</th>\n",
       "      <th>Tattoo Parlor</th>\n",
       "      <th>Train Station</th>\n",
       "      <th>Wings Joint</th>\n",
       "    </tr>\n",
       "    <tr>\n",
       "      <th>Crime</th>\n",
       "      <th></th>\n",
       "      <th></th>\n",
       "      <th></th>\n",
       "      <th></th>\n",
       "      <th></th>\n",
       "      <th></th>\n",
       "      <th></th>\n",
       "      <th></th>\n",
       "      <th></th>\n",
       "      <th></th>\n",
       "      <th></th>\n",
       "      <th></th>\n",
       "      <th></th>\n",
       "      <th></th>\n",
       "      <th></th>\n",
       "      <th></th>\n",
       "      <th></th>\n",
       "      <th></th>\n",
       "    </tr>\n",
       "  </thead>\n",
       "  <tbody>\n",
       "    <tr>\n",
       "      <th>ASSAULT</th>\n",
       "      <td>0.263822</td>\n",
       "      <td>0.236525</td>\n",
       "      <td>0.161165</td>\n",
       "      <td>0.426401</td>\n",
       "      <td>0.168550</td>\n",
       "      <td>0.280400</td>\n",
       "      <td>0.236525</td>\n",
       "      <td>0.161165</td>\n",
       "      <td>0.301511</td>\n",
       "      <td>0.289061</td>\n",
       "      <td>0.443203</td>\n",
       "      <td>0.650444</td>\n",
       "      <td>0.161165</td>\n",
       "      <td>0.345425</td>\n",
       "      <td>0.359350</td>\n",
       "      <td>0.161165</td>\n",
       "      <td>0.508225</td>\n",
       "      <td>0.161165</td>\n",
       "    </tr>\n",
       "    <tr>\n",
       "      <th>BATTERY</th>\n",
       "      <td>0.200446</td>\n",
       "      <td>0.026207</td>\n",
       "      <td>0.285714</td>\n",
       "      <td>0.519701</td>\n",
       "      <td>0.149404</td>\n",
       "      <td>0.147575</td>\n",
       "      <td>0.026207</td>\n",
       "      <td>0.250000</td>\n",
       "      <td>0.367484</td>\n",
       "      <td>0.640563</td>\n",
       "      <td>0.285714</td>\n",
       "      <td>0.615867</td>\n",
       "      <td>0.285714</td>\n",
       "      <td>0.699854</td>\n",
       "      <td>0.031853</td>\n",
       "      <td>0.250000</td>\n",
       "      <td>0.264082</td>\n",
       "      <td>0.250000</td>\n",
       "    </tr>\n",
       "    <tr>\n",
       "      <th>BURGLARY</th>\n",
       "      <td>0.049029</td>\n",
       "      <td>0.423077</td>\n",
       "      <td>0.681385</td>\n",
       "      <td>0.277350</td>\n",
       "      <td>0.109632</td>\n",
       "      <td>0.501557</td>\n",
       "      <td>0.423077</td>\n",
       "      <td>0.104828</td>\n",
       "      <td>0.784465</td>\n",
       "      <td>0.300828</td>\n",
       "      <td>0.104828</td>\n",
       "      <td>0.153846</td>\n",
       "      <td>0.681385</td>\n",
       "      <td>0.385164</td>\n",
       "      <td>0.186989</td>\n",
       "      <td>0.104828</td>\n",
       "      <td>0.159586</td>\n",
       "      <td>0.104828</td>\n",
       "    </tr>\n",
       "    <tr>\n",
       "      <th>CRIMINAL DAMAGE</th>\n",
       "      <td>0.334728</td>\n",
       "      <td>0.825258</td>\n",
       "      <td>0.204479</td>\n",
       "      <td>0.135250</td>\n",
       "      <td>0.320775</td>\n",
       "      <td>0.755991</td>\n",
       "      <td>0.825258</td>\n",
       "      <td>0.204479</td>\n",
       "      <td>0.255031</td>\n",
       "      <td>0.513449</td>\n",
       "      <td>0.051120</td>\n",
       "      <td>0.112535</td>\n",
       "      <td>0.204479</td>\n",
       "      <td>0.333914</td>\n",
       "      <td>0.091186</td>\n",
       "      <td>0.204479</td>\n",
       "      <td>0.355761</td>\n",
       "      <td>0.204479</td>\n",
       "    </tr>\n",
       "    <tr>\n",
       "      <th>DECEPTIVE PRACTICE</th>\n",
       "      <td>0.719569</td>\n",
       "      <td>0.291343</td>\n",
       "      <td>0.173702</td>\n",
       "      <td>0.262613</td>\n",
       "      <td>0.570938</td>\n",
       "      <td>0.345386</td>\n",
       "      <td>0.291343</td>\n",
       "      <td>0.173702</td>\n",
       "      <td>0.139272</td>\n",
       "      <td>0.498476</td>\n",
       "      <td>0.570735</td>\n",
       "      <td>0.018209</td>\n",
       "      <td>0.173702</td>\n",
       "      <td>0.486265</td>\n",
       "      <td>0.221317</td>\n",
       "      <td>0.173702</td>\n",
       "      <td>0.302213</td>\n",
       "      <td>0.173702</td>\n",
       "    </tr>\n",
       "  </tbody>\n",
       "</table>\n",
       "</div>"
      ],
      "text/plain": [
       "Venues              Boutique   Brewery  Burrito Place  Chinese Restaurant  \\\n",
       "Crime                                                                       \n",
       "ASSAULT             0.263822  0.236525       0.161165            0.426401   \n",
       "BATTERY             0.200446  0.026207       0.285714            0.519701   \n",
       "BURGLARY            0.049029  0.423077       0.681385            0.277350   \n",
       "CRIMINAL DAMAGE     0.334728  0.825258       0.204479            0.135250   \n",
       "DECEPTIVE PRACTICE  0.719569  0.291343       0.173702            0.262613   \n",
       "\n",
       "Venues              Clothing Store  Dive Bar  Food & Drink Shop  \\\n",
       "Crime                                                             \n",
       "ASSAULT                   0.168550  0.280400           0.236525   \n",
       "BATTERY                   0.149404  0.147575           0.026207   \n",
       "BURGLARY                  0.109632  0.501557           0.423077   \n",
       "CRIMINAL DAMAGE           0.320775  0.755991           0.825258   \n",
       "DECEPTIVE PRACTICE        0.570938  0.345386           0.291343   \n",
       "\n",
       "Venues              General Entertainment  German Restaurant  \\\n",
       "Crime                                                          \n",
       "ASSAULT                          0.161165           0.301511   \n",
       "BATTERY                          0.250000           0.367484   \n",
       "BURGLARY                         0.104828           0.784465   \n",
       "CRIMINAL DAMAGE                  0.204479           0.255031   \n",
       "DECEPTIVE PRACTICE               0.173702           0.139272   \n",
       "\n",
       "Venues              Japanese Restaurant   Library  Nightclub  \\\n",
       "Crime                                                          \n",
       "ASSAULT                        0.289061  0.443203   0.650444   \n",
       "BATTERY                        0.640563  0.285714   0.615867   \n",
       "BURGLARY                       0.300828  0.104828   0.153846   \n",
       "CRIMINAL DAMAGE                0.513449  0.051120   0.112535   \n",
       "DECEPTIVE PRACTICE             0.498476  0.570735   0.018209   \n",
       "\n",
       "Venues              North Indian Restaurant       Spa  Sushi Restaurant  \\\n",
       "Crime                                                                     \n",
       "ASSAULT                            0.161165  0.345425          0.359350   \n",
       "BATTERY                            0.285714  0.699854          0.031853   \n",
       "BURGLARY                           0.681385  0.385164          0.186989   \n",
       "CRIMINAL DAMAGE                    0.204479  0.333914          0.091186   \n",
       "DECEPTIVE PRACTICE                 0.173702  0.486265          0.221317   \n",
       "\n",
       "Venues              Tattoo Parlor  Train Station  Wings Joint  \n",
       "Crime                                                          \n",
       "ASSAULT                  0.161165       0.508225     0.161165  \n",
       "BATTERY                  0.250000       0.264082     0.250000  \n",
       "BURGLARY                 0.104828       0.159586     0.104828  \n",
       "CRIMINAL DAMAGE          0.204479       0.355761     0.204479  \n",
       "DECEPTIVE PRACTICE       0.173702       0.302213     0.173702  "
      ]
     },
     "execution_count": 156,
     "metadata": {},
     "output_type": "execute_result"
    }
   ],
   "source": [
    "heatmap_crimes_venues_0.head()"
   ]
  },
  {
   "cell_type": "code",
   "execution_count": 172,
   "metadata": {},
   "outputs": [
    {
     "data": {
      "image/png": "[encoded data removed]",
      "text/plain": [
       "<Figure size 1440x720 with 2 Axes>"
      ]
     },
     "metadata": {
      "needs_background": "light"
     },
     "output_type": "display_data"
    }
   ],
   "source": [
    "fig=plt.figure(figsize=(20,10))\n",
    "sns.heatmap(heatmap_crimes_venues_0, cmap=\"seismic\")\n",
    "plt.title(\"Correlation in cluster 0\")\n",
    "plt.savefig(\"Heatmap_cluster_0.png\")\n",
    "plt.show()"
   ]
  },
  {
   "cell_type": "markdown",
   "metadata": {},
   "source": [
    "In the next clusters I only use the previous code.\n",
    "\n",
    "## Cluster 1"
   ]
  },
  {
   "cell_type": "code",
   "execution_count": 164,
   "metadata": {},
   "outputs": [],
   "source": [
    "x_axis_1=[]\n",
    "maximum_per_crime=3\n",
    "for j in crimes_column:\n",
    "    common_venues=np.abs(correlation_crime_1[j][2:221]).sort_values(ascending=False)[:5].index\n",
    "    x_axis_1.append(common_venues[0])\n",
    "    for i in range(1,maximum_per_crime):\n",
    "        if np.abs(correlation_crime_1[j][2:221]).sort_values(ascending=False)[i]>0.5:\n",
    "            x_axis_1.append(common_venues[i])\n",
    "            \n",
    "#Eliminate all possible duplicates\n",
    "x_axis_1 = list(set(x_axis_1))\n",
    "column_crimes_1=another_list_multiplication(crimes_column,len(x_axis_1))\n",
    "column_venues_1=x_axis_1*len(crimes_column)\n",
    "#Correlation column\n",
    "column_correlation_1=np.zeros(len(column_venues_1))\n",
    "for i in range(len(column_venues_1)):\n",
    "    column_correlation_1[i]=np.abs(correlation_crime_1[column_crimes_1[i]][column_venues_1[i]])\n",
    "    \n",
    "heatmap_crimes_venues_1=pd.DataFrame({\"Crime\":column_crimes_1,\"Venues\":column_venues_1,\"Correlations\":column_correlation_1})\n",
    "heatmap_crimes_venues_1=heatmap_crimes_venues_1.pivot(\"Crime\",\"Venues\",\"Correlations\")"
   ]
  },
  {
   "cell_type": "code",
   "execution_count": 173,
   "metadata": {},
   "outputs": [
    {
     "data": {
      "image/png": "[encoded data removed]",
      "text/plain": [
       "<Figure size 1440x720 with 2 Axes>"
      ]
     },
     "metadata": {
      "needs_background": "light"
     },
     "output_type": "display_data"
    }
   ],
   "source": [
    "fig=plt.figure(figsize=(20,10))\n",
    "sns.heatmap(heatmap_crimes_venues_1, cmap=\"seismic\")\n",
    "plt.title(\"Correlation in cluster 1\")\n",
    "plt.savefig(\"Heatmap_cluster_1.png\")\n",
    "plt.show()"
   ]
  },
  {
   "cell_type": "code",
   "execution_count": 166,
   "metadata": {},
   "outputs": [
    {
     "data": {
      "text/html": [
       "<div>\n",
       "<style scoped>\n",
       "    .dataframe tbody tr th:only-of-type {\n",
       "        vertical-align: middle;\n",
       "    }\n",
       "\n",
       "    .dataframe tbody tr th {\n",
       "        vertical-align: top;\n",
       "    }\n",
       "\n",
       "    .dataframe thead th {\n",
       "        text-align: right;\n",
       "    }\n",
       "</style>\n",
       "<table border=\"1\" class=\"dataframe\">\n",
       "  <thead>\n",
       "    <tr style=\"text-align: right;\">\n",
       "      <th>Venues</th>\n",
       "      <th>Bar</th>\n",
       "      <th>Donut Shop</th>\n",
       "      <th>Mexican Restaurant</th>\n",
       "      <th>Sandwich Place</th>\n",
       "      <th>Seafood Restaurant</th>\n",
       "      <th>Video Store</th>\n",
       "      <th>Wings Joint</th>\n",
       "    </tr>\n",
       "    <tr>\n",
       "      <th>Crime</th>\n",
       "      <th></th>\n",
       "      <th></th>\n",
       "      <th></th>\n",
       "      <th></th>\n",
       "      <th></th>\n",
       "      <th></th>\n",
       "      <th></th>\n",
       "    </tr>\n",
       "  </thead>\n",
       "  <tbody>\n",
       "    <tr>\n",
       "      <th>ASSAULT</th>\n",
       "      <td>0.000000</td>\n",
       "      <td>0.818895</td>\n",
       "      <td>0.562731</td>\n",
       "      <td>0.513701</td>\n",
       "      <td>0.513701</td>\n",
       "      <td>1.515259e-17</td>\n",
       "      <td>0.562731</td>\n",
       "    </tr>\n",
       "    <tr>\n",
       "      <th>BATTERY</th>\n",
       "      <td>0.222396</td>\n",
       "      <td>0.708652</td>\n",
       "      <td>0.191682</td>\n",
       "      <td>0.366040</td>\n",
       "      <td>0.527779</td>\n",
       "      <td>1.507771e-01</td>\n",
       "      <td>0.191682</td>\n",
       "    </tr>\n",
       "    <tr>\n",
       "      <th>BURGLARY</th>\n",
       "      <td>0.125711</td>\n",
       "      <td>0.722840</td>\n",
       "      <td>0.359945</td>\n",
       "      <td>0.488932</td>\n",
       "      <td>0.638766</td>\n",
       "      <td>7.333160e-02</td>\n",
       "      <td>0.359945</td>\n",
       "    </tr>\n",
       "    <tr>\n",
       "      <th>CRIMINAL DAMAGE</th>\n",
       "      <td>0.094229</td>\n",
       "      <td>0.318021</td>\n",
       "      <td>0.064752</td>\n",
       "      <td>0.647261</td>\n",
       "      <td>0.141865</td>\n",
       "      <td>1.295643e-01</td>\n",
       "      <td>0.064752</td>\n",
       "    </tr>\n",
       "    <tr>\n",
       "      <th>DECEPTIVE PRACTICE</th>\n",
       "      <td>0.519719</td>\n",
       "      <td>0.190564</td>\n",
       "      <td>0.095238</td>\n",
       "      <td>0.039123</td>\n",
       "      <td>0.039123</td>\n",
       "      <td>5.197192e-01</td>\n",
       "      <td>0.095238</td>\n",
       "    </tr>\n",
       "  </tbody>\n",
       "</table>\n",
       "</div>"
      ],
      "text/plain": [
       "Venues                   Bar  Donut Shop  Mexican Restaurant  Sandwich Place  \\\n",
       "Crime                                                                          \n",
       "ASSAULT             0.000000    0.818895            0.562731        0.513701   \n",
       "BATTERY             0.222396    0.708652            0.191682        0.366040   \n",
       "BURGLARY            0.125711    0.722840            0.359945        0.488932   \n",
       "CRIMINAL DAMAGE     0.094229    0.318021            0.064752        0.647261   \n",
       "DECEPTIVE PRACTICE  0.519719    0.190564            0.095238        0.039123   \n",
       "\n",
       "Venues              Seafood Restaurant   Video Store  Wings Joint  \n",
       "Crime                                                              \n",
       "ASSAULT                       0.513701  1.515259e-17     0.562731  \n",
       "BATTERY                       0.527779  1.507771e-01     0.191682  \n",
       "BURGLARY                      0.638766  7.333160e-02     0.359945  \n",
       "CRIMINAL DAMAGE               0.141865  1.295643e-01     0.064752  \n",
       "DECEPTIVE PRACTICE            0.039123  5.197192e-01     0.095238  "
      ]
     },
     "execution_count": 166,
     "metadata": {},
     "output_type": "execute_result"
    }
   ],
   "source": [
    "heatmap_crimes_venues_1.head()"
   ]
  },
  {
   "cell_type": "markdown",
   "metadata": {},
   "source": [
    "## Cluster 2"
   ]
  },
  {
   "cell_type": "code",
   "execution_count": 167,
   "metadata": {},
   "outputs": [],
   "source": [
    "x_axis_2=[]\n",
    "maximum_per_crime=3\n",
    "for j in crimes_column:\n",
    "    common_venues=np.abs(correlation_crime_2[j][2:221]).sort_values(ascending=False)[:5].index\n",
    "    x_axis_2.append(common_venues[0])\n",
    "    for i in range(1,maximum_per_crime):\n",
    "        if np.abs(correlation_crime_2[j][2:221]).sort_values(ascending=False)[i]>0.5:\n",
    "            x_axis_2.append(common_venues[i])\n",
    "            \n",
    "#Eliminate all possible duplicates\n",
    "x_axis_2 = list(set(x_axis_2))\n",
    "column_crimes_2=another_list_multiplication(crimes_column,len(x_axis_2))\n",
    "column_venues_2=x_axis_2*len(crimes_column)\n",
    "#Correlation column\n",
    "column_correlation_2=np.zeros(len(column_venues_2))\n",
    "for i in range(len(column_venues_2)):\n",
    "    column_correlation_2[i]=np.abs(correlation_crime_2[column_crimes_2[i]][column_venues_2[i]])\n",
    "    \n",
    "heatmap_crimes_venues_2=pd.DataFrame({\"Crime\":column_crimes_2,\"Venues\":column_venues_2,\"Correlations\":column_correlation_2})\n",
    "heatmap_crimes_venues_2=heatmap_crimes_venues_2.pivot(\"Crime\",\"Venues\",\"Correlations\")"
   ]
  },
  {
   "cell_type": "code",
   "execution_count": 174,
   "metadata": {},
   "outputs": [
    {
     "data": {
      "image/png": "[encoded data removed]",
      "text/plain": [
       "<Figure size 1440x720 with 2 Axes>"
      ]
     },
     "metadata": {
      "needs_background": "light"
     },
     "output_type": "display_data"
    }
   ],
   "source": [
    "fig=plt.figure(figsize=(20,10))\n",
    "sns.heatmap(heatmap_crimes_venues_2, cmap=\"seismic\")\n",
    "plt.title(\"Correlation in cluster 2\")\n",
    "plt.savefig(\"Heatmap_cluster_2.png\")\n",
    "plt.show()"
   ]
  },
  {
   "cell_type": "markdown",
   "metadata": {},
   "source": [
    "## Cluster 3"
   ]
  },
  {
   "cell_type": "code",
   "execution_count": 169,
   "metadata": {},
   "outputs": [],
   "source": [
    "x_axis_3=[]\n",
    "maximum_per_crime=3\n",
    "for j in crimes_column:\n",
    "    common_venues=np.abs(correlation_crime_3[j][2:221]).sort_values(ascending=False)[:5].index\n",
    "    x_axis_3.append(common_venues[0])\n",
    "    for i in range(1,maximum_per_crime):\n",
    "        if np.abs(correlation_crime_3[j][2:221]).sort_values(ascending=False)[i]>0.5:\n",
    "            x_axis_3.append(common_venues[i])\n",
    "            \n",
    "#Eliminate all possible duplicates\n",
    "x_axis_3 = list(set(x_axis_3))\n",
    "column_crimes_3=another_list_multiplication(crimes_column,len(x_axis_3))\n",
    "column_venues_3=x_axis_3*len(crimes_column)\n",
    "#Correlation column\n",
    "column_correlation_3=np.zeros(len(column_venues_3))\n",
    "for i in range(len(column_venues_3)):\n",
    "    column_correlation_3[i]=np.abs(correlation_crime_3[column_crimes_3[i]][column_venues_3[i]])\n",
    "    \n",
    "heatmap_crimes_venues_3=pd.DataFrame({\"Crime\":column_crimes_3,\"Venues\":column_venues_3,\"Correlations\":column_correlation_3})\n",
    "heatmap_crimes_venues_3=heatmap_crimes_venues_3.pivot(\"Crime\",\"Venues\",\"Correlations\")"
   ]
  },
  {
   "cell_type": "code",
   "execution_count": 175,
   "metadata": {},
   "outputs": [
    {
     "data": {
      "image/png": "[encoded data removed]",
      "text/plain": [
       "<Figure size 1440x720 with 2 Axes>"
      ]
     },
     "metadata": {
      "needs_background": "light"
     },
     "output_type": "display_data"
    }
   ],
   "source": [
    "fig=plt.figure(figsize=(20,10))\n",
    "sns.heatmap(heatmap_crimes_venues_3, cmap=\"seismic\")\n",
    "plt.title(\"Correlation in cluster 3\")\n",
    "plt.savefig(\"Heatmap_cluster_3.png\")\n",
    "plt.show()"
   ]
  },
  {
   "cell_type": "code",
   "execution_count": null,
   "metadata": {},
   "outputs": [],
   "source": []
  }
 ],
 "metadata": {
  "kernelspec": {
   "display_name": "Python 3",
   "language": "python",
   "name": "python3"
  },
  "language_info": {
   "codemirror_mode": {
    "name": "ipython",
    "version": 3
   },
   "file_extension": ".py",
   "mimetype": "text/x-python",
   "name": "python",
   "nbconvert_exporter": "python",
   "pygments_lexer": "ipython3",
   "version": "3.7.1"
  }
 },
 "nbformat": 4,
 "nbformat_minor": 2
}
