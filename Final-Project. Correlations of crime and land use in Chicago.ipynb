{
 "cells": [
  {
   "cell_type": "markdown",
   "metadata": {},
   "source": [
    "# Correlations of crime and land use in Chicago\n",
    "\n",
    "# Capstone project IBM Data Science\n",
    "\n",
    "I would explore the correlations between the amount and types of crimes committed in a community area and the venues located there.  \n",
    "\n",
    "The relations between crime and socioeconomic conditions are unclear. Often there are contradictory reports on whether difficult economic conditions create more crime or whether a booming economy that increases the availability of money and goods promotes crime. Nevertheless, it is important to do not dismiss possible connections between the economy and crime. In this project, I will try to find if the crimes committed in community areas with similar socioeconomic have a relation with the land use. For example, let's suppose that  A and B are community areas with similar economic conditions, but area A is much safer than area B. I want to see if the types of venues in area A are similar to those in area B. If they are not similar, then study what types of venues are present in the safer environment.  The venues could be parks, liquor shops, restaurants among others. \n",
    "\n",
    "Also, venues that reduce crime in one type of area do not necessarily affect crime in other types of areas.  One hypothesis here is that parks can be that kind of venue. In areas with a high rate of crime, social interactions can induce people to become criminals. Parks promote social interaction.  Therefore parks there contribute to crime. On the other hand, parks will not affect crime in areas with low rate crime. \n",
    "\n",
    "This project could help policymakers to design safer neighborhoods by building or closing venues to reduce crime. "
   ]
  },
  {
   "cell_type": "markdown",
   "metadata": {},
   "source": [
    "# Data\n",
    "\n",
    "To reduce the effects of variables not considered in this project I will only compare neighborhoods in the same city.  Due to the availability of the data, I choose Chicago. The datasets of the crime and economic status of the neighborhoods in Chicago were already given in previous courses of this certification.   "
   ]
  },
  {
   "cell_type": "code",
   "execution_count": 1,
   "metadata": {},
   "outputs": [],
   "source": [
    "import csv\n",
    "import pandas as pd\n",
    "\n",
    "import json # library to handle JSON files\n",
    "\n",
    "from geopy.geocoders import Nominatim # convert an address into latitude and longitude values\n",
    "\n",
    "import requests # library to handle requests\n",
    "from pandas.io.json import json_normalize # tranform JSON file into a pandas dataframe\n",
    "\n",
    "# Matplotlib and associated plotting modules\n",
    "import matplotlib.cm as cm\n",
    "import matplotlib.colors as colors\n",
    "\n",
    "# import k-means from clustering stage\n",
    "from sklearn.cluster import KMeans\n",
    "\n",
    "\n",
    "import folium # map rendering library\n",
    "import numpy as np\n",
    "import matplotlib.pyplot as plt\n",
    "import seaborn as sns"
   ]
  },
  {
   "cell_type": "code",
   "execution_count": 2,
   "metadata": {},
   "outputs": [
    {
     "data": {
      "text/html": [
       "<div>\n",
       "<style scoped>\n",
       "    .dataframe tbody tr th:only-of-type {\n",
       "        vertical-align: middle;\n",
       "    }\n",
       "\n",
       "    .dataframe tbody tr th {\n",
       "        vertical-align: top;\n",
       "    }\n",
       "\n",
       "    .dataframe thead th {\n",
       "        text-align: right;\n",
       "    }\n",
       "</style>\n",
       "<table border=\"1\" class=\"dataframe\">\n",
       "  <thead>\n",
       "    <tr style=\"text-align: right;\">\n",
       "      <th></th>\n",
       "      <th>COMMUNITY_AREA_NUMBER</th>\n",
       "      <th>COMMUNITY_AREA_NAME</th>\n",
       "      <th>PERCENT OF HOUSING CROWDED</th>\n",
       "      <th>PERCENT HOUSEHOLDS BELOW POVERTY</th>\n",
       "      <th>PERCENT AGED 16+ UNEMPLOYED</th>\n",
       "      <th>PERCENT AGED 25+ WITHOUT HIGH SCHOOL DIPLOMA</th>\n",
       "      <th>PERCENT AGED UNDER 18 OR OVER 64</th>\n",
       "      <th>PER_CAPITA_INCOME</th>\n",
       "      <th>HARDSHIP_INDEX</th>\n",
       "    </tr>\n",
       "  </thead>\n",
       "  <tbody>\n",
       "    <tr>\n",
       "      <th>73</th>\n",
       "      <td>74.0</td>\n",
       "      <td>Mount Greenwood</td>\n",
       "      <td>1.0</td>\n",
       "      <td>3.4</td>\n",
       "      <td>8.7</td>\n",
       "      <td>4.3</td>\n",
       "      <td>36.8</td>\n",
       "      <td>34381</td>\n",
       "      <td>16.0</td>\n",
       "    </tr>\n",
       "    <tr>\n",
       "      <th>74</th>\n",
       "      <td>75.0</td>\n",
       "      <td>Morgan Park</td>\n",
       "      <td>0.8</td>\n",
       "      <td>13.2</td>\n",
       "      <td>15.0</td>\n",
       "      <td>10.8</td>\n",
       "      <td>40.3</td>\n",
       "      <td>27149</td>\n",
       "      <td>30.0</td>\n",
       "    </tr>\n",
       "    <tr>\n",
       "      <th>75</th>\n",
       "      <td>76.0</td>\n",
       "      <td>O'Hare</td>\n",
       "      <td>3.6</td>\n",
       "      <td>15.4</td>\n",
       "      <td>7.1</td>\n",
       "      <td>10.9</td>\n",
       "      <td>30.3</td>\n",
       "      <td>25828</td>\n",
       "      <td>24.0</td>\n",
       "    </tr>\n",
       "    <tr>\n",
       "      <th>76</th>\n",
       "      <td>77.0</td>\n",
       "      <td>Edgewater</td>\n",
       "      <td>4.1</td>\n",
       "      <td>18.2</td>\n",
       "      <td>9.2</td>\n",
       "      <td>9.7</td>\n",
       "      <td>23.8</td>\n",
       "      <td>33385</td>\n",
       "      <td>19.0</td>\n",
       "    </tr>\n",
       "    <tr>\n",
       "      <th>77</th>\n",
       "      <td>NaN</td>\n",
       "      <td>CHICAGO</td>\n",
       "      <td>4.7</td>\n",
       "      <td>19.7</td>\n",
       "      <td>12.9</td>\n",
       "      <td>19.5</td>\n",
       "      <td>33.5</td>\n",
       "      <td>28202</td>\n",
       "      <td>NaN</td>\n",
       "    </tr>\n",
       "  </tbody>\n",
       "</table>\n",
       "</div>"
      ],
      "text/plain": [
       "    COMMUNITY_AREA_NUMBER COMMUNITY_AREA_NAME  PERCENT OF HOUSING CROWDED  \\\n",
       "73                   74.0     Mount Greenwood                         1.0   \n",
       "74                   75.0         Morgan Park                         0.8   \n",
       "75                   76.0              O'Hare                         3.6   \n",
       "76                   77.0           Edgewater                         4.1   \n",
       "77                    NaN             CHICAGO                         4.7   \n",
       "\n",
       "    PERCENT HOUSEHOLDS BELOW POVERTY  PERCENT AGED 16+ UNEMPLOYED  \\\n",
       "73                               3.4                          8.7   \n",
       "74                              13.2                         15.0   \n",
       "75                              15.4                          7.1   \n",
       "76                              18.2                          9.2   \n",
       "77                              19.7                         12.9   \n",
       "\n",
       "    PERCENT AGED 25+ WITHOUT HIGH SCHOOL DIPLOMA  \\\n",
       "73                                           4.3   \n",
       "74                                          10.8   \n",
       "75                                          10.9   \n",
       "76                                           9.7   \n",
       "77                                          19.5   \n",
       "\n",
       "    PERCENT AGED UNDER 18 OR OVER 64  PER_CAPITA_INCOME   HARDSHIP_INDEX  \n",
       "73                              36.8               34381            16.0  \n",
       "74                              40.3               27149            30.0  \n",
       "75                              30.3               25828            24.0  \n",
       "76                              23.8               33385            19.0  \n",
       "77                              33.5               28202             NaN  "
      ]
     },
     "execution_count": 2,
     "metadata": {},
     "output_type": "execute_result"
    }
   ],
   "source": [
    "economic_data = pd.read_csv(\"Census_Data_Selected_socioeconomic_indicators_in_Chicago__2008___2012.csv\")\n",
    "economic_data.tail(5)"
   ]
  },
  {
   "cell_type": "markdown",
   "metadata": {},
   "source": [
    "This dataset contain 9 parameters. I will only describe the ones that are not clear. \n",
    "\n",
    "**Percent of housing crowded**: Percentage of houses with more people than rooms.\n",
    "\n",
    "**Percent households below poverty**: Percentage of houses with an income less than the federal poverty level. In 2012 it was an income of 23 050 for a family of 4.\n",
    "\n",
    "**Hardship index**: It is an score that combines the 6 socioeconomic indicators in this dataset.\n",
    "\n",
    "I plan to cluster the data set, to obtain similar socieconomic community areas."
   ]
  },
  {
   "cell_type": "code",
   "execution_count": 3,
   "metadata": {},
   "outputs": [
    {
     "data": {
      "text/html": [
       "<div>\n",
       "<style scoped>\n",
       "    .dataframe tbody tr th:only-of-type {\n",
       "        vertical-align: middle;\n",
       "    }\n",
       "\n",
       "    .dataframe tbody tr th {\n",
       "        vertical-align: top;\n",
       "    }\n",
       "\n",
       "    .dataframe thead th {\n",
       "        text-align: right;\n",
       "    }\n",
       "</style>\n",
       "<table border=\"1\" class=\"dataframe\">\n",
       "  <thead>\n",
       "    <tr style=\"text-align: right;\">\n",
       "      <th></th>\n",
       "      <th>ID</th>\n",
       "      <th>PRIMARY_TYPE</th>\n",
       "      <th>DESCRIPTION</th>\n",
       "      <th>LOCATION_DESCRIPTION</th>\n",
       "      <th>ARREST</th>\n",
       "      <th>DOMESTIC</th>\n",
       "      <th>COMMUNITY_AREA_NUMBER</th>\n",
       "      <th>FBICODE</th>\n",
       "      <th>LATITUDE</th>\n",
       "      <th>LONGITUDE</th>\n",
       "    </tr>\n",
       "  </thead>\n",
       "  <tbody>\n",
       "    <tr>\n",
       "      <th>0</th>\n",
       "      <td>3512276</td>\n",
       "      <td>THEFT</td>\n",
       "      <td>FROM BUILDING</td>\n",
       "      <td>SMALL RETAIL STORE</td>\n",
       "      <td>False</td>\n",
       "      <td>False</td>\n",
       "      <td>58.0</td>\n",
       "      <td>6</td>\n",
       "      <td>41.807441</td>\n",
       "      <td>-87.703956</td>\n",
       "    </tr>\n",
       "    <tr>\n",
       "      <th>1</th>\n",
       "      <td>3406613</td>\n",
       "      <td>THEFT</td>\n",
       "      <td>$500 AND UNDER</td>\n",
       "      <td>OTHER</td>\n",
       "      <td>False</td>\n",
       "      <td>False</td>\n",
       "      <td>23.0</td>\n",
       "      <td>6</td>\n",
       "      <td>41.898280</td>\n",
       "      <td>-87.716406</td>\n",
       "    </tr>\n",
       "  </tbody>\n",
       "</table>\n",
       "</div>"
      ],
      "text/plain": [
       "        ID PRIMARY_TYPE     DESCRIPTION LOCATION_DESCRIPTION  ARREST  \\\n",
       "0  3512276        THEFT   FROM BUILDING   SMALL RETAIL STORE   False   \n",
       "1  3406613        THEFT  $500 AND UNDER                OTHER   False   \n",
       "\n",
       "   DOMESTIC  COMMUNITY_AREA_NUMBER FBICODE   LATITUDE  LONGITUDE  \n",
       "0     False                   58.0       6  41.807441 -87.703956  \n",
       "1     False                   23.0       6  41.898280 -87.716406  "
      ]
     },
     "execution_count": 3,
     "metadata": {},
     "output_type": "execute_result"
    }
   ],
   "source": [
    "crime_data=pd.read_csv(\"Chicago_Crime_Data.csv\")\n",
    "crime_data=crime_data.drop([\"CASE_NUMBER\",\"DATE\",\"BLOCK\",\"IUCR\",\"BEAT\",\"DISTRICT\",\"WARD\",\"X_COORDINATE\",\"Y_COORDINATE\",\"YEAR\",\"UPDATEDON\",\"LOCATION\"], axis=1)\n",
    "crime_data.head(2)"
   ]
  },
  {
   "cell_type": "markdown",
   "metadata": {},
   "source": [
    "I only left the relevent information to project. That is the crimes, the types of crimes and their location. The **FBICODE** is a classification of crimes."
   ]
  },
  {
   "cell_type": "markdown",
   "metadata": {},
   "source": [
    "## Venues in a community area\n",
    "\n",
    "To obtain the venues in an area, I need the location of the area. I will take the locaction of an area as the average location of the crimes within that area. "
   ]
  },
  {
   "cell_type": "code",
   "execution_count": 4,
   "metadata": {},
   "outputs": [
    {
     "data": {
      "text/html": [
       "<div>\n",
       "<style scoped>\n",
       "    .dataframe tbody tr th:only-of-type {\n",
       "        vertical-align: middle;\n",
       "    }\n",
       "\n",
       "    .dataframe tbody tr th {\n",
       "        vertical-align: top;\n",
       "    }\n",
       "\n",
       "    .dataframe thead th {\n",
       "        text-align: right;\n",
       "    }\n",
       "</style>\n",
       "<table border=\"1\" class=\"dataframe\">\n",
       "  <thead>\n",
       "    <tr style=\"text-align: right;\">\n",
       "      <th></th>\n",
       "      <th>LATITUDE</th>\n",
       "      <th>LONGITUDE</th>\n",
       "    </tr>\n",
       "    <tr>\n",
       "      <th>COMMUNITY_AREA_NUMBER</th>\n",
       "      <th></th>\n",
       "      <th></th>\n",
       "    </tr>\n",
       "  </thead>\n",
       "  <tbody>\n",
       "    <tr>\n",
       "      <th>1.0</th>\n",
       "      <td>42.013645</td>\n",
       "      <td>-87.673434</td>\n",
       "    </tr>\n",
       "    <tr>\n",
       "      <th>2.0</th>\n",
       "      <td>41.995488</td>\n",
       "      <td>-87.699195</td>\n",
       "    </tr>\n",
       "  </tbody>\n",
       "</table>\n",
       "</div>"
      ],
      "text/plain": [
       "                        LATITUDE  LONGITUDE\n",
       "COMMUNITY_AREA_NUMBER                      \n",
       "1.0                    42.013645 -87.673434\n",
       "2.0                    41.995488 -87.699195"
      ]
     },
     "execution_count": 4,
     "metadata": {},
     "output_type": "execute_result"
    }
   ],
   "source": [
    "location=crime_data.groupby([\"COMMUNITY_AREA_NUMBER\"]).mean()\n",
    "location=location.drop([\"ID\",\"ARREST\",\"DOMESTIC\"], axis=1)\n",
    "location.head(2)"
   ]
  },
  {
   "cell_type": "markdown",
   "metadata": {},
   "source": [
    "I create a dataframe with community areas names, community area number, latitude and longitude."
   ]
  },
  {
   "cell_type": "code",
   "execution_count": 5,
   "metadata": {},
   "outputs": [],
   "source": [
    "location_name=pd.merge(economic_data,location, on=\"COMMUNITY_AREA_NUMBER\")"
   ]
  },
  {
   "cell_type": "code",
   "execution_count": 6,
   "metadata": {},
   "outputs": [
    {
     "data": {
      "text/html": [
       "<div>\n",
       "<style scoped>\n",
       "    .dataframe tbody tr th:only-of-type {\n",
       "        vertical-align: middle;\n",
       "    }\n",
       "\n",
       "    .dataframe tbody tr th {\n",
       "        vertical-align: top;\n",
       "    }\n",
       "\n",
       "    .dataframe thead th {\n",
       "        text-align: right;\n",
       "    }\n",
       "</style>\n",
       "<table border=\"1\" class=\"dataframe\">\n",
       "  <thead>\n",
       "    <tr style=\"text-align: right;\">\n",
       "      <th></th>\n",
       "      <th>COMMUNITY_AREA_NUMBER</th>\n",
       "      <th>COMMUNITY_AREA_NAME</th>\n",
       "      <th>PERCENT OF HOUSING CROWDED</th>\n",
       "      <th>PERCENT HOUSEHOLDS BELOW POVERTY</th>\n",
       "      <th>PERCENT AGED 16+ UNEMPLOYED</th>\n",
       "      <th>PERCENT AGED 25+ WITHOUT HIGH SCHOOL DIPLOMA</th>\n",
       "      <th>PERCENT AGED UNDER 18 OR OVER 64</th>\n",
       "      <th>PER_CAPITA_INCOME</th>\n",
       "      <th>HARDSHIP_INDEX</th>\n",
       "      <th>LATITUDE</th>\n",
       "      <th>LONGITUDE</th>\n",
       "    </tr>\n",
       "  </thead>\n",
       "  <tbody>\n",
       "    <tr>\n",
       "      <th>0</th>\n",
       "      <td>1.0</td>\n",
       "      <td>Rogers Park</td>\n",
       "      <td>7.7</td>\n",
       "      <td>23.6</td>\n",
       "      <td>8.7</td>\n",
       "      <td>18.2</td>\n",
       "      <td>27.5</td>\n",
       "      <td>23939</td>\n",
       "      <td>39.0</td>\n",
       "      <td>42.013645</td>\n",
       "      <td>-87.673434</td>\n",
       "    </tr>\n",
       "    <tr>\n",
       "      <th>1</th>\n",
       "      <td>2.0</td>\n",
       "      <td>West Ridge</td>\n",
       "      <td>7.8</td>\n",
       "      <td>17.2</td>\n",
       "      <td>8.8</td>\n",
       "      <td>20.8</td>\n",
       "      <td>38.5</td>\n",
       "      <td>23040</td>\n",
       "      <td>46.0</td>\n",
       "      <td>41.995488</td>\n",
       "      <td>-87.699195</td>\n",
       "    </tr>\n",
       "    <tr>\n",
       "      <th>2</th>\n",
       "      <td>3.0</td>\n",
       "      <td>Uptown</td>\n",
       "      <td>3.8</td>\n",
       "      <td>24.0</td>\n",
       "      <td>8.9</td>\n",
       "      <td>11.8</td>\n",
       "      <td>22.2</td>\n",
       "      <td>35787</td>\n",
       "      <td>20.0</td>\n",
       "      <td>41.965424</td>\n",
       "      <td>-87.653356</td>\n",
       "    </tr>\n",
       "    <tr>\n",
       "      <th>3</th>\n",
       "      <td>4.0</td>\n",
       "      <td>Lincoln Square</td>\n",
       "      <td>3.4</td>\n",
       "      <td>10.9</td>\n",
       "      <td>8.2</td>\n",
       "      <td>13.4</td>\n",
       "      <td>25.5</td>\n",
       "      <td>37524</td>\n",
       "      <td>17.0</td>\n",
       "      <td>41.971693</td>\n",
       "      <td>-87.688144</td>\n",
       "    </tr>\n",
       "    <tr>\n",
       "      <th>4</th>\n",
       "      <td>5.0</td>\n",
       "      <td>North Center</td>\n",
       "      <td>0.3</td>\n",
       "      <td>7.5</td>\n",
       "      <td>5.2</td>\n",
       "      <td>4.5</td>\n",
       "      <td>26.2</td>\n",
       "      <td>57123</td>\n",
       "      <td>6.0</td>\n",
       "      <td>41.945273</td>\n",
       "      <td>-87.682741</td>\n",
       "    </tr>\n",
       "  </tbody>\n",
       "</table>\n",
       "</div>"
      ],
      "text/plain": [
       "   COMMUNITY_AREA_NUMBER COMMUNITY_AREA_NAME  PERCENT OF HOUSING CROWDED  \\\n",
       "0                    1.0         Rogers Park                         7.7   \n",
       "1                    2.0          West Ridge                         7.8   \n",
       "2                    3.0              Uptown                         3.8   \n",
       "3                    4.0      Lincoln Square                         3.4   \n",
       "4                    5.0        North Center                         0.3   \n",
       "\n",
       "   PERCENT HOUSEHOLDS BELOW POVERTY  PERCENT AGED 16+ UNEMPLOYED  \\\n",
       "0                              23.6                          8.7   \n",
       "1                              17.2                          8.8   \n",
       "2                              24.0                          8.9   \n",
       "3                              10.9                          8.2   \n",
       "4                               7.5                          5.2   \n",
       "\n",
       "   PERCENT AGED 25+ WITHOUT HIGH SCHOOL DIPLOMA  \\\n",
       "0                                          18.2   \n",
       "1                                          20.8   \n",
       "2                                          11.8   \n",
       "3                                          13.4   \n",
       "4                                           4.5   \n",
       "\n",
       "   PERCENT AGED UNDER 18 OR OVER 64  PER_CAPITA_INCOME   HARDSHIP_INDEX  \\\n",
       "0                              27.5               23939            39.0   \n",
       "1                              38.5               23040            46.0   \n",
       "2                              22.2               35787            20.0   \n",
       "3                              25.5               37524            17.0   \n",
       "4                              26.2               57123             6.0   \n",
       "\n",
       "    LATITUDE  LONGITUDE  \n",
       "0  42.013645 -87.673434  \n",
       "1  41.995488 -87.699195  \n",
       "2  41.965424 -87.653356  \n",
       "3  41.971693 -87.688144  \n",
       "4  41.945273 -87.682741  "
      ]
     },
     "execution_count": 6,
     "metadata": {},
     "output_type": "execute_result"
    }
   ],
   "source": [
    "location_name.head()"
   ]
  },
  {
   "cell_type": "markdown",
   "metadata": {},
   "source": [
    "I obtain the venues using the functions defined in the course."
   ]
  },
  {
   "cell_type": "code",
   "execution_count": 7,
   "metadata": {},
   "outputs": [],
   "source": [
    "CLIENT_ID = '3DUVJBPGEYCLZNSAIGXGADMURJJU5GSLR2KEQQHLU0IO2NZY' # your Foursquare ID\n",
    "CLIENT_SECRET = 'RZ3O03B0L2QIKFWYPJKQCGPN4VEYAETNCM5SPQV0SZM13WOI' # your Foursquare Secret\n",
    "VERSION = '20180605'"
   ]
  },
  {
   "cell_type": "code",
   "execution_count": 8,
   "metadata": {},
   "outputs": [],
   "source": [
    "LIMIT = 50 # limit of number of venues returned by Foursquare API It was 100 originaly\n",
    "\n",
    "radius = 500 # define radius"
   ]
  },
  {
   "cell_type": "code",
   "execution_count": 9,
   "metadata": {},
   "outputs": [],
   "source": [
    "def getNearbyVenues(names, latitudes, longitudes, radius=500):\n",
    "    \n",
    "    venues_list=[]\n",
    "    for name, lat, lng in zip(names, latitudes, longitudes):\n",
    "        print(name)\n",
    "            \n",
    "        # create the API request URL\n",
    "        url = 'https://api.foursquare.com/v2/venues/explore?&client_id={}&client_secret={}&v={}&ll={},{}&radius={}&limit={}'.format(\n",
    "            CLIENT_ID, \n",
    "            CLIENT_SECRET, \n",
    "            VERSION, \n",
    "            lat, \n",
    "            lng, \n",
    "            radius, \n",
    "            LIMIT)\n",
    "            \n",
    "        # make the GET request\n",
    "        results = requests.get(url).json()[\"response\"]['groups'][0]['items']\n",
    "        \n",
    "        # return only relevant information for each nearby venue\n",
    "        venues_list.append([(\n",
    "            name, \n",
    "            lat, \n",
    "            lng, \n",
    "            v['venue']['name'], \n",
    "            v['venue']['location']['lat'], \n",
    "            v['venue']['location']['lng'],  \n",
    "            v['venue']['categories'][0]['name']) for v in results])\n",
    "\n",
    "    nearby_venues = pd.DataFrame([item for venue_list in venues_list for item in venue_list])\n",
    "    nearby_venues.columns = ['COMMUNITY_AREA_NAME', \n",
    "                  'Area Latitude', \n",
    "                  'Area Longitude', \n",
    "                  'Venue', \n",
    "                  'Venue Latitude', \n",
    "                  'Venue Longitude', \n",
    "                  'Venue Category']\n",
    "    \n",
    "    return(nearby_venues)"
   ]
  },
  {
   "cell_type": "code",
   "execution_count": 77,
   "metadata": {},
   "outputs": [
    {
     "name": "stdout",
     "output_type": "stream",
     "text": [
      "Rogers Park\n",
      "West Ridge\n",
      "Uptown\n",
      "Lincoln Square\n",
      "North Center\n",
      "Lake View\n",
      "Lincoln Park\n",
      "Near North Side\n",
      "Norwood Park\n",
      "Jefferson Park\n",
      "Forest Glen\n",
      "Albany Park\n",
      "Portage Park\n",
      "Irving Park\n",
      "Dunning\n",
      "Montclaire\n",
      "Belmont Cragin\n",
      "Hermosa\n",
      "Avondale\n",
      "Logan Square\n",
      "Humboldt park\n",
      "West Town\n",
      "Austin\n",
      "West Garfield Park\n",
      "East Garfield Park\n",
      "Near West Side\n",
      "North Lawndale\n",
      "South Lawndale\n",
      "Lower West Side\n",
      "Loop\n",
      "Near South Side\n",
      "Douglas\n",
      "Fuller Park\n",
      "Grand Boulevard\n",
      "Kenwood\n",
      "Hyde Park\n",
      "Woodlawn\n",
      "South Shore\n",
      "Chatham\n",
      "Avalon Park\n",
      "South Chicago\n",
      "Burnside\n",
      "Calumet Heights\n",
      "Roseland\n",
      "Pullman\n",
      "South Deering\n",
      "East Side\n",
      "West Pullman\n",
      "Riverdale\n",
      "Hegewisch\n",
      "Garfield Ridge\n",
      "Brighton Park\n",
      "McKinley Park\n",
      "Bridgeport\n",
      "New City\n",
      "West Elsdon\n",
      "Gage Park\n",
      "Clearing\n",
      "West Lawn\n",
      "Chicago Lawn\n",
      "West Englewood\n",
      "Englewood\n",
      "Greater Grand Crossing\n",
      "Ashburn\n",
      "Auburn Gresham\n",
      "Beverly\n",
      "Washington Height\n",
      "Morgan Park\n",
      "O'Hare\n",
      "Edgewater\n"
     ]
    }
   ],
   "source": [
    "chicago_venues = getNearbyVenues(names=location_name['COMMUNITY_AREA_NAME'],\n",
    "                                   latitudes=location_name['LATITUDE'],\n",
    "                                   longitudes=location_name['LONGITUDE']\n",
    "                                  )"
   ]
  },
  {
   "cell_type": "code",
   "execution_count": 78,
   "metadata": {},
   "outputs": [
    {
     "name": "stdout",
     "output_type": "stream",
     "text": [
      "(1213, 7)\n"
     ]
    },
    {
     "data": {
      "text/html": [
       "<div>\n",
       "<style scoped>\n",
       "    .dataframe tbody tr th:only-of-type {\n",
       "        vertical-align: middle;\n",
       "    }\n",
       "\n",
       "    .dataframe tbody tr th {\n",
       "        vertical-align: top;\n",
       "    }\n",
       "\n",
       "    .dataframe thead th {\n",
       "        text-align: right;\n",
       "    }\n",
       "</style>\n",
       "<table border=\"1\" class=\"dataframe\">\n",
       "  <thead>\n",
       "    <tr style=\"text-align: right;\">\n",
       "      <th></th>\n",
       "      <th>COMMUNITY_AREA_NAME</th>\n",
       "      <th>Area Latitude</th>\n",
       "      <th>Area Longitude</th>\n",
       "      <th>Venue</th>\n",
       "      <th>Venue Latitude</th>\n",
       "      <th>Venue Longitude</th>\n",
       "      <th>Venue Category</th>\n",
       "    </tr>\n",
       "  </thead>\n",
       "  <tbody>\n",
       "    <tr>\n",
       "      <th>0</th>\n",
       "      <td>Rogers Park</td>\n",
       "      <td>42.013645</td>\n",
       "      <td>-87.673434</td>\n",
       "      <td>Taqueria &amp; Restaurant Cd. Hidalgo</td>\n",
       "      <td>42.011634</td>\n",
       "      <td>-87.674484</td>\n",
       "      <td>Mexican Restaurant</td>\n",
       "    </tr>\n",
       "    <tr>\n",
       "      <th>1</th>\n",
       "      <td>Rogers Park</td>\n",
       "      <td>42.013645</td>\n",
       "      <td>-87.673434</td>\n",
       "      <td>El Famous Burrito</td>\n",
       "      <td>42.010421</td>\n",
       "      <td>-87.674204</td>\n",
       "      <td>Mexican Restaurant</td>\n",
       "    </tr>\n",
       "    <tr>\n",
       "      <th>2</th>\n",
       "      <td>Rogers Park</td>\n",
       "      <td>42.013645</td>\n",
       "      <td>-87.673434</td>\n",
       "      <td>Romanian Kosher Sausage Co.</td>\n",
       "      <td>42.012765</td>\n",
       "      <td>-87.674692</td>\n",
       "      <td>Deli / Bodega</td>\n",
       "    </tr>\n",
       "    <tr>\n",
       "      <th>3</th>\n",
       "      <td>Rogers Park</td>\n",
       "      <td>42.013645</td>\n",
       "      <td>-87.673434</td>\n",
       "      <td>Pottawattomie Park</td>\n",
       "      <td>42.015112</td>\n",
       "      <td>-87.676928</td>\n",
       "      <td>Park</td>\n",
       "    </tr>\n",
       "    <tr>\n",
       "      <th>4</th>\n",
       "      <td>Rogers Park</td>\n",
       "      <td>42.013645</td>\n",
       "      <td>-87.673434</td>\n",
       "      <td>Taste Food &amp; Wine</td>\n",
       "      <td>42.016086</td>\n",
       "      <td>-87.668488</td>\n",
       "      <td>Wine Shop</td>\n",
       "    </tr>\n",
       "  </tbody>\n",
       "</table>\n",
       "</div>"
      ],
      "text/plain": [
       "  COMMUNITY_AREA_NAME  Area Latitude  Area Longitude  \\\n",
       "0         Rogers Park      42.013645      -87.673434   \n",
       "1         Rogers Park      42.013645      -87.673434   \n",
       "2         Rogers Park      42.013645      -87.673434   \n",
       "3         Rogers Park      42.013645      -87.673434   \n",
       "4         Rogers Park      42.013645      -87.673434   \n",
       "\n",
       "                               Venue  Venue Latitude  Venue Longitude  \\\n",
       "0  Taqueria & Restaurant Cd. Hidalgo       42.011634       -87.674484   \n",
       "1                  El Famous Burrito       42.010421       -87.674204   \n",
       "2        Romanian Kosher Sausage Co.       42.012765       -87.674692   \n",
       "3                 Pottawattomie Park       42.015112       -87.676928   \n",
       "4                  Taste Food & Wine       42.016086       -87.668488   \n",
       "\n",
       "       Venue Category  \n",
       "0  Mexican Restaurant  \n",
       "1  Mexican Restaurant  \n",
       "2       Deli / Bodega  \n",
       "3                Park  \n",
       "4           Wine Shop  "
      ]
     },
     "execution_count": 78,
     "metadata": {},
     "output_type": "execute_result"
    }
   ],
   "source": [
    "print(chicago_venues.shape)\n",
    "chicago_venues.head()"
   ]
  },
  {
   "cell_type": "markdown",
   "metadata": {},
   "source": [
    "The venues in each area are stored in the chicago_venues dataframe."
   ]
  },
  {
   "cell_type": "markdown",
   "metadata": {},
   "source": [
    "# Cluster the areas according to socioeconomic status\n",
    "\n",
    "I divide the areas according to 6 parameters: \n",
    "  * Percent of housing crowded\n",
    "  * Percent households below poverty\n",
    "  * Percent aged 16+ unemployed\n",
    "  * Percent aged 25+ without high school diploma\n",
    "  * Percent aged under 18 or over 64\n",
    "  * Per capita income\n",
    "  \n",
    "Except from Per capita income all the other variables are in the form of percentage. I will calculate the average income and change the column PER_CAPITA_INCOME to a percantage form."
   ]
  },
  {
   "cell_type": "code",
   "execution_count": 12,
   "metadata": {},
   "outputs": [
    {
     "data": {
      "text/html": [
       "<div>\n",
       "<style scoped>\n",
       "    .dataframe tbody tr th:only-of-type {\n",
       "        vertical-align: middle;\n",
       "    }\n",
       "\n",
       "    .dataframe tbody tr th {\n",
       "        vertical-align: top;\n",
       "    }\n",
       "\n",
       "    .dataframe thead th {\n",
       "        text-align: right;\n",
       "    }\n",
       "</style>\n",
       "<table border=\"1\" class=\"dataframe\">\n",
       "  <thead>\n",
       "    <tr style=\"text-align: right;\">\n",
       "      <th></th>\n",
       "      <th>COMMUNITY_AREA_NUMBER</th>\n",
       "      <th>COMMUNITY_AREA_NAME</th>\n",
       "      <th>PERCENT OF HOUSING CROWDED</th>\n",
       "      <th>PERCENT HOUSEHOLDS BELOW POVERTY</th>\n",
       "      <th>PERCENT AGED 16+ UNEMPLOYED</th>\n",
       "      <th>PERCENT AGED 25+ WITHOUT HIGH SCHOOL DIPLOMA</th>\n",
       "      <th>PERCENT AGED UNDER 18 OR OVER 64</th>\n",
       "      <th>HARDSHIP_INDEX</th>\n",
       "      <th>LATITUDE</th>\n",
       "      <th>LONGITUDE</th>\n",
       "      <th>PERCENT PER_CAPITA_INCOME</th>\n",
       "    </tr>\n",
       "  </thead>\n",
       "  <tbody>\n",
       "    <tr>\n",
       "      <th>0</th>\n",
       "      <td>1.0</td>\n",
       "      <td>Rogers Park</td>\n",
       "      <td>7.7</td>\n",
       "      <td>23.6</td>\n",
       "      <td>8.7</td>\n",
       "      <td>18.2</td>\n",
       "      <td>27.5</td>\n",
       "      <td>39.0</td>\n",
       "      <td>42.013645</td>\n",
       "      <td>-87.673434</td>\n",
       "      <td>0.930378</td>\n",
       "    </tr>\n",
       "    <tr>\n",
       "      <th>1</th>\n",
       "      <td>2.0</td>\n",
       "      <td>West Ridge</td>\n",
       "      <td>7.8</td>\n",
       "      <td>17.2</td>\n",
       "      <td>8.8</td>\n",
       "      <td>20.8</td>\n",
       "      <td>38.5</td>\n",
       "      <td>46.0</td>\n",
       "      <td>41.995488</td>\n",
       "      <td>-87.699195</td>\n",
       "      <td>0.895438</td>\n",
       "    </tr>\n",
       "  </tbody>\n",
       "</table>\n",
       "</div>"
      ],
      "text/plain": [
       "   COMMUNITY_AREA_NUMBER COMMUNITY_AREA_NAME  PERCENT OF HOUSING CROWDED  \\\n",
       "0                    1.0         Rogers Park                         7.7   \n",
       "1                    2.0          West Ridge                         7.8   \n",
       "\n",
       "   PERCENT HOUSEHOLDS BELOW POVERTY  PERCENT AGED 16+ UNEMPLOYED  \\\n",
       "0                              23.6                          8.7   \n",
       "1                              17.2                          8.8   \n",
       "\n",
       "   PERCENT AGED 25+ WITHOUT HIGH SCHOOL DIPLOMA  \\\n",
       "0                                          18.2   \n",
       "1                                          20.8   \n",
       "\n",
       "   PERCENT AGED UNDER 18 OR OVER 64  HARDSHIP_INDEX   LATITUDE  LONGITUDE  \\\n",
       "0                              27.5            39.0  42.013645 -87.673434   \n",
       "1                              38.5            46.0  41.995488 -87.699195   \n",
       "\n",
       "   PERCENT PER_CAPITA_INCOME  \n",
       "0                   0.930378  \n",
       "1                   0.895438  "
      ]
     },
     "execution_count": 12,
     "metadata": {},
     "output_type": "execute_result"
    }
   ],
   "source": [
    "location_name[\"PERCENT PER_CAPITA_INCOME\"]=location_name[\"PER_CAPITA_INCOME \"]/location_name[\"PER_CAPITA_INCOME \"].mean()\n",
    "location_name=location_name.drop([\"PER_CAPITA_INCOME \"], axis=1)\n",
    "location_name.head(2)"
   ]
  },
  {
   "cell_type": "markdown",
   "metadata": {},
   "source": [
    "I look for the optimal number of cluster using the elbow method."
   ]
  },
  {
   "cell_type": "code",
   "execution_count": 13,
   "metadata": {},
   "outputs": [],
   "source": [
    "distortions = []\n",
    "K = range(1,15)\n",
    "for k in K:\n",
    "    kmeanModel = KMeans(n_clusters=k)\n",
    "    kmeanModel.fit(location_name[[\"PERCENT OF HOUSING CROWDED\",\"PERCENT HOUSEHOLDS BELOW POVERTY\", \"PERCENT AGED 16+ UNEMPLOYED\",\n",
    "                                \"PERCENT AGED 25+ WITHOUT HIGH SCHOOL DIPLOMA\",\"PERCENT AGED UNDER 18 OR OVER 64\",\"PERCENT PER_CAPITA_INCOME\"]])\n",
    "    distortions.append(kmeanModel.inertia_)"
   ]
  },
  {
   "cell_type": "code",
   "execution_count": 20,
   "metadata": {},
   "outputs": [
    {
     "data": {
      "image/png": "[encoded data removed]",
      "text/plain": [
       "<Figure size 1152x576 with 1 Axes>"
      ]
     },
     "metadata": {
      "needs_background": "light"
     },
     "output_type": "display_data"
    }
   ],
   "source": [
    "plt.figure(figsize=(16,8))\n",
    "plt.plot(K, distortions, 'bo-')\n",
    "plt.xlabel('k',size=20)\n",
    "plt.ylabel('Distortion',size=20)\n",
    "plt.title('The Elbow Method showing the optimal k', size=20)\n",
    "plt.savefig(\"Elbow_method.png\")\n",
    "plt.rc('axes', labelsize=20) \n",
    "plt.show()"
   ]
  },
  {
   "cell_type": "markdown",
   "metadata": {},
   "source": [
    "The optimal number of cluster is 4."
   ]
  },
  {
   "cell_type": "code",
   "execution_count": 21,
   "metadata": {},
   "outputs": [],
   "source": [
    "kmeanModel = KMeans(n_clusters=4, n_init=25,random_state=10).fit(location_name[[\"PERCENT OF HOUSING CROWDED\",\"PERCENT HOUSEHOLDS BELOW POVERTY\", \"PERCENT AGED 16+ UNEMPLOYED\",\n",
    "                                \"PERCENT AGED 25+ WITHOUT HIGH SCHOOL DIPLOMA\",\"PERCENT AGED UNDER 18 OR OVER 64\",\"PERCENT PER_CAPITA_INCOME\"]])"
   ]
  },
  {
   "cell_type": "markdown",
   "metadata": {},
   "source": [
    "I add a column which says the cluster of the area."
   ]
  },
  {
   "cell_type": "code",
   "execution_count": 22,
   "metadata": {},
   "outputs": [],
   "source": [
    "location_name.insert(0,\"Cluster\", kmeanModel.labels_);"
   ]
  },
  {
   "cell_type": "code",
   "execution_count": 23,
   "metadata": {},
   "outputs": [
    {
     "data": {
      "text/html": [
       "<div>\n",
       "<style scoped>\n",
       "    .dataframe tbody tr th:only-of-type {\n",
       "        vertical-align: middle;\n",
       "    }\n",
       "\n",
       "    .dataframe tbody tr th {\n",
       "        vertical-align: top;\n",
       "    }\n",
       "\n",
       "    .dataframe thead th {\n",
       "        text-align: right;\n",
       "    }\n",
       "</style>\n",
       "<table border=\"1\" class=\"dataframe\">\n",
       "  <thead>\n",
       "    <tr style=\"text-align: right;\">\n",
       "      <th></th>\n",
       "      <th>COMMUNITY_AREA_NUMBER</th>\n",
       "      <th>COMMUNITY_AREA_NAME</th>\n",
       "      <th>PERCENT OF HOUSING CROWDED</th>\n",
       "      <th>PERCENT HOUSEHOLDS BELOW POVERTY</th>\n",
       "      <th>PERCENT AGED 16+ UNEMPLOYED</th>\n",
       "      <th>PERCENT AGED 25+ WITHOUT HIGH SCHOOL DIPLOMA</th>\n",
       "      <th>PERCENT AGED UNDER 18 OR OVER 64</th>\n",
       "      <th>HARDSHIP_INDEX</th>\n",
       "      <th>LATITUDE</th>\n",
       "      <th>LONGITUDE</th>\n",
       "      <th>PERCENT PER_CAPITA_INCOME</th>\n",
       "    </tr>\n",
       "    <tr>\n",
       "      <th>Cluster</th>\n",
       "      <th></th>\n",
       "      <th></th>\n",
       "      <th></th>\n",
       "      <th></th>\n",
       "      <th></th>\n",
       "      <th></th>\n",
       "      <th></th>\n",
       "      <th></th>\n",
       "      <th></th>\n",
       "      <th></th>\n",
       "      <th></th>\n",
       "    </tr>\n",
       "  </thead>\n",
       "  <tbody>\n",
       "    <tr>\n",
       "      <th>0</th>\n",
       "      <td>15</td>\n",
       "      <td>15</td>\n",
       "      <td>15</td>\n",
       "      <td>15</td>\n",
       "      <td>15</td>\n",
       "      <td>15</td>\n",
       "      <td>15</td>\n",
       "      <td>15</td>\n",
       "      <td>15</td>\n",
       "      <td>15</td>\n",
       "      <td>15</td>\n",
       "    </tr>\n",
       "    <tr>\n",
       "      <th>1</th>\n",
       "      <td>19</td>\n",
       "      <td>19</td>\n",
       "      <td>19</td>\n",
       "      <td>19</td>\n",
       "      <td>19</td>\n",
       "      <td>19</td>\n",
       "      <td>19</td>\n",
       "      <td>19</td>\n",
       "      <td>19</td>\n",
       "      <td>19</td>\n",
       "      <td>19</td>\n",
       "    </tr>\n",
       "    <tr>\n",
       "      <th>2</th>\n",
       "      <td>14</td>\n",
       "      <td>14</td>\n",
       "      <td>14</td>\n",
       "      <td>14</td>\n",
       "      <td>14</td>\n",
       "      <td>14</td>\n",
       "      <td>14</td>\n",
       "      <td>14</td>\n",
       "      <td>14</td>\n",
       "      <td>14</td>\n",
       "      <td>14</td>\n",
       "    </tr>\n",
       "    <tr>\n",
       "      <th>3</th>\n",
       "      <td>22</td>\n",
       "      <td>22</td>\n",
       "      <td>22</td>\n",
       "      <td>22</td>\n",
       "      <td>22</td>\n",
       "      <td>22</td>\n",
       "      <td>22</td>\n",
       "      <td>22</td>\n",
       "      <td>22</td>\n",
       "      <td>22</td>\n",
       "      <td>22</td>\n",
       "    </tr>\n",
       "  </tbody>\n",
       "</table>\n",
       "</div>"
      ],
      "text/plain": [
       "         COMMUNITY_AREA_NUMBER  COMMUNITY_AREA_NAME  \\\n",
       "Cluster                                               \n",
       "0                           15                   15   \n",
       "1                           19                   19   \n",
       "2                           14                   14   \n",
       "3                           22                   22   \n",
       "\n",
       "         PERCENT OF HOUSING CROWDED  PERCENT HOUSEHOLDS BELOW POVERTY  \\\n",
       "Cluster                                                                 \n",
       "0                                15                                15   \n",
       "1                                19                                19   \n",
       "2                                14                                14   \n",
       "3                                22                                22   \n",
       "\n",
       "         PERCENT AGED 16+ UNEMPLOYED  \\\n",
       "Cluster                                \n",
       "0                                 15   \n",
       "1                                 19   \n",
       "2                                 14   \n",
       "3                                 22   \n",
       "\n",
       "         PERCENT AGED 25+ WITHOUT HIGH SCHOOL DIPLOMA  \\\n",
       "Cluster                                                 \n",
       "0                                                  15   \n",
       "1                                                  19   \n",
       "2                                                  14   \n",
       "3                                                  22   \n",
       "\n",
       "         PERCENT AGED UNDER 18 OR OVER 64  HARDSHIP_INDEX  LATITUDE  \\\n",
       "Cluster                                                               \n",
       "0                                      15              15        15   \n",
       "1                                      19              19        19   \n",
       "2                                      14              14        14   \n",
       "3                                      22              22        22   \n",
       "\n",
       "         LONGITUDE  PERCENT PER_CAPITA_INCOME  \n",
       "Cluster                                        \n",
       "0               15                         15  \n",
       "1               19                         19  \n",
       "2               14                         14  \n",
       "3               22                         22  "
      ]
     },
     "execution_count": 23,
     "metadata": {},
     "output_type": "execute_result"
    }
   ],
   "source": [
    "location_name.groupby(\"Cluster\").count()"
   ]
  },
  {
   "cell_type": "code",
   "execution_count": 24,
   "metadata": {},
   "outputs": [
    {
     "data": {
      "text/html": [
       "<div>\n",
       "<style scoped>\n",
       "    .dataframe tbody tr th:only-of-type {\n",
       "        vertical-align: middle;\n",
       "    }\n",
       "\n",
       "    .dataframe tbody tr th {\n",
       "        vertical-align: top;\n",
       "    }\n",
       "\n",
       "    .dataframe thead th {\n",
       "        text-align: right;\n",
       "    }\n",
       "</style>\n",
       "<table border=\"1\" class=\"dataframe\">\n",
       "  <thead>\n",
       "    <tr style=\"text-align: right;\">\n",
       "      <th></th>\n",
       "      <th>PERCENT OF HOUSING CROWDED</th>\n",
       "      <th>PERCENT HOUSEHOLDS BELOW POVERTY</th>\n",
       "      <th>PERCENT AGED 16+ UNEMPLOYED</th>\n",
       "      <th>PERCENT AGED 25+ WITHOUT HIGH SCHOOL DIPLOMA</th>\n",
       "      <th>PERCENT AGED UNDER 18 OR OVER 64</th>\n",
       "      <th>HARDSHIP_INDEX</th>\n",
       "      <th>PERCENT PER_CAPITA_INCOME</th>\n",
       "    </tr>\n",
       "    <tr>\n",
       "      <th>Cluster</th>\n",
       "      <th></th>\n",
       "      <th></th>\n",
       "      <th></th>\n",
       "      <th></th>\n",
       "      <th></th>\n",
       "      <th></th>\n",
       "      <th></th>\n",
       "    </tr>\n",
       "  </thead>\n",
       "  <tbody>\n",
       "    <tr>\n",
       "      <th>0</th>\n",
       "      <td>2.686667</td>\n",
       "      <td>15.680000</td>\n",
       "      <td>7.240000</td>\n",
       "      <td>8.620000</td>\n",
       "      <td>23.213333</td>\n",
       "      <td>13.666667</td>\n",
       "      <td>1.858548</td>\n",
       "    </tr>\n",
       "    <tr>\n",
       "      <th>1</th>\n",
       "      <td>4.705263</td>\n",
       "      <td>35.163158</td>\n",
       "      <td>24.042105</td>\n",
       "      <td>21.278947</td>\n",
       "      <td>40.926316</td>\n",
       "      <td>74.263158</td>\n",
       "      <td>0.595431</td>\n",
       "    </tr>\n",
       "    <tr>\n",
       "      <th>2</th>\n",
       "      <td>10.657143</td>\n",
       "      <td>22.935714</td>\n",
       "      <td>15.042857</td>\n",
       "      <td>39.100000</td>\n",
       "      <td>37.385714</td>\n",
       "      <td>74.928571</td>\n",
       "      <td>0.584286</td>\n",
       "    </tr>\n",
       "    <tr>\n",
       "      <th>3</th>\n",
       "      <td>3.322727</td>\n",
       "      <td>13.440909</td>\n",
       "      <td>13.277273</td>\n",
       "      <td>15.681818</td>\n",
       "      <td>37.795455</td>\n",
       "      <td>35.227273</td>\n",
       "      <td>1.028572</td>\n",
       "    </tr>\n",
       "  </tbody>\n",
       "</table>\n",
       "</div>"
      ],
      "text/plain": [
       "         PERCENT OF HOUSING CROWDED  PERCENT HOUSEHOLDS BELOW POVERTY  \\\n",
       "Cluster                                                                 \n",
       "0                          2.686667                         15.680000   \n",
       "1                          4.705263                         35.163158   \n",
       "2                         10.657143                         22.935714   \n",
       "3                          3.322727                         13.440909   \n",
       "\n",
       "         PERCENT AGED 16+ UNEMPLOYED  \\\n",
       "Cluster                                \n",
       "0                           7.240000   \n",
       "1                          24.042105   \n",
       "2                          15.042857   \n",
       "3                          13.277273   \n",
       "\n",
       "         PERCENT AGED 25+ WITHOUT HIGH SCHOOL DIPLOMA  \\\n",
       "Cluster                                                 \n",
       "0                                            8.620000   \n",
       "1                                           21.278947   \n",
       "2                                           39.100000   \n",
       "3                                           15.681818   \n",
       "\n",
       "         PERCENT AGED UNDER 18 OR OVER 64  HARDSHIP_INDEX  \\\n",
       "Cluster                                                     \n",
       "0                               23.213333       13.666667   \n",
       "1                               40.926316       74.263158   \n",
       "2                               37.385714       74.928571   \n",
       "3                               37.795455       35.227273   \n",
       "\n",
       "         PERCENT PER_CAPITA_INCOME  \n",
       "Cluster                             \n",
       "0                         1.858548  \n",
       "1                         0.595431  \n",
       "2                         0.584286  \n",
       "3                         1.028572  "
      ]
     },
     "execution_count": 24,
     "metadata": {},
     "output_type": "execute_result"
    }
   ],
   "source": [
    "cluster_parameters=location_name.groupby(\"Cluster\").mean()\n",
    "cluster_parameters=cluster_parameters.drop(columns=[\"COMMUNITY_AREA_NUMBER\",\"LATITUDE\",\"LONGITUDE\"])\n",
    "cluster_parameters.head()"
   ]
  },
  {
   "cell_type": "markdown",
   "metadata": {},
   "source": [
    "We can see that cluster 0 consist of areas with high income, low hardship and good socioeconomical parameters. Clusters 1,2 are poor areas in which the harship index is high, and the income low. In cluster 1 there are more households in poverty and higher unemployment. Altough the per capita income is slightly higher than in the cluster 2.\n",
    "Cluster 3 represents the middle class. Their average income is close to the average income of the city. \n",
    "\n",
    "The geographical distribution of the clusters is shown in the next map: "
   ]
  },
  {
   "cell_type": "code",
   "execution_count": 25,
   "metadata": {},
   "outputs": [
    {
     "name": "stdout",
     "output_type": "stream",
     "text": [
      "The geograpical coordinate of Chicago are 41.8755616, -87.6244212.\n"
     ]
    }
   ],
   "source": [
    "address = 'Chicago, IL'\n",
    "\n",
    "geolocator = Nominatim(user_agent=\"chicago_crime\")\n",
    "location = geolocator.geocode(address)\n",
    "latitude = location.latitude\n",
    "longitude = location.longitude\n",
    "print('The geograpical coordinate of Chicago are {}, {}.'.format(latitude, longitude))"
   ]
  },
  {
   "cell_type": "code",
   "execution_count": 26,
   "metadata": {},
   "outputs": [
    {
     "data": {
      "text/html": [
       "<div style=\"width:100%;\"><div style=\"position:relative;width:100%;height:0;padding-bottom:60%;\"><iframe src=\"data:text/html;charset=utf-8;base64,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\" style=\"position:absolute;width:100%;height:100%;left:0;top:0;border:none !important;\" allowfullscreen webkitallowfullscreen mozallowfullscreen></iframe></div></div>"
      ],
      "text/plain": [
       "<folium.folium.Map at 0x228948d6c18>"
      ]
     },
     "execution_count": 26,
     "metadata": {},
     "output_type": "execute_result"
    }
   ],
   "source": [
    "# create map\n",
    "kclusters=4\n",
    "map_clusters = folium.Map(location=[latitude, longitude], zoom_start=11)\n",
    "\n",
    "# set color scheme for the clusters\n",
    "x = np.arange(kclusters)\n",
    "ys = [i + x + (i*x)**2 for i in range(kclusters)]\n",
    "colors_array = cm.rainbow(np.linspace(0, 1, len(ys)))\n",
    "rainbow = [colors.rgb2hex(i) for i in colors_array]\n",
    "\n",
    "# add markers to the map\n",
    "markers_colors = []\n",
    "for lat, lon, poi, cluster in zip(location_name['LATITUDE'], location_name['LONGITUDE'], location_name['COMMUNITY_AREA_NAME'], location_name['Cluster']):\n",
    "    label = folium.Popup(str(poi) + ' Cluster ' + str(cluster), parse_html=True)\n",
    "    folium.CircleMarker(\n",
    "        [lat, lon],\n",
    "        radius=5,\n",
    "        popup=label,\n",
    "        color=rainbow[int(cluster)-1],\n",
    "        fill=True,\n",
    "        fill_color=rainbow[int(cluster)-1],\n",
    "        fill_opacity=0.7).add_to(map_clusters)\n",
    "    \n",
    "\n",
    "#Add a legend\n",
    "\n",
    "legend_html =   '''\n",
    "                <div style=\"position: fixed; \n",
    "                            bottom: 200px; right: 200px; width: 100px; height: 110px; \n",
    "                            border:2px solid grey; z-index:9999; font-size:14px;\n",
    "                            \">&nbsp; Cluster <br>\n",
    "                              &nbsp; 0 &nbsp; <i class=\"fa fa-circle\" style=\"color:#ff0000\"></i><br>\n",
    "                              &nbsp; 1 &nbsp; <i class=\"fa fa-circle\" style=\"color:#8000ff\"></i><br>\n",
    "                              &nbsp; 2 &nbsp; <i class=\"fa fa-circle\" style=\"color:#2adddd\"></i><br>\n",
    "                              &nbsp; 3 &nbsp; <i class=\"fa fa-circle\" style=\"color:#d4dd80\"></i>\n",
    "                </div>\n",
    "                ''' \n",
    "\n",
    "map_clusters.get_root().html.add_child(folium.Element(legend_html))\n",
    "       \n",
    "map_clusters"
   ]
  },
  {
   "cell_type": "markdown",
   "metadata": {},
   "source": [
    "The cluster 3 is scattered in all Chicago. The distribution is in accordance with the hypothesis that the cluster represents the middle class. The cluster 0 mainly represent areas within the downtown. The geographical differences in the other 2 clusters are harder to find, but in both of them are industrial complex.\n",
    "\n",
    "# Popular venues in each community area"
   ]
  },
  {
   "cell_type": "markdown",
   "metadata": {},
   "source": [
    "I will use one hot encoding in the venues to determine the most popular venues in each cluster."
   ]
  },
  {
   "cell_type": "code",
   "execution_count": 27,
   "metadata": {},
   "outputs": [],
   "source": [
    "# one hot encoding\n",
    "chicago_onehot = pd.get_dummies(chicago_venues[['Venue Category']], prefix=\"\", prefix_sep=\"\")\n",
    "\n",
    "# add neighborhood column back to dataframe\n",
    "chicago_onehot['COMMUNITY_AREA_NAME'] = chicago_venues['COMMUNITY_AREA_NAME'] \n",
    "\n",
    "# move neighborhood column to the first column\n",
    "fixed_columns = [chicago_onehot.columns[-1]] + list(chicago_onehot.columns[:-1])\n",
    "chicago_onehot = chicago_onehot[fixed_columns];"
   ]
  },
  {
   "cell_type": "code",
   "execution_count": 28,
   "metadata": {},
   "outputs": [],
   "source": [
    "chicago_venues_sum=chicago_onehot.groupby(\"COMMUNITY_AREA_NAME\").sum().reset_index()"
   ]
  },
  {
   "cell_type": "code",
   "execution_count": 29,
   "metadata": {},
   "outputs": [],
   "source": [
    "chicago_venues_sum=pd.merge(chicago_venues_sum,location_name[[\"Cluster\", \"COMMUNITY_AREA_NAME\",\"COMMUNITY_AREA_NUMBER\"]], on=\"COMMUNITY_AREA_NAME\")\n",
    "fixed_columns = [chicago_venues_sum.columns[-1],chicago_venues_sum.columns[-2]] + list(chicago_venues_sum.columns[:-2])\n",
    "chicago_venues_sum = chicago_venues_sum[fixed_columns];"
   ]
  },
  {
   "cell_type": "markdown",
   "metadata": {},
   "source": [
    "I group the venues by cluster and find the most common ones."
   ]
  },
  {
   "cell_type": "code",
   "execution_count": 30,
   "metadata": {},
   "outputs": [],
   "source": [
    "chicago_venues_cluster=chicago_venues_sum.groupby(\"Cluster\").sum().reset_index();"
   ]
  },
  {
   "cell_type": "code",
   "execution_count": 31,
   "metadata": {},
   "outputs": [],
   "source": [
    "chicago_venues_cluster=chicago_venues_cluster.drop(columns=\"COMMUNITY_AREA_NUMBER\")"
   ]
  },
  {
   "cell_type": "code",
   "execution_count": 32,
   "metadata": {},
   "outputs": [],
   "source": [
    "def return_most_common_venues(row, num_top_venues,inicio=1,):\n",
    "    row_categories = row.iloc[inicio:]\n",
    "    row_categories_sorted = row_categories.sort_values(ascending=False)\n",
    "    \n",
    "    return row_categories_sorted.index.values[0:num_top_venues]"
   ]
  },
  {
   "cell_type": "code",
   "execution_count": 33,
   "metadata": {},
   "outputs": [
    {
     "data": {
      "text/html": [
       "<div>\n",
       "<style scoped>\n",
       "    .dataframe tbody tr th:only-of-type {\n",
       "        vertical-align: middle;\n",
       "    }\n",
       "\n",
       "    .dataframe tbody tr th {\n",
       "        vertical-align: top;\n",
       "    }\n",
       "\n",
       "    .dataframe thead th {\n",
       "        text-align: right;\n",
       "    }\n",
       "</style>\n",
       "<table border=\"1\" class=\"dataframe\">\n",
       "  <thead>\n",
       "    <tr style=\"text-align: right;\">\n",
       "      <th></th>\n",
       "      <th>Cluster</th>\n",
       "      <th>1st Most Common Venue</th>\n",
       "      <th>2nd Most Common Venue</th>\n",
       "      <th>3rd Most Common Venue</th>\n",
       "      <th>4th Most Common Venue</th>\n",
       "      <th>5th Most Common Venue</th>\n",
       "    </tr>\n",
       "  </thead>\n",
       "  <tbody>\n",
       "    <tr>\n",
       "      <th>0</th>\n",
       "      <td>0</td>\n",
       "      <td>Coffee Shop</td>\n",
       "      <td>Mexican Restaurant</td>\n",
       "      <td>Bar</td>\n",
       "      <td>Pizza Place</td>\n",
       "      <td>Sandwich Place</td>\n",
       "    </tr>\n",
       "    <tr>\n",
       "      <th>1</th>\n",
       "      <td>1</td>\n",
       "      <td>Park</td>\n",
       "      <td>Fast Food Restaurant</td>\n",
       "      <td>Grocery Store</td>\n",
       "      <td>Discount Store</td>\n",
       "      <td>Seafood Restaurant</td>\n",
       "    </tr>\n",
       "    <tr>\n",
       "      <th>2</th>\n",
       "      <td>2</td>\n",
       "      <td>Mexican Restaurant</td>\n",
       "      <td>Grocery Store</td>\n",
       "      <td>Pizza Place</td>\n",
       "      <td>Bakery</td>\n",
       "      <td>Park</td>\n",
       "    </tr>\n",
       "    <tr>\n",
       "      <th>3</th>\n",
       "      <td>3</td>\n",
       "      <td>Grocery Store</td>\n",
       "      <td>Park</td>\n",
       "      <td>Pizza Place</td>\n",
       "      <td>Bar</td>\n",
       "      <td>Indian Restaurant</td>\n",
       "    </tr>\n",
       "  </tbody>\n",
       "</table>\n",
       "</div>"
      ],
      "text/plain": [
       "   Cluster 1st Most Common Venue 2nd Most Common Venue 3rd Most Common Venue  \\\n",
       "0        0           Coffee Shop    Mexican Restaurant                   Bar   \n",
       "1        1                  Park  Fast Food Restaurant         Grocery Store   \n",
       "2        2    Mexican Restaurant         Grocery Store           Pizza Place   \n",
       "3        3         Grocery Store                  Park           Pizza Place   \n",
       "\n",
       "  4th Most Common Venue 5th Most Common Venue  \n",
       "0           Pizza Place        Sandwich Place  \n",
       "1        Discount Store    Seafood Restaurant  \n",
       "2                Bakery                  Park  \n",
       "3                   Bar     Indian Restaurant  "
      ]
     },
     "execution_count": 33,
     "metadata": {},
     "output_type": "execute_result"
    }
   ],
   "source": [
    "num_top_venues = 5\n",
    "\n",
    "indicators = ['st', 'nd', 'rd']\n",
    "\n",
    "# create columns according to number of top venues\n",
    "columns = ['Cluster']\n",
    "for ind in np.arange(num_top_venues):\n",
    "    try:\n",
    "        columns.append('{}{} Most Common Venue'.format(ind+1, indicators[ind]))\n",
    "    except:\n",
    "        columns.append('{}th Most Common Venue'.format(ind+1))\n",
    "\n",
    "# create a new dataframe\n",
    "area_venues_sorted = pd.DataFrame(columns=columns)\n",
    "area_venues_sorted['Cluster'] = chicago_venues_cluster[\"Cluster\"]\n",
    "\n",
    "for ind in np.arange(chicago_venues_cluster.shape[0]):\n",
    "    area_venues_sorted.iloc[ind, 1:] = return_most_common_venues(chicago_venues_cluster.iloc[ind, 1:], num_top_venues)\n",
    "\n",
    "area_venues_sorted.head()"
   ]
  },
  {
   "cell_type": "code",
   "execution_count": null,
   "metadata": {},
   "outputs": [],
   "source": []
  },
  {
   "cell_type": "markdown",
   "metadata": {},
   "source": [
    "# Most common crime in a community area"
   ]
  },
  {
   "cell_type": "markdown",
   "metadata": {},
   "source": [
    "I use one hot encoding to find the most common crimes in a community area, then I find the most common crimes in a cluster."
   ]
  },
  {
   "cell_type": "code",
   "execution_count": 34,
   "metadata": {},
   "outputs": [],
   "source": [
    "# one hot encoding\n",
    "chicago_crime_onehot = pd.get_dummies(crime_data[['PRIMARY_TYPE']], prefix=\"\", prefix_sep=\"\")\n",
    "\n",
    "# add neighborhood column back to dataframe\n",
    "chicago_crime_onehot['COMMUNITY_AREA_NUMBER'] = crime_data['COMMUNITY_AREA_NUMBER'] \n",
    "\n",
    "# move neighborhood column to the first column\n",
    "fixed_columns = [chicago_crime_onehot.columns[-1]] + list(chicago_crime_onehot.columns[:-1])\n",
    "chicago_crime_onehot = chicago_crime_onehot[fixed_columns];"
   ]
  },
  {
   "cell_type": "code",
   "execution_count": 35,
   "metadata": {},
   "outputs": [
    {
     "data": {
      "text/html": [
       "<div>\n",
       "<style scoped>\n",
       "    .dataframe tbody tr th:only-of-type {\n",
       "        vertical-align: middle;\n",
       "    }\n",
       "\n",
       "    .dataframe tbody tr th {\n",
       "        vertical-align: top;\n",
       "    }\n",
       "\n",
       "    .dataframe thead th {\n",
       "        text-align: right;\n",
       "    }\n",
       "</style>\n",
       "<table border=\"1\" class=\"dataframe\">\n",
       "  <thead>\n",
       "    <tr style=\"text-align: right;\">\n",
       "      <th></th>\n",
       "      <th>COMMUNITY_AREA_NUMBER</th>\n",
       "      <th>ARSON</th>\n",
       "      <th>ASSAULT</th>\n",
       "      <th>BATTERY</th>\n",
       "      <th>BURGLARY</th>\n",
       "      <th>CONCEALED CARRY LICENSE VIOLATION</th>\n",
       "      <th>CRIM SEXUAL ASSAULT</th>\n",
       "      <th>CRIMINAL DAMAGE</th>\n",
       "      <th>CRIMINAL TRESPASS</th>\n",
       "      <th>DECEPTIVE PRACTICE</th>\n",
       "      <th>...</th>\n",
       "      <th>OTHER OFFENSE</th>\n",
       "      <th>PROSTITUTION</th>\n",
       "      <th>PUBLIC INDECENCY</th>\n",
       "      <th>PUBLIC PEACE VIOLATION</th>\n",
       "      <th>RITUALISM</th>\n",
       "      <th>ROBBERY</th>\n",
       "      <th>SEX OFFENSE</th>\n",
       "      <th>STALKING</th>\n",
       "      <th>THEFT</th>\n",
       "      <th>WEAPONS VIOLATION</th>\n",
       "    </tr>\n",
       "  </thead>\n",
       "  <tbody>\n",
       "    <tr>\n",
       "      <th>0</th>\n",
       "      <td>58.0</td>\n",
       "      <td>0</td>\n",
       "      <td>0</td>\n",
       "      <td>0</td>\n",
       "      <td>0</td>\n",
       "      <td>0</td>\n",
       "      <td>0</td>\n",
       "      <td>0</td>\n",
       "      <td>0</td>\n",
       "      <td>0</td>\n",
       "      <td>...</td>\n",
       "      <td>0</td>\n",
       "      <td>0</td>\n",
       "      <td>0</td>\n",
       "      <td>0</td>\n",
       "      <td>0</td>\n",
       "      <td>0</td>\n",
       "      <td>0</td>\n",
       "      <td>0</td>\n",
       "      <td>1</td>\n",
       "      <td>0</td>\n",
       "    </tr>\n",
       "    <tr>\n",
       "      <th>1</th>\n",
       "      <td>23.0</td>\n",
       "      <td>0</td>\n",
       "      <td>0</td>\n",
       "      <td>0</td>\n",
       "      <td>0</td>\n",
       "      <td>0</td>\n",
       "      <td>0</td>\n",
       "      <td>0</td>\n",
       "      <td>0</td>\n",
       "      <td>0</td>\n",
       "      <td>...</td>\n",
       "      <td>0</td>\n",
       "      <td>0</td>\n",
       "      <td>0</td>\n",
       "      <td>0</td>\n",
       "      <td>0</td>\n",
       "      <td>0</td>\n",
       "      <td>0</td>\n",
       "      <td>0</td>\n",
       "      <td>1</td>\n",
       "      <td>0</td>\n",
       "    </tr>\n",
       "    <tr>\n",
       "      <th>2</th>\n",
       "      <td>38.0</td>\n",
       "      <td>0</td>\n",
       "      <td>0</td>\n",
       "      <td>0</td>\n",
       "      <td>0</td>\n",
       "      <td>0</td>\n",
       "      <td>0</td>\n",
       "      <td>0</td>\n",
       "      <td>0</td>\n",
       "      <td>0</td>\n",
       "      <td>...</td>\n",
       "      <td>0</td>\n",
       "      <td>0</td>\n",
       "      <td>0</td>\n",
       "      <td>0</td>\n",
       "      <td>0</td>\n",
       "      <td>0</td>\n",
       "      <td>0</td>\n",
       "      <td>0</td>\n",
       "      <td>1</td>\n",
       "      <td>0</td>\n",
       "    </tr>\n",
       "  </tbody>\n",
       "</table>\n",
       "<p>3 rows × 36 columns</p>\n",
       "</div>"
      ],
      "text/plain": [
       "   COMMUNITY_AREA_NUMBER  ARSON  ASSAULT  BATTERY  BURGLARY  \\\n",
       "0                   58.0      0        0        0         0   \n",
       "1                   23.0      0        0        0         0   \n",
       "2                   38.0      0        0        0         0   \n",
       "\n",
       "   CONCEALED CARRY LICENSE VIOLATION  CRIM SEXUAL ASSAULT  CRIMINAL DAMAGE  \\\n",
       "0                                  0                    0                0   \n",
       "1                                  0                    0                0   \n",
       "2                                  0                    0                0   \n",
       "\n",
       "   CRIMINAL TRESPASS  DECEPTIVE PRACTICE        ...          OTHER OFFENSE  \\\n",
       "0                  0                   0        ...                      0   \n",
       "1                  0                   0        ...                      0   \n",
       "2                  0                   0        ...                      0   \n",
       "\n",
       "   PROSTITUTION  PUBLIC INDECENCY  PUBLIC PEACE VIOLATION  RITUALISM  ROBBERY  \\\n",
       "0             0                 0                       0          0        0   \n",
       "1             0                 0                       0          0        0   \n",
       "2             0                 0                       0          0        0   \n",
       "\n",
       "   SEX OFFENSE  STALKING  THEFT  WEAPONS VIOLATION  \n",
       "0            0         0      1                  0  \n",
       "1            0         0      1                  0  \n",
       "2            0         0      1                  0  \n",
       "\n",
       "[3 rows x 36 columns]"
      ]
     },
     "execution_count": 35,
     "metadata": {},
     "output_type": "execute_result"
    }
   ],
   "source": [
    "chicago_crime_onehot.head(3)"
   ]
  },
  {
   "cell_type": "code",
   "execution_count": 36,
   "metadata": {},
   "outputs": [],
   "source": [
    "chicago_crime_sum=chicago_crime_onehot.groupby(\"COMMUNITY_AREA_NUMBER\").sum().reset_index()"
   ]
  },
  {
   "cell_type": "markdown",
   "metadata": {},
   "source": [
    "I add the name of the area, and the cluster information."
   ]
  },
  {
   "cell_type": "code",
   "execution_count": 37,
   "metadata": {},
   "outputs": [
    {
     "data": {
      "text/plain": [
       "(70, 36)"
      ]
     },
     "execution_count": 37,
     "metadata": {},
     "output_type": "execute_result"
    }
   ],
   "source": [
    "chicago_crime_sum.shape"
   ]
  },
  {
   "cell_type": "code",
   "execution_count": 38,
   "metadata": {},
   "outputs": [
    {
     "data": {
      "text/plain": [
       "(70, 12)"
      ]
     },
     "execution_count": 38,
     "metadata": {},
     "output_type": "execute_result"
    }
   ],
   "source": [
    "location_name.shape"
   ]
  },
  {
   "cell_type": "code",
   "execution_count": 39,
   "metadata": {},
   "outputs": [],
   "source": [
    "chicago_crime_cluster=pd.merge(chicago_crime_sum,location_name[[\"Cluster\", \"COMMUNITY_AREA_NAME\",\"COMMUNITY_AREA_NUMBER\"]], on=\"COMMUNITY_AREA_NUMBER\")"
   ]
  },
  {
   "cell_type": "code",
   "execution_count": 40,
   "metadata": {},
   "outputs": [],
   "source": [
    "fixed_columns = [chicago_crime_cluster.columns[-1],chicago_crime_cluster.columns[-2]] + list(chicago_crime_cluster.columns[:-2])\n",
    "chicago_crime_cluster = chicago_crime_cluster[fixed_columns];"
   ]
  },
  {
   "cell_type": "code",
   "execution_count": 41,
   "metadata": {
    "scrolled": true
   },
   "outputs": [],
   "source": [
    "chicago_crime_cluster=chicago_crime_cluster.groupby(\"Cluster\").sum()"
   ]
  },
  {
   "cell_type": "code",
   "execution_count": 42,
   "metadata": {},
   "outputs": [],
   "source": [
    "chicago_crime_cluster=chicago_crime_cluster.drop(columns=\"COMMUNITY_AREA_NUMBER\")"
   ]
  },
  {
   "cell_type": "code",
   "execution_count": 43,
   "metadata": {},
   "outputs": [],
   "source": [
    "chicago_crime_cluster=chicago_crime_cluster.reset_index()"
   ]
  },
  {
   "cell_type": "code",
   "execution_count": 44,
   "metadata": {},
   "outputs": [],
   "source": [
    "total_crime=[0,0,0,0]\n",
    "for i in range(4):\n",
    "    total_crime[i]=chicago_crime_cluster.loc[i][1:].sum()"
   ]
  },
  {
   "cell_type": "code",
   "execution_count": 45,
   "metadata": {},
   "outputs": [],
   "source": [
    "chicago_crime_cluster[\"Total_crimes\"]=total_crime"
   ]
  },
  {
   "cell_type": "code",
   "execution_count": 46,
   "metadata": {},
   "outputs": [
    {
     "data": {
      "text/html": [
       "<div>\n",
       "<style scoped>\n",
       "    .dataframe tbody tr th:only-of-type {\n",
       "        vertical-align: middle;\n",
       "    }\n",
       "\n",
       "    .dataframe tbody tr th {\n",
       "        vertical-align: top;\n",
       "    }\n",
       "\n",
       "    .dataframe thead th {\n",
       "        text-align: right;\n",
       "    }\n",
       "</style>\n",
       "<table border=\"1\" class=\"dataframe\">\n",
       "  <thead>\n",
       "    <tr style=\"text-align: right;\">\n",
       "      <th></th>\n",
       "      <th>Cluster</th>\n",
       "      <th>ARSON</th>\n",
       "      <th>ASSAULT</th>\n",
       "      <th>BATTERY</th>\n",
       "      <th>BURGLARY</th>\n",
       "      <th>CONCEALED CARRY LICENSE VIOLATION</th>\n",
       "      <th>CRIM SEXUAL ASSAULT</th>\n",
       "      <th>CRIMINAL DAMAGE</th>\n",
       "      <th>CRIMINAL TRESPASS</th>\n",
       "      <th>DECEPTIVE PRACTICE</th>\n",
       "      <th>...</th>\n",
       "      <th>PROSTITUTION</th>\n",
       "      <th>PUBLIC INDECENCY</th>\n",
       "      <th>PUBLIC PEACE VIOLATION</th>\n",
       "      <th>RITUALISM</th>\n",
       "      <th>ROBBERY</th>\n",
       "      <th>SEX OFFENSE</th>\n",
       "      <th>STALKING</th>\n",
       "      <th>THEFT</th>\n",
       "      <th>WEAPONS VIOLATION</th>\n",
       "      <th>Total_crimes</th>\n",
       "    </tr>\n",
       "  </thead>\n",
       "  <tbody>\n",
       "    <tr>\n",
       "      <th>0</th>\n",
       "      <td>0</td>\n",
       "      <td>0</td>\n",
       "      <td>4</td>\n",
       "      <td>14</td>\n",
       "      <td>2</td>\n",
       "      <td>0</td>\n",
       "      <td>0</td>\n",
       "      <td>12</td>\n",
       "      <td>5</td>\n",
       "      <td>7</td>\n",
       "      <td>...</td>\n",
       "      <td>2</td>\n",
       "      <td>0</td>\n",
       "      <td>0</td>\n",
       "      <td>0</td>\n",
       "      <td>2</td>\n",
       "      <td>0</td>\n",
       "      <td>0</td>\n",
       "      <td>30</td>\n",
       "      <td>1</td>\n",
       "      <td>102</td>\n",
       "    </tr>\n",
       "    <tr>\n",
       "      <th>1</th>\n",
       "      <td>1</td>\n",
       "      <td>2</td>\n",
       "      <td>19</td>\n",
       "      <td>39</td>\n",
       "      <td>13</td>\n",
       "      <td>1</td>\n",
       "      <td>1</td>\n",
       "      <td>15</td>\n",
       "      <td>5</td>\n",
       "      <td>4</td>\n",
       "      <td>...</td>\n",
       "      <td>1</td>\n",
       "      <td>1</td>\n",
       "      <td>1</td>\n",
       "      <td>1</td>\n",
       "      <td>10</td>\n",
       "      <td>0</td>\n",
       "      <td>0</td>\n",
       "      <td>30</td>\n",
       "      <td>4</td>\n",
       "      <td>197</td>\n",
       "    </tr>\n",
       "    <tr>\n",
       "      <th>2</th>\n",
       "      <td>2</td>\n",
       "      <td>0</td>\n",
       "      <td>3</td>\n",
       "      <td>16</td>\n",
       "      <td>6</td>\n",
       "      <td>0</td>\n",
       "      <td>1</td>\n",
       "      <td>14</td>\n",
       "      <td>1</td>\n",
       "      <td>1</td>\n",
       "      <td>...</td>\n",
       "      <td>0</td>\n",
       "      <td>0</td>\n",
       "      <td>1</td>\n",
       "      <td>0</td>\n",
       "      <td>4</td>\n",
       "      <td>2</td>\n",
       "      <td>0</td>\n",
       "      <td>22</td>\n",
       "      <td>1</td>\n",
       "      <td>105</td>\n",
       "    </tr>\n",
       "    <tr>\n",
       "      <th>3</th>\n",
       "      <td>3</td>\n",
       "      <td>0</td>\n",
       "      <td>4</td>\n",
       "      <td>12</td>\n",
       "      <td>6</td>\n",
       "      <td>0</td>\n",
       "      <td>0</td>\n",
       "      <td>14</td>\n",
       "      <td>2</td>\n",
       "      <td>3</td>\n",
       "      <td>...</td>\n",
       "      <td>0</td>\n",
       "      <td>0</td>\n",
       "      <td>1</td>\n",
       "      <td>0</td>\n",
       "      <td>4</td>\n",
       "      <td>1</td>\n",
       "      <td>1</td>\n",
       "      <td>18</td>\n",
       "      <td>0</td>\n",
       "      <td>86</td>\n",
       "    </tr>\n",
       "  </tbody>\n",
       "</table>\n",
       "<p>4 rows × 37 columns</p>\n",
       "</div>"
      ],
      "text/plain": [
       "   Cluster  ARSON  ASSAULT  BATTERY  BURGLARY  \\\n",
       "0        0      0        4       14         2   \n",
       "1        1      2       19       39        13   \n",
       "2        2      0        3       16         6   \n",
       "3        3      0        4       12         6   \n",
       "\n",
       "   CONCEALED CARRY LICENSE VIOLATION  CRIM SEXUAL ASSAULT  CRIMINAL DAMAGE  \\\n",
       "0                                  0                    0               12   \n",
       "1                                  1                    1               15   \n",
       "2                                  0                    1               14   \n",
       "3                                  0                    0               14   \n",
       "\n",
       "   CRIMINAL TRESPASS  DECEPTIVE PRACTICE      ...       PROSTITUTION  \\\n",
       "0                  5                   7      ...                  2   \n",
       "1                  5                   4      ...                  1   \n",
       "2                  1                   1      ...                  0   \n",
       "3                  2                   3      ...                  0   \n",
       "\n",
       "   PUBLIC INDECENCY  PUBLIC PEACE VIOLATION  RITUALISM  ROBBERY  SEX OFFENSE  \\\n",
       "0                 0                       0          0        2            0   \n",
       "1                 1                       1          1       10            0   \n",
       "2                 0                       1          0        4            2   \n",
       "3                 0                       1          0        4            1   \n",
       "\n",
       "   STALKING  THEFT  WEAPONS VIOLATION  Total_crimes  \n",
       "0         0     30                  1           102  \n",
       "1         0     30                  4           197  \n",
       "2         0     22                  1           105  \n",
       "3         1     18                  0            86  \n",
       "\n",
       "[4 rows x 37 columns]"
      ]
     },
     "execution_count": 46,
     "metadata": {},
     "output_type": "execute_result"
    }
   ],
   "source": [
    "chicago_crime_cluster.head()"
   ]
  },
  {
   "cell_type": "markdown",
   "metadata": {},
   "source": [
    "I creata a dataframe with the most common crimes in each cluster. I add the total amount of crimes in that cluster."
   ]
  },
  {
   "cell_type": "code",
   "execution_count": 47,
   "metadata": {},
   "outputs": [
    {
     "data": {
      "text/plain": [
       "102"
      ]
     },
     "execution_count": 47,
     "metadata": {},
     "output_type": "execute_result"
    }
   ],
   "source": [
    "chicago_crime_cluster[\"Total_crimes\"][0]"
   ]
  },
  {
   "cell_type": "code",
   "execution_count": 48,
   "metadata": {},
   "outputs": [
    {
     "data": {
      "text/html": [
       "<div>\n",
       "<style scoped>\n",
       "    .dataframe tbody tr th:only-of-type {\n",
       "        vertical-align: middle;\n",
       "    }\n",
       "\n",
       "    .dataframe tbody tr th {\n",
       "        vertical-align: top;\n",
       "    }\n",
       "\n",
       "    .dataframe thead th {\n",
       "        text-align: right;\n",
       "    }\n",
       "</style>\n",
       "<table border=\"1\" class=\"dataframe\">\n",
       "  <thead>\n",
       "    <tr style=\"text-align: right;\">\n",
       "      <th></th>\n",
       "      <th>Cluster 0</th>\n",
       "    </tr>\n",
       "  </thead>\n",
       "  <tbody>\n",
       "    <tr>\n",
       "      <th>THEFT</th>\n",
       "      <td>30</td>\n",
       "    </tr>\n",
       "    <tr>\n",
       "      <th>BATTERY</th>\n",
       "      <td>14</td>\n",
       "    </tr>\n",
       "    <tr>\n",
       "      <th>CRIMINAL DAMAGE</th>\n",
       "      <td>12</td>\n",
       "    </tr>\n",
       "    <tr>\n",
       "      <th>NARCOTICS</th>\n",
       "      <td>9</td>\n",
       "    </tr>\n",
       "    <tr>\n",
       "      <th>DECEPTIVE PRACTICE</th>\n",
       "      <td>7</td>\n",
       "    </tr>\n",
       "    <tr>\n",
       "      <th>Total</th>\n",
       "      <td>102</td>\n",
       "    </tr>\n",
       "  </tbody>\n",
       "</table>\n",
       "</div>"
      ],
      "text/plain": [
       "                    Cluster 0\n",
       "THEFT                      30\n",
       "BATTERY                    14\n",
       "CRIMINAL DAMAGE            12\n",
       "NARCOTICS                   9\n",
       "DECEPTIVE PRACTICE          7\n",
       "Total                     102"
      ]
     },
     "execution_count": 48,
     "metadata": {},
     "output_type": "execute_result"
    }
   ],
   "source": [
    "crimes_cluster_0=return_most_common_venues(chicago_crime_cluster.iloc[0,:-1],5,0)\n",
    "crime_0=pd.DataFrame(chicago_crime_cluster[crimes_cluster_0].loc[0,:])\n",
    "crime_0=crime_0.rename(columns={0:\"Cluster 0\"})\n",
    "crime_0.loc[\"Total\"]=[chicago_crime_cluster[\"Total_crimes\"][0]]\n",
    "crime_0.head(6)"
   ]
  },
  {
   "cell_type": "code",
   "execution_count": 49,
   "metadata": {},
   "outputs": [
    {
     "data": {
      "text/html": [
       "<div>\n",
       "<style scoped>\n",
       "    .dataframe tbody tr th:only-of-type {\n",
       "        vertical-align: middle;\n",
       "    }\n",
       "\n",
       "    .dataframe tbody tr th {\n",
       "        vertical-align: top;\n",
       "    }\n",
       "\n",
       "    .dataframe thead th {\n",
       "        text-align: right;\n",
       "    }\n",
       "</style>\n",
       "<table border=\"1\" class=\"dataframe\">\n",
       "  <thead>\n",
       "    <tr style=\"text-align: right;\">\n",
       "      <th></th>\n",
       "      <th>Cluster 1</th>\n",
       "    </tr>\n",
       "  </thead>\n",
       "  <tbody>\n",
       "    <tr>\n",
       "      <th>BATTERY</th>\n",
       "      <td>39</td>\n",
       "    </tr>\n",
       "    <tr>\n",
       "      <th>THEFT</th>\n",
       "      <td>30</td>\n",
       "    </tr>\n",
       "    <tr>\n",
       "      <th>NARCOTICS</th>\n",
       "      <td>25</td>\n",
       "    </tr>\n",
       "    <tr>\n",
       "      <th>ASSAULT</th>\n",
       "      <td>19</td>\n",
       "    </tr>\n",
       "    <tr>\n",
       "      <th>CRIMINAL DAMAGE</th>\n",
       "      <td>15</td>\n",
       "    </tr>\n",
       "    <tr>\n",
       "      <th>Total</th>\n",
       "      <td>197</td>\n",
       "    </tr>\n",
       "  </tbody>\n",
       "</table>\n",
       "</div>"
      ],
      "text/plain": [
       "                 Cluster 1\n",
       "BATTERY                 39\n",
       "THEFT                   30\n",
       "NARCOTICS               25\n",
       "ASSAULT                 19\n",
       "CRIMINAL DAMAGE         15\n",
       "Total                  197"
      ]
     },
     "execution_count": 49,
     "metadata": {},
     "output_type": "execute_result"
    }
   ],
   "source": [
    "crimes_cluster_1=return_most_common_venues(chicago_crime_cluster.iloc[1,:-1],5,0)\n",
    "crime_1=pd.DataFrame(chicago_crime_cluster[crimes_cluster_1].loc[1,:])\n",
    "crime_1=crime_1.rename(columns={1:\"Cluster 1\"})\n",
    "crime_1.loc[\"Total\"]=[chicago_crime_cluster[\"Total_crimes\"][1]]\n",
    "crime_1.head(6)"
   ]
  },
  {
   "cell_type": "code",
   "execution_count": 50,
   "metadata": {},
   "outputs": [
    {
     "data": {
      "text/html": [
       "<div>\n",
       "<style scoped>\n",
       "    .dataframe tbody tr th:only-of-type {\n",
       "        vertical-align: middle;\n",
       "    }\n",
       "\n",
       "    .dataframe tbody tr th {\n",
       "        vertical-align: top;\n",
       "    }\n",
       "\n",
       "    .dataframe thead th {\n",
       "        text-align: right;\n",
       "    }\n",
       "</style>\n",
       "<table border=\"1\" class=\"dataframe\">\n",
       "  <thead>\n",
       "    <tr style=\"text-align: right;\">\n",
       "      <th></th>\n",
       "      <th>Cluster 2</th>\n",
       "    </tr>\n",
       "  </thead>\n",
       "  <tbody>\n",
       "    <tr>\n",
       "      <th>THEFT</th>\n",
       "      <td>22</td>\n",
       "    </tr>\n",
       "    <tr>\n",
       "      <th>BATTERY</th>\n",
       "      <td>16</td>\n",
       "    </tr>\n",
       "    <tr>\n",
       "      <th>NARCOTICS</th>\n",
       "      <td>15</td>\n",
       "    </tr>\n",
       "    <tr>\n",
       "      <th>CRIMINAL DAMAGE</th>\n",
       "      <td>14</td>\n",
       "    </tr>\n",
       "    <tr>\n",
       "      <th>OTHER OFFENSE</th>\n",
       "      <td>9</td>\n",
       "    </tr>\n",
       "    <tr>\n",
       "      <th>Total</th>\n",
       "      <td>105</td>\n",
       "    </tr>\n",
       "  </tbody>\n",
       "</table>\n",
       "</div>"
      ],
      "text/plain": [
       "                 Cluster 2\n",
       "THEFT                   22\n",
       "BATTERY                 16\n",
       "NARCOTICS               15\n",
       "CRIMINAL DAMAGE         14\n",
       "OTHER OFFENSE            9\n",
       "Total                  105"
      ]
     },
     "execution_count": 50,
     "metadata": {},
     "output_type": "execute_result"
    }
   ],
   "source": [
    "crimes_cluster_2=return_most_common_venues(chicago_crime_cluster.iloc[2,:-1],5,0)\n",
    "crime_2=pd.DataFrame(chicago_crime_cluster[crimes_cluster_2].loc[2,:])\n",
    "crime_2=crime_2.rename(columns={2:\"Cluster 2\"})\n",
    "crime_2.loc[\"Total\"]=[chicago_crime_cluster[\"Total_crimes\"][2]]\n",
    "crime_2.head(6)"
   ]
  },
  {
   "cell_type": "code",
   "execution_count": 51,
   "metadata": {},
   "outputs": [
    {
     "data": {
      "text/html": [
       "<div>\n",
       "<style scoped>\n",
       "    .dataframe tbody tr th:only-of-type {\n",
       "        vertical-align: middle;\n",
       "    }\n",
       "\n",
       "    .dataframe tbody tr th {\n",
       "        vertical-align: top;\n",
       "    }\n",
       "\n",
       "    .dataframe thead th {\n",
       "        text-align: right;\n",
       "    }\n",
       "</style>\n",
       "<table border=\"1\" class=\"dataframe\">\n",
       "  <thead>\n",
       "    <tr style=\"text-align: right;\">\n",
       "      <th></th>\n",
       "      <th>Cluster 3</th>\n",
       "    </tr>\n",
       "  </thead>\n",
       "  <tbody>\n",
       "    <tr>\n",
       "      <th>THEFT</th>\n",
       "      <td>18</td>\n",
       "    </tr>\n",
       "    <tr>\n",
       "      <th>CRIMINAL DAMAGE</th>\n",
       "      <td>14</td>\n",
       "    </tr>\n",
       "    <tr>\n",
       "      <th>BATTERY</th>\n",
       "      <td>12</td>\n",
       "    </tr>\n",
       "    <tr>\n",
       "      <th>OTHER OFFENSE</th>\n",
       "      <td>7</td>\n",
       "    </tr>\n",
       "    <tr>\n",
       "      <th>BURGLARY</th>\n",
       "      <td>6</td>\n",
       "    </tr>\n",
       "    <tr>\n",
       "      <th>Total</th>\n",
       "      <td>86</td>\n",
       "    </tr>\n",
       "  </tbody>\n",
       "</table>\n",
       "</div>"
      ],
      "text/plain": [
       "                 Cluster 3\n",
       "THEFT                   18\n",
       "CRIMINAL DAMAGE         14\n",
       "BATTERY                 12\n",
       "OTHER OFFENSE            7\n",
       "BURGLARY                 6\n",
       "Total                   86"
      ]
     },
     "execution_count": 51,
     "metadata": {},
     "output_type": "execute_result"
    }
   ],
   "source": [
    "crimes_cluster_3=return_most_common_venues(chicago_crime_cluster.iloc[3,:-1],5,0)\n",
    "crime_3=pd.DataFrame(chicago_crime_cluster[crimes_cluster_3].loc[3,:])\n",
    "crime_3=crime_3.rename(columns={3:\"Cluster 3\"})\n",
    "crime_3.loc[\"Total\"]=[chicago_crime_cluster[\"Total_crimes\"][3]]\n",
    "crime_3.head(6)"
   ]
  },
  {
   "cell_type": "markdown",
   "metadata": {},
   "source": [
    "Among the 5 most common crimes in each cluster there are 8 categories between all clusters:\n",
    "* Theft\n",
    "* Battery\n",
    "* Crimanl Damage\n",
    "* Narcotics\n",
    "* Other offense\n",
    "* Burglary\n",
    "* Assault\n",
    "* Deceptive practice\n",
    "\n",
    "I dismiss \"Other offense\" because is vague. I look correlations among the other offences and the venues in the community in which they were commited.\n",
    "\n",
    "Theft is the most common crime in 3 clusters, and it is the second most common in the other. "
   ]
  },
  {
   "cell_type": "markdown",
   "metadata": {},
   "source": [
    "# Correlations in crime and venues\n",
    "\n",
    "I am going to study the correlations of the most common crimes and the land use in each cluster."
   ]
  },
  {
   "cell_type": "code",
   "execution_count": 79,
   "metadata": {},
   "outputs": [
    {
     "data": {
      "text/plain": [
       "(69, 217)"
      ]
     },
     "execution_count": 79,
     "metadata": {},
     "output_type": "execute_result"
    }
   ],
   "source": [
    "chicago_venues_sum.shape"
   ]
  },
  {
   "cell_type": "code",
   "execution_count": 52,
   "metadata": {},
   "outputs": [],
   "source": [
    "chicago_crime_venues=pd.merge(chicago_venues_sum, chicago_crime_sum, on=\"COMMUNITY_AREA_NUMBER\");"
   ]
  },
  {
   "cell_type": "code",
   "execution_count": 53,
   "metadata": {},
   "outputs": [
    {
     "data": {
      "text/html": [
       "<div>\n",
       "<style scoped>\n",
       "    .dataframe tbody tr th:only-of-type {\n",
       "        vertical-align: middle;\n",
       "    }\n",
       "\n",
       "    .dataframe tbody tr th {\n",
       "        vertical-align: top;\n",
       "    }\n",
       "\n",
       "    .dataframe thead th {\n",
       "        text-align: right;\n",
       "    }\n",
       "</style>\n",
       "<table border=\"1\" class=\"dataframe\">\n",
       "  <thead>\n",
       "    <tr style=\"text-align: right;\">\n",
       "      <th></th>\n",
       "      <th>COMMUNITY_AREA_NUMBER</th>\n",
       "      <th>Cluster</th>\n",
       "      <th>COMMUNITY_AREA_NAME</th>\n",
       "      <th>ATM</th>\n",
       "      <th>Airport</th>\n",
       "      <th>Airport Lounge</th>\n",
       "      <th>Airport Service</th>\n",
       "      <th>American Restaurant</th>\n",
       "      <th>Antique Shop</th>\n",
       "      <th>Arcade</th>\n",
       "      <th>...</th>\n",
       "      <th>OTHER OFFENSE</th>\n",
       "      <th>PROSTITUTION</th>\n",
       "      <th>PUBLIC INDECENCY</th>\n",
       "      <th>PUBLIC PEACE VIOLATION</th>\n",
       "      <th>RITUALISM</th>\n",
       "      <th>ROBBERY</th>\n",
       "      <th>SEX OFFENSE</th>\n",
       "      <th>STALKING</th>\n",
       "      <th>THEFT</th>\n",
       "      <th>WEAPONS VIOLATION</th>\n",
       "    </tr>\n",
       "  </thead>\n",
       "  <tbody>\n",
       "    <tr>\n",
       "      <th>0</th>\n",
       "      <td>14.0</td>\n",
       "      <td>2</td>\n",
       "      <td>Albany Park</td>\n",
       "      <td>0</td>\n",
       "      <td>0</td>\n",
       "      <td>0</td>\n",
       "      <td>0</td>\n",
       "      <td>0</td>\n",
       "      <td>0</td>\n",
       "      <td>0</td>\n",
       "      <td>...</td>\n",
       "      <td>1</td>\n",
       "      <td>0</td>\n",
       "      <td>0</td>\n",
       "      <td>0</td>\n",
       "      <td>0</td>\n",
       "      <td>1</td>\n",
       "      <td>0</td>\n",
       "      <td>0</td>\n",
       "      <td>3</td>\n",
       "      <td>0</td>\n",
       "    </tr>\n",
       "    <tr>\n",
       "      <th>1</th>\n",
       "      <td>70.0</td>\n",
       "      <td>3</td>\n",
       "      <td>Ashburn</td>\n",
       "      <td>0</td>\n",
       "      <td>0</td>\n",
       "      <td>0</td>\n",
       "      <td>0</td>\n",
       "      <td>0</td>\n",
       "      <td>0</td>\n",
       "      <td>0</td>\n",
       "      <td>...</td>\n",
       "      <td>0</td>\n",
       "      <td>0</td>\n",
       "      <td>0</td>\n",
       "      <td>0</td>\n",
       "      <td>0</td>\n",
       "      <td>0</td>\n",
       "      <td>0</td>\n",
       "      <td>0</td>\n",
       "      <td>0</td>\n",
       "      <td>0</td>\n",
       "    </tr>\n",
       "    <tr>\n",
       "      <th>2</th>\n",
       "      <td>71.0</td>\n",
       "      <td>1</td>\n",
       "      <td>Auburn Gresham</td>\n",
       "      <td>0</td>\n",
       "      <td>0</td>\n",
       "      <td>0</td>\n",
       "      <td>0</td>\n",
       "      <td>0</td>\n",
       "      <td>0</td>\n",
       "      <td>0</td>\n",
       "      <td>...</td>\n",
       "      <td>0</td>\n",
       "      <td>0</td>\n",
       "      <td>1</td>\n",
       "      <td>0</td>\n",
       "      <td>1</td>\n",
       "      <td>1</td>\n",
       "      <td>0</td>\n",
       "      <td>0</td>\n",
       "      <td>1</td>\n",
       "      <td>0</td>\n",
       "    </tr>\n",
       "    <tr>\n",
       "      <th>3</th>\n",
       "      <td>25.0</td>\n",
       "      <td>1</td>\n",
       "      <td>Austin</td>\n",
       "      <td>0</td>\n",
       "      <td>0</td>\n",
       "      <td>0</td>\n",
       "      <td>0</td>\n",
       "      <td>0</td>\n",
       "      <td>0</td>\n",
       "      <td>0</td>\n",
       "      <td>...</td>\n",
       "      <td>2</td>\n",
       "      <td>1</td>\n",
       "      <td>0</td>\n",
       "      <td>0</td>\n",
       "      <td>0</td>\n",
       "      <td>1</td>\n",
       "      <td>0</td>\n",
       "      <td>0</td>\n",
       "      <td>8</td>\n",
       "      <td>1</td>\n",
       "    </tr>\n",
       "    <tr>\n",
       "      <th>4</th>\n",
       "      <td>45.0</td>\n",
       "      <td>3</td>\n",
       "      <td>Avalon Park</td>\n",
       "      <td>0</td>\n",
       "      <td>0</td>\n",
       "      <td>0</td>\n",
       "      <td>0</td>\n",
       "      <td>0</td>\n",
       "      <td>0</td>\n",
       "      <td>0</td>\n",
       "      <td>...</td>\n",
       "      <td>1</td>\n",
       "      <td>0</td>\n",
       "      <td>0</td>\n",
       "      <td>0</td>\n",
       "      <td>0</td>\n",
       "      <td>0</td>\n",
       "      <td>0</td>\n",
       "      <td>0</td>\n",
       "      <td>0</td>\n",
       "      <td>0</td>\n",
       "    </tr>\n",
       "  </tbody>\n",
       "</table>\n",
       "<p>5 rows × 252 columns</p>\n",
       "</div>"
      ],
      "text/plain": [
       "   COMMUNITY_AREA_NUMBER  Cluster COMMUNITY_AREA_NAME  ATM  Airport  \\\n",
       "0                   14.0        2         Albany Park    0        0   \n",
       "1                   70.0        3             Ashburn    0        0   \n",
       "2                   71.0        1      Auburn Gresham    0        0   \n",
       "3                   25.0        1              Austin    0        0   \n",
       "4                   45.0        3         Avalon Park    0        0   \n",
       "\n",
       "   Airport Lounge  Airport Service  American Restaurant  Antique Shop  Arcade  \\\n",
       "0               0                0                    0             0       0   \n",
       "1               0                0                    0             0       0   \n",
       "2               0                0                    0             0       0   \n",
       "3               0                0                    0             0       0   \n",
       "4               0                0                    0             0       0   \n",
       "\n",
       "         ...          OTHER OFFENSE  PROSTITUTION  PUBLIC INDECENCY  \\\n",
       "0        ...                      1             0                 0   \n",
       "1        ...                      0             0                 0   \n",
       "2        ...                      0             0                 1   \n",
       "3        ...                      2             1                 0   \n",
       "4        ...                      1             0                 0   \n",
       "\n",
       "   PUBLIC PEACE VIOLATION  RITUALISM  ROBBERY  SEX OFFENSE  STALKING  THEFT  \\\n",
       "0                       0          0        1            0         0      3   \n",
       "1                       0          0        0            0         0      0   \n",
       "2                       0          1        1            0         0      1   \n",
       "3                       0          0        1            0         0      8   \n",
       "4                       0          0        0            0         0      0   \n",
       "\n",
       "   WEAPONS VIOLATION  \n",
       "0                  0  \n",
       "1                  0  \n",
       "2                  0  \n",
       "3                  1  \n",
       "4                  0  \n",
       "\n",
       "[5 rows x 252 columns]"
      ]
     },
     "execution_count": 53,
     "metadata": {},
     "output_type": "execute_result"
    }
   ],
   "source": [
    "chicago_crime_venues.head()"
   ]
  },
  {
   "cell_type": "code",
   "execution_count": 54,
   "metadata": {},
   "outputs": [],
   "source": [
    "correlation_crime=chicago_crime_venues.corr()"
   ]
  },
  {
   "cell_type": "code",
   "execution_count": 82,
   "metadata": {},
   "outputs": [
    {
     "data": {
      "text/plain": [
       "Hotel                      0.329898\n",
       "Hockey Arena               0.283075\n",
       "Seafood Restaurant         0.282756\n",
       "New American Restaurant    0.275341\n",
       "Donut Shop                 0.265351\n",
       "Name: THEFT, dtype: float64"
      ]
     },
     "execution_count": 82,
     "metadata": {},
     "output_type": "execute_result"
    }
   ],
   "source": [
    "np.abs(correlation_crime[\"THEFT\"][2:217]).sort_values(ascending=False)[:5] # The range[2:221] selects the venues"
   ]
  },
  {
   "cell_type": "markdown",
   "metadata": {},
   "source": [
    "I will look for correlations in each cluster."
   ]
  },
  {
   "cell_type": "code",
   "execution_count": 56,
   "metadata": {},
   "outputs": [],
   "source": [
    "chicago_crime_venues_0=chicago_crime_venues[chicago_crime_venues[\"Cluster\"]==0]\n",
    "correlation_crime_0=chicago_crime_venues_0.corr()\n",
    "chicago_crime_venues_1=chicago_crime_venues[chicago_crime_venues[\"Cluster\"]==1]\n",
    "correlation_crime_1=chicago_crime_venues_1.corr()\n",
    "chicago_crime_venues_2=chicago_crime_venues[chicago_crime_venues[\"Cluster\"]==2]\n",
    "correlation_crime_2=chicago_crime_venues_2.corr()\n",
    "chicago_crime_venues_3=chicago_crime_venues[chicago_crime_venues[\"Cluster\"]==3]\n",
    "correlation_crime_3=chicago_crime_venues_3.corr()"
   ]
  },
  {
   "cell_type": "markdown",
   "metadata": {},
   "source": [
    "I look for correlation in theft within each cluster."
   ]
  },
  {
   "cell_type": "code",
   "execution_count": 83,
   "metadata": {},
   "outputs": [
    {
     "data": {
      "text/plain": [
       "Chinese Restaurant    0.591608\n",
       "Nightclub             0.586009\n",
       "Hotel                 0.545133\n",
       "Sushi Restaurant      0.512823\n",
       "Hockey Arena          0.479157\n",
       "Name: THEFT, dtype: float64"
      ]
     },
     "execution_count": 83,
     "metadata": {},
     "output_type": "execute_result"
    }
   ],
   "source": [
    "np.abs(correlation_crime_0[\"THEFT\"][2:217]).sort_values(ascending=False)[:5] # The range[2:221] selects the venues"
   ]
  },
  {
   "cell_type": "code",
   "execution_count": 84,
   "metadata": {},
   "outputs": [
    {
     "data": {
      "text/plain": [
       "Donut Shop            0.875439\n",
       "Sandwich Place        0.782350\n",
       "Seafood Restaurant    0.564444\n",
       "Wings Joint           0.418216\n",
       "Mexican Restaurant    0.418216\n",
       "Name: THEFT, dtype: float64"
      ]
     },
     "execution_count": 84,
     "metadata": {},
     "output_type": "execute_result"
    }
   ],
   "source": [
    "np.abs(correlation_crime_1[\"THEFT\"][2:217]).sort_values(ascending=False)[:5]"
   ]
  },
  {
   "cell_type": "code",
   "execution_count": 85,
   "metadata": {},
   "outputs": [
    {
     "data": {
      "text/plain": [
       "Liquor Store            0.668350\n",
       "Fast Food Restaurant    0.610313\n",
       "Recreation Center       0.571772\n",
       "Pizza Place             0.424822\n",
       "Currency Exchange       0.371305\n",
       "Name: THEFT, dtype: float64"
      ]
     },
     "execution_count": 85,
     "metadata": {},
     "output_type": "execute_result"
    }
   ],
   "source": [
    "np.abs(correlation_crime_2[\"THEFT\"][2:217]).sort_values(ascending=False)[:5]"
   ]
  },
  {
   "cell_type": "code",
   "execution_count": 86,
   "metadata": {},
   "outputs": [
    {
     "data": {
      "text/plain": [
       "Pharmacy               0.570544\n",
       "Restaurant             0.427908\n",
       "Fried Chicken Joint    0.420071\n",
       "Record Shop            0.410792\n",
       "Beer Store             0.312500\n",
       "Name: THEFT, dtype: float64"
      ]
     },
     "execution_count": 86,
     "metadata": {},
     "output_type": "execute_result"
    }
   ],
   "source": [
    "np.abs(correlation_crime_3[\"THEFT\"][2:217]).sort_values(ascending=False)[:5]"
   ]
  },
  {
   "cell_type": "markdown",
   "metadata": {},
   "source": [
    "I am going to create a heatmap for each cluster. In the heat map,  the \"y\" axis will be each of the most common crimes and the \"x\" axis will be venues in which a crime of the most common have a correltaion above 0.5 . For example in Theft in the cluster 0, there 4 venues with a correlation above 0.5 these venues will be added to the \"x\" axis. If there are no venues with a correlation above 0.5 only the venue with the highest correlation will be added. A maximum of 3 venues can be added per crime, this is done to have a small and easier to analyse heatmap. "
   ]
  },
  {
   "cell_type": "code",
   "execution_count": 61,
   "metadata": {},
   "outputs": [],
   "source": [
    "crimes_column=[\"THEFT\",\"BATTERY\",\"CRIMINAL DAMAGE\",\"NARCOTICS\",\"BURGLARY\",\"ASSAULT\",\"DECEPTIVE PRACTICE\"]"
   ]
  },
  {
   "cell_type": "markdown",
   "metadata": {},
   "source": [
    "## Cluster 0\n",
    "\n",
    "I write the \"x\" axis"
   ]
  },
  {
   "cell_type": "code",
   "execution_count": 87,
   "metadata": {},
   "outputs": [],
   "source": [
    "x_axis=[]\n",
    "maximum_per_crime=3\n",
    "for j in crimes_column:\n",
    "    common_venues=np.abs(correlation_crime_0[j][2:217]).sort_values(ascending=False)[:5].index\n",
    "    x_axis.append(common_venues[0])\n",
    "    for i in range(1,maximum_per_crime):\n",
    "        if np.abs(correlation_crime_0[j][2:217]).sort_values(ascending=False)[i]>0.5:\n",
    "            x_axis.append(common_venues[i])\n",
    "            \n",
    "#Eliminate all possible duplicates\n",
    "x_axis = list(set(x_axis))"
   ]
  },
  {
   "cell_type": "markdown",
   "metadata": {},
   "source": [
    "I create a Dataframe with 3 columns: most common crimes, venues in the list x_axis, and the absolute value of the correlations. A row in this frame will contain a crime, a venue and their correlation. Therefore for each crime there will be $n$ rows where $n$ is the number of venues in the x_axis.\n",
    "To create that type of columns I wrote the next function:"
   ]
  },
  {
   "cell_type": "code",
   "execution_count": 63,
   "metadata": {},
   "outputs": [],
   "source": [
    "def another_list_multiplication(old_list,number):\n",
    "    new_list=[old_list[0]]*number\n",
    "    length=len(old_list)\n",
    "    for i in range(1,length):\n",
    "        new_list=new_list+[old_list[i]]*number\n",
    "    return new_list"
   ]
  },
  {
   "cell_type": "markdown",
   "metadata": {},
   "source": [
    "An example of the last function"
   ]
  },
  {
   "cell_type": "code",
   "execution_count": 64,
   "metadata": {},
   "outputs": [
    {
     "data": {
      "text/plain": [
       "['perro', 'perro', 'gato', 'gato', 'pez', 'pez']"
      ]
     },
     "execution_count": 64,
     "metadata": {},
     "output_type": "execute_result"
    }
   ],
   "source": [
    "añgo=[\"perro\",\"gato\",\"pez\"]\n",
    "another_list_multiplication(añgo,2)"
   ]
  },
  {
   "cell_type": "code",
   "execution_count": 88,
   "metadata": {},
   "outputs": [],
   "source": [
    "column_crimes=another_list_multiplication(crimes_column,len(x_axis))\n",
    "column_venues=x_axis*len(crimes_column)\n",
    "#Correlation column\n",
    "column_correlation=np.zeros(len(column_venues))\n",
    "for i in range(len(column_venues)):\n",
    "    column_correlation[i]=np.abs(correlation_crime_0[column_crimes[i]][column_venues[i]])"
   ]
  },
  {
   "cell_type": "code",
   "execution_count": 89,
   "metadata": {},
   "outputs": [],
   "source": [
    "heatmap_crimes_venues_0=pd.DataFrame({\"Crime\":column_crimes,\"Venues\":column_venues,\"Correlations\":column_correlation})"
   ]
  },
  {
   "cell_type": "code",
   "execution_count": 90,
   "metadata": {},
   "outputs": [],
   "source": [
    "heatmap_crimes_venues_0=heatmap_crimes_venues_0.pivot(\"Crime\",\"Venues\",\"Correlations\")"
   ]
  },
  {
   "cell_type": "code",
   "execution_count": 91,
   "metadata": {},
   "outputs": [
    {
     "data": {
      "text/html": [
       "<div>\n",
       "<style scoped>\n",
       "    .dataframe tbody tr th:only-of-type {\n",
       "        vertical-align: middle;\n",
       "    }\n",
       "\n",
       "    .dataframe tbody tr th {\n",
       "        vertical-align: top;\n",
       "    }\n",
       "\n",
       "    .dataframe thead th {\n",
       "        text-align: right;\n",
       "    }\n",
       "</style>\n",
       "<table border=\"1\" class=\"dataframe\">\n",
       "  <thead>\n",
       "    <tr style=\"text-align: right;\">\n",
       "      <th>Venues</th>\n",
       "      <th>Art Museum</th>\n",
       "      <th>Boutique</th>\n",
       "      <th>Brewery</th>\n",
       "      <th>Chinese Restaurant</th>\n",
       "      <th>Clothing Store</th>\n",
       "      <th>Discount Store</th>\n",
       "      <th>Dive Bar</th>\n",
       "      <th>Dog Run</th>\n",
       "      <th>Ethiopian Restaurant</th>\n",
       "      <th>Food &amp; Drink Shop</th>\n",
       "      <th>German Restaurant</th>\n",
       "      <th>Hotel</th>\n",
       "      <th>Japanese Restaurant</th>\n",
       "      <th>Nightclub</th>\n",
       "      <th>Optical Shop</th>\n",
       "      <th>Spa</th>\n",
       "      <th>Train Station</th>\n",
       "      <th>Wings Joint</th>\n",
       "    </tr>\n",
       "    <tr>\n",
       "      <th>Crime</th>\n",
       "      <th></th>\n",
       "      <th></th>\n",
       "      <th></th>\n",
       "      <th></th>\n",
       "      <th></th>\n",
       "      <th></th>\n",
       "      <th></th>\n",
       "      <th></th>\n",
       "      <th></th>\n",
       "      <th></th>\n",
       "      <th></th>\n",
       "      <th></th>\n",
       "      <th></th>\n",
       "      <th></th>\n",
       "      <th></th>\n",
       "      <th></th>\n",
       "      <th></th>\n",
       "      <th></th>\n",
       "    </tr>\n",
       "  </thead>\n",
       "  <tbody>\n",
       "    <tr>\n",
       "      <th>ASSAULT</th>\n",
       "      <td>0.161165</td>\n",
       "      <td>0.168550</td>\n",
       "      <td>0.236525</td>\n",
       "      <td>0.426401</td>\n",
       "      <td>0.168550</td>\n",
       "      <td>0.161165</td>\n",
       "      <td>0.280400</td>\n",
       "      <td>0.161165</td>\n",
       "      <td>0.161165</td>\n",
       "      <td>0.236525</td>\n",
       "      <td>0.301511</td>\n",
       "      <td>0.229194</td>\n",
       "      <td>0.289061</td>\n",
       "      <td>0.650444</td>\n",
       "      <td>0.443203</td>\n",
       "      <td>0.345425</td>\n",
       "      <td>0.508225</td>\n",
       "      <td>0.161165</td>\n",
       "    </tr>\n",
       "    <tr>\n",
       "      <th>BATTERY</th>\n",
       "      <td>0.285714</td>\n",
       "      <td>0.149404</td>\n",
       "      <td>0.026207</td>\n",
       "      <td>0.519701</td>\n",
       "      <td>0.149404</td>\n",
       "      <td>0.250000</td>\n",
       "      <td>0.147575</td>\n",
       "      <td>0.285714</td>\n",
       "      <td>0.250000</td>\n",
       "      <td>0.026207</td>\n",
       "      <td>0.367484</td>\n",
       "      <td>0.246693</td>\n",
       "      <td>0.640563</td>\n",
       "      <td>0.615867</td>\n",
       "      <td>0.285714</td>\n",
       "      <td>0.699854</td>\n",
       "      <td>0.264082</td>\n",
       "      <td>0.250000</td>\n",
       "    </tr>\n",
       "    <tr>\n",
       "      <th>BURGLARY</th>\n",
       "      <td>0.681385</td>\n",
       "      <td>0.109632</td>\n",
       "      <td>0.423077</td>\n",
       "      <td>0.277350</td>\n",
       "      <td>0.109632</td>\n",
       "      <td>0.104828</td>\n",
       "      <td>0.501557</td>\n",
       "      <td>0.681385</td>\n",
       "      <td>0.104828</td>\n",
       "      <td>0.423077</td>\n",
       "      <td>0.784465</td>\n",
       "      <td>0.170375</td>\n",
       "      <td>0.300828</td>\n",
       "      <td>0.153846</td>\n",
       "      <td>0.104828</td>\n",
       "      <td>0.385164</td>\n",
       "      <td>0.159586</td>\n",
       "      <td>0.104828</td>\n",
       "    </tr>\n",
       "    <tr>\n",
       "      <th>CRIMINAL DAMAGE</th>\n",
       "      <td>0.204479</td>\n",
       "      <td>0.427699</td>\n",
       "      <td>0.825258</td>\n",
       "      <td>0.135250</td>\n",
       "      <td>0.320775</td>\n",
       "      <td>0.204479</td>\n",
       "      <td>0.755991</td>\n",
       "      <td>0.204479</td>\n",
       "      <td>0.204479</td>\n",
       "      <td>0.825258</td>\n",
       "      <td>0.255031</td>\n",
       "      <td>0.166167</td>\n",
       "      <td>0.513449</td>\n",
       "      <td>0.112535</td>\n",
       "      <td>0.051120</td>\n",
       "      <td>0.333914</td>\n",
       "      <td>0.355761</td>\n",
       "      <td>0.204479</td>\n",
       "    </tr>\n",
       "    <tr>\n",
       "      <th>DECEPTIVE PRACTICE</th>\n",
       "      <td>0.173702</td>\n",
       "      <td>0.726648</td>\n",
       "      <td>0.291343</td>\n",
       "      <td>0.262613</td>\n",
       "      <td>0.570938</td>\n",
       "      <td>0.173702</td>\n",
       "      <td>0.345386</td>\n",
       "      <td>0.173702</td>\n",
       "      <td>0.173702</td>\n",
       "      <td>0.291343</td>\n",
       "      <td>0.139272</td>\n",
       "      <td>0.201652</td>\n",
       "      <td>0.498476</td>\n",
       "      <td>0.018209</td>\n",
       "      <td>0.570735</td>\n",
       "      <td>0.486265</td>\n",
       "      <td>0.302213</td>\n",
       "      <td>0.173702</td>\n",
       "    </tr>\n",
       "  </tbody>\n",
       "</table>\n",
       "</div>"
      ],
      "text/plain": [
       "Venues              Art Museum  Boutique   Brewery  Chinese Restaurant  \\\n",
       "Crime                                                                    \n",
       "ASSAULT               0.161165  0.168550  0.236525            0.426401   \n",
       "BATTERY               0.285714  0.149404  0.026207            0.519701   \n",
       "BURGLARY              0.681385  0.109632  0.423077            0.277350   \n",
       "CRIMINAL DAMAGE       0.204479  0.427699  0.825258            0.135250   \n",
       "DECEPTIVE PRACTICE    0.173702  0.726648  0.291343            0.262613   \n",
       "\n",
       "Venues              Clothing Store  Discount Store  Dive Bar   Dog Run  \\\n",
       "Crime                                                                    \n",
       "ASSAULT                   0.168550        0.161165  0.280400  0.161165   \n",
       "BATTERY                   0.149404        0.250000  0.147575  0.285714   \n",
       "BURGLARY                  0.109632        0.104828  0.501557  0.681385   \n",
       "CRIMINAL DAMAGE           0.320775        0.204479  0.755991  0.204479   \n",
       "DECEPTIVE PRACTICE        0.570938        0.173702  0.345386  0.173702   \n",
       "\n",
       "Venues              Ethiopian Restaurant  Food & Drink Shop  \\\n",
       "Crime                                                         \n",
       "ASSAULT                         0.161165           0.236525   \n",
       "BATTERY                         0.250000           0.026207   \n",
       "BURGLARY                        0.104828           0.423077   \n",
       "CRIMINAL DAMAGE                 0.204479           0.825258   \n",
       "DECEPTIVE PRACTICE              0.173702           0.291343   \n",
       "\n",
       "Venues              German Restaurant     Hotel  Japanese Restaurant  \\\n",
       "Crime                                                                  \n",
       "ASSAULT                      0.301511  0.229194             0.289061   \n",
       "BATTERY                      0.367484  0.246693             0.640563   \n",
       "BURGLARY                     0.784465  0.170375             0.300828   \n",
       "CRIMINAL DAMAGE              0.255031  0.166167             0.513449   \n",
       "DECEPTIVE PRACTICE           0.139272  0.201652             0.498476   \n",
       "\n",
       "Venues              Nightclub  Optical Shop       Spa  Train Station  \\\n",
       "Crime                                                                  \n",
       "ASSAULT              0.650444      0.443203  0.345425       0.508225   \n",
       "BATTERY              0.615867      0.285714  0.699854       0.264082   \n",
       "BURGLARY             0.153846      0.104828  0.385164       0.159586   \n",
       "CRIMINAL DAMAGE      0.112535      0.051120  0.333914       0.355761   \n",
       "DECEPTIVE PRACTICE   0.018209      0.570735  0.486265       0.302213   \n",
       "\n",
       "Venues              Wings Joint  \n",
       "Crime                            \n",
       "ASSAULT                0.161165  \n",
       "BATTERY                0.250000  \n",
       "BURGLARY               0.104828  \n",
       "CRIMINAL DAMAGE        0.204479  \n",
       "DECEPTIVE PRACTICE     0.173702  "
      ]
     },
     "execution_count": 91,
     "metadata": {},
     "output_type": "execute_result"
    }
   ],
   "source": [
    "heatmap_crimes_venues_0.head()"
   ]
  },
  {
   "cell_type": "code",
   "execution_count": 114,
   "metadata": {},
   "outputs": [
    {
     "data": {
      "image/png": "[encoded data removed]",
      "text/plain": [
       "<Figure size 1800x1080 with 2 Axes>"
      ]
     },
     "metadata": {
      "needs_background": "light"
     },
     "output_type": "display_data"
    }
   ],
   "source": [
    "fig=plt.figure(figsize=(25,15))\n",
    "sns.heatmap(heatmap_crimes_venues_0, cmap=\"seismic\")\n",
    "#plt.title(\"Correlation in cluster 0\", size=20)\n",
    "plt.savefig(\"Heatmap_cluster_0.png\")\n",
    "plt.show()"
   ]
  },
  {
   "cell_type": "markdown",
   "metadata": {},
   "source": [
    "In the next clusters I only use the previous code.\n",
    "\n",
    "## Cluster 1"
   ]
  },
  {
   "cell_type": "code",
   "execution_count": 94,
   "metadata": {},
   "outputs": [],
   "source": [
    "x_axis_1=[]\n",
    "maximum_per_crime=3\n",
    "for j in crimes_column:\n",
    "    common_venues=np.abs(correlation_crime_1[j][2:217]).sort_values(ascending=False)[:5].index\n",
    "    x_axis_1.append(common_venues[0])\n",
    "    for i in range(1,maximum_per_crime):\n",
    "        if np.abs(correlation_crime_1[j][2:217]).sort_values(ascending=False)[i]>0.5:\n",
    "            x_axis_1.append(common_venues[i])\n",
    "            \n",
    "#Eliminate all possible duplicates\n",
    "x_axis_1 = list(set(x_axis_1))\n",
    "column_crimes_1=another_list_multiplication(crimes_column,len(x_axis_1))\n",
    "column_venues_1=x_axis_1*len(crimes_column)\n",
    "#Correlation column\n",
    "column_correlation_1=np.zeros(len(column_venues_1))\n",
    "for i in range(len(column_venues_1)):\n",
    "    column_correlation_1[i]=np.abs(correlation_crime_1[column_crimes_1[i]][column_venues_1[i]])\n",
    "    \n",
    "heatmap_crimes_venues_1=pd.DataFrame({\"Crime\":column_crimes_1,\"Venues\":column_venues_1,\"Correlations\":column_correlation_1})\n",
    "heatmap_crimes_venues_1=heatmap_crimes_venues_1.pivot(\"Crime\",\"Venues\",\"Correlations\")"
   ]
  },
  {
   "cell_type": "code",
   "execution_count": 100,
   "metadata": {},
   "outputs": [
    {
     "data": {
      "image/png": "[encoded data removed]",
      "text/plain": [
       "<Figure size 1656x1080 with 2 Axes>"
      ]
     },
     "metadata": {
      "needs_background": "light"
     },
     "output_type": "display_data"
    }
   ],
   "source": [
    "fig=plt.figure(figsize=(23,15))\n",
    "sns.heatmap(heatmap_crimes_venues_1, cmap=\"seismic\")\n",
    "plt.title(\"Correlation in cluster 1\",size=20)\n",
    "plt.savefig(\"Heatmap_cluster_1.png\")\n",
    "plt.show()"
   ]
  },
  {
   "cell_type": "code",
   "execution_count": 72,
   "metadata": {},
   "outputs": [
    {
     "data": {
      "text/html": [
       "<div>\n",
       "<style scoped>\n",
       "    .dataframe tbody tr th:only-of-type {\n",
       "        vertical-align: middle;\n",
       "    }\n",
       "\n",
       "    .dataframe tbody tr th {\n",
       "        vertical-align: top;\n",
       "    }\n",
       "\n",
       "    .dataframe thead th {\n",
       "        text-align: right;\n",
       "    }\n",
       "</style>\n",
       "<table border=\"1\" class=\"dataframe\">\n",
       "  <thead>\n",
       "    <tr style=\"text-align: right;\">\n",
       "      <th>Venues</th>\n",
       "      <th>ASSAULT</th>\n",
       "      <th>BATTERY</th>\n",
       "      <th>BURGLARY</th>\n",
       "      <th>Bar</th>\n",
       "      <th>CONCEALED CARRY LICENSE VIOLATION</th>\n",
       "      <th>Donut Shop</th>\n",
       "      <th>Sandwich Place</th>\n",
       "      <th>Video Store</th>\n",
       "    </tr>\n",
       "    <tr>\n",
       "      <th>Crime</th>\n",
       "      <th></th>\n",
       "      <th></th>\n",
       "      <th></th>\n",
       "      <th></th>\n",
       "      <th></th>\n",
       "      <th></th>\n",
       "      <th></th>\n",
       "      <th></th>\n",
       "    </tr>\n",
       "  </thead>\n",
       "  <tbody>\n",
       "    <tr>\n",
       "      <th>ASSAULT</th>\n",
       "      <td>1.000000</td>\n",
       "      <td>0.577225</td>\n",
       "      <td>0.486126</td>\n",
       "      <td>0.000000</td>\n",
       "      <td>0.562731</td>\n",
       "      <td>0.818895</td>\n",
       "      <td>0.513701</td>\n",
       "      <td>0.000000</td>\n",
       "    </tr>\n",
       "    <tr>\n",
       "      <th>BATTERY</th>\n",
       "      <td>0.577225</td>\n",
       "      <td>1.000000</td>\n",
       "      <td>0.696811</td>\n",
       "      <td>0.222396</td>\n",
       "      <td>0.782268</td>\n",
       "      <td>0.708652</td>\n",
       "      <td>0.366040</td>\n",
       "      <td>0.150777</td>\n",
       "    </tr>\n",
       "    <tr>\n",
       "      <th>BURGLARY</th>\n",
       "      <td>0.486126</td>\n",
       "      <td>0.696811</td>\n",
       "      <td>1.000000</td>\n",
       "      <td>0.125711</td>\n",
       "      <td>0.633504</td>\n",
       "      <td>0.722840</td>\n",
       "      <td>0.488932</td>\n",
       "      <td>0.073332</td>\n",
       "    </tr>\n",
       "    <tr>\n",
       "      <th>CRIMINAL DAMAGE</th>\n",
       "      <td>0.218629</td>\n",
       "      <td>0.378897</td>\n",
       "      <td>0.377578</td>\n",
       "      <td>0.094229</td>\n",
       "      <td>0.372326</td>\n",
       "      <td>0.318021</td>\n",
       "      <td>0.647261</td>\n",
       "      <td>0.129564</td>\n",
       "    </tr>\n",
       "    <tr>\n",
       "      <th>DECEPTIVE PRACTICE</th>\n",
       "      <td>0.321561</td>\n",
       "      <td>0.202043</td>\n",
       "      <td>0.382570</td>\n",
       "      <td>0.519719</td>\n",
       "      <td>0.357143</td>\n",
       "      <td>0.190564</td>\n",
       "      <td>0.039123</td>\n",
       "      <td>0.519719</td>\n",
       "    </tr>\n",
       "  </tbody>\n",
       "</table>\n",
       "</div>"
      ],
      "text/plain": [
       "Venues               ASSAULT   BATTERY  BURGLARY       Bar  \\\n",
       "Crime                                                        \n",
       "ASSAULT             1.000000  0.577225  0.486126  0.000000   \n",
       "BATTERY             0.577225  1.000000  0.696811  0.222396   \n",
       "BURGLARY            0.486126  0.696811  1.000000  0.125711   \n",
       "CRIMINAL DAMAGE     0.218629  0.378897  0.377578  0.094229   \n",
       "DECEPTIVE PRACTICE  0.321561  0.202043  0.382570  0.519719   \n",
       "\n",
       "Venues              CONCEALED CARRY LICENSE VIOLATION  Donut Shop  \\\n",
       "Crime                                                               \n",
       "ASSAULT                                      0.562731    0.818895   \n",
       "BATTERY                                      0.782268    0.708652   \n",
       "BURGLARY                                     0.633504    0.722840   \n",
       "CRIMINAL DAMAGE                              0.372326    0.318021   \n",
       "DECEPTIVE PRACTICE                           0.357143    0.190564   \n",
       "\n",
       "Venues              Sandwich Place  Video Store  \n",
       "Crime                                            \n",
       "ASSAULT                   0.513701     0.000000  \n",
       "BATTERY                   0.366040     0.150777  \n",
       "BURGLARY                  0.488932     0.073332  \n",
       "CRIMINAL DAMAGE           0.647261     0.129564  \n",
       "DECEPTIVE PRACTICE        0.039123     0.519719  "
      ]
     },
     "execution_count": 72,
     "metadata": {},
     "output_type": "execute_result"
    }
   ],
   "source": [
    "heatmap_crimes_venues_1.head()"
   ]
  },
  {
   "cell_type": "markdown",
   "metadata": {},
   "source": [
    "## Cluster 2"
   ]
  },
  {
   "cell_type": "code",
   "execution_count": 96,
   "metadata": {},
   "outputs": [],
   "source": [
    "x_axis_2=[]\n",
    "maximum_per_crime=3\n",
    "for j in crimes_column:\n",
    "    common_venues=np.abs(correlation_crime_2[j][2:217]).sort_values(ascending=False)[:5].index\n",
    "    x_axis_2.append(common_venues[0])\n",
    "    for i in range(1,maximum_per_crime):\n",
    "        if np.abs(correlation_crime_2[j][2:217]).sort_values(ascending=False)[i]>0.5:\n",
    "            x_axis_2.append(common_venues[i])\n",
    "            \n",
    "#Eliminate all possible duplicates\n",
    "x_axis_2 = list(set(x_axis_2))\n",
    "column_crimes_2=another_list_multiplication(crimes_column,len(x_axis_2))\n",
    "column_venues_2=x_axis_2*len(crimes_column)\n",
    "#Correlation column\n",
    "column_correlation_2=np.zeros(len(column_venues_2))\n",
    "for i in range(len(column_venues_2)):\n",
    "    column_correlation_2[i]=np.abs(correlation_crime_2[column_crimes_2[i]][column_venues_2[i]])\n",
    "    \n",
    "heatmap_crimes_venues_2=pd.DataFrame({\"Crime\":column_crimes_2,\"Venues\":column_venues_2,\"Correlations\":column_correlation_2})\n",
    "heatmap_crimes_venues_2=heatmap_crimes_venues_2.pivot(\"Crime\",\"Venues\",\"Correlations\")"
   ]
  },
  {
   "cell_type": "code",
   "execution_count": 113,
   "metadata": {},
   "outputs": [
    {
     "data": {
      "image/png": "[encoded data removed]",
      "text/plain": [
       "<Figure size 1440x720 with 2 Axes>"
      ]
     },
     "metadata": {
      "needs_background": "light"
     },
     "output_type": "display_data"
    }
   ],
   "source": [
    "fig=plt.figure(figsize=(20,10))\n",
    "sns.heatmap(heatmap_crimes_venues_2, cmap=\"seismic\")\n",
    "#plt.title(\"Correlation in cluster 2\",size=20)\n",
    "plt.savefig(\"Heatmap_cluster_2.png\")\n",
    "plt.show()"
   ]
  },
  {
   "cell_type": "markdown",
   "metadata": {},
   "source": [
    "## Cluster 3"
   ]
  },
  {
   "cell_type": "code",
   "execution_count": 98,
   "metadata": {},
   "outputs": [],
   "source": [
    "x_axis_3=[]\n",
    "maximum_per_crime=3\n",
    "for j in crimes_column:\n",
    "    common_venues=np.abs(correlation_crime_3[j][2:217]).sort_values(ascending=False)[:5].index\n",
    "    x_axis_3.append(common_venues[0])\n",
    "    for i in range(1,maximum_per_crime):\n",
    "        if np.abs(correlation_crime_3[j][2:217]).sort_values(ascending=False)[i]>0.5:\n",
    "            x_axis_3.append(common_venues[i])\n",
    "            \n",
    "#Eliminate all possible duplicates\n",
    "x_axis_3 = list(set(x_axis_3))\n",
    "column_crimes_3=another_list_multiplication(crimes_column,len(x_axis_3))\n",
    "column_venues_3=x_axis_3*len(crimes_column)\n",
    "#Correlation column\n",
    "column_correlation_3=np.zeros(len(column_venues_3))\n",
    "for i in range(len(column_venues_3)):\n",
    "    column_correlation_3[i]=np.abs(correlation_crime_3[column_crimes_3[i]][column_venues_3[i]])\n",
    "    \n",
    "heatmap_crimes_venues_3=pd.DataFrame({\"Crime\":column_crimes_3,\"Venues\":column_venues_3,\"Correlations\":column_correlation_3})\n",
    "heatmap_crimes_venues_3=heatmap_crimes_venues_3.pivot(\"Crime\",\"Venues\",\"Correlations\")"
   ]
  },
  {
   "cell_type": "code",
   "execution_count": 99,
   "metadata": {},
   "outputs": [
    {
     "data": {
      "image/png": "[encoded data removed]",
      "text/plain": [
       "<Figure size 1440x720 with 2 Axes>"
      ]
     },
     "metadata": {
      "needs_background": "light"
     },
     "output_type": "display_data"
    }
   ],
   "source": [
    "fig=plt.figure(figsize=(20,10))\n",
    "sns.heatmap(heatmap_crimes_venues_3, cmap=\"seismic\")\n",
    "plt.title(\"Correlation in cluster 3\")\n",
    "plt.savefig(\"Heatmap_cluster_3.png\")\n",
    "plt.show()"
   ]
  },
  {
   "cell_type": "code",
   "execution_count": null,
   "metadata": {},
   "outputs": [],
   "source": []
  }
 ],
 "metadata": {
  "kernelspec": {
   "display_name": "Python 3",
   "language": "python",
   "name": "python3"
  },
  "language_info": {
   "codemirror_mode": {
    "name": "ipython",
    "version": 3
   },
   "file_extension": ".py",
   "mimetype": "text/x-python",
   "name": "python",
   "nbconvert_exporter": "python",
   "pygments_lexer": "ipython3",
   "version": "3.7.1"
  }
 },
 "nbformat": 4,
 "nbformat_minor": 2
}
